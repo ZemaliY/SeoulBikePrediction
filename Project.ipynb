{
 "cells": [
  {
   "cell_type": "markdown",
   "metadata": {},
   "source": [
    "# Projet Python Data Analysis"
   ]
  },
  {
   "cell_type": "markdown",
   "metadata": {},
   "source": [
    "Le but de ce projet est de prédire le nombre de vélos loués à Séoul pendant un certain jours. \n",
    "Pour cela, un jeu de données contenant le nombre de vélos publics loués à chaque heure à Séoul nous est fourni. \n",
    "Il s'agit d'un problème de régression. Nous allons d'abord explorer les données, les préparer puis les visualiser. \n",
    "Nous pourrons ensuite utiliser des modèles de prédiction."
   ]
  },
  {
   "cell_type": "code",
   "execution_count": 6,
   "metadata": {},
   "outputs": [],
   "source": [
    "import pandas as pd\n",
    "import matplotlib.pyplot as plt\n",
    "import numpy as np\n",
    "import math\n",
    "\n",
    "from sklearn.preprocessing import MinMaxScaler\n",
    "from sklearn.model_selection import train_test_split\n",
    "\n",
    "from sklearn.metrics import mean_squared_error\n",
    "from sklearn.metrics import r2_score\n",
    "from sklearn.model_selection import GridSearchCV\n",
    "\n",
    "from sklearn.linear_model import LinearRegression\n",
    "from sklearn.ensemble import RandomForestRegressor\n",
    "from sklearn.ensemble import GradientBoostingRegressor\n",
    "from xgboost import XGBRegressor\n",
    "\n",
    "import pickle\n",
    "from sklearn.externals import joblib\n",
    "from sklearn.preprocessing import OneHotEncoder"
   ]
  },
  {
   "cell_type": "markdown",
   "metadata": {},
   "source": [
    "## Import Data"
   ]
  },
  {
   "cell_type": "code",
   "execution_count": 7,
   "metadata": {},
   "outputs": [],
   "source": [
    "df = pd.read_csv(\"SeoulBikeData.csv\",encoding='unicode_escape')"
   ]
  },
  {
   "cell_type": "code",
   "execution_count": 8,
   "metadata": {},
   "outputs": [
    {
     "data": {
      "text/plain": [
       "(8760, 14)"
      ]
     },
     "execution_count": 8,
     "metadata": {},
     "output_type": "execute_result"
    }
   ],
   "source": [
    "df.shape"
   ]
  },
  {
   "cell_type": "code",
   "execution_count": 9,
   "metadata": {},
   "outputs": [
    {
     "data": {
      "text/plain": [
       "Index(['Date', 'Rented Bike Count', 'Hour', 'Temperature(°C)', 'Humidity(%)',\n",
       "       'Wind speed (m/s)', 'Visibility (10m)', 'Dew point temperature(°C)',\n",
       "       'Solar Radiation (MJ/m2)', 'Rainfall(mm)', 'Snowfall (cm)', 'Seasons',\n",
       "       'Holiday', 'Functioning Day'],\n",
       "      dtype='object')"
      ]
     },
     "execution_count": 9,
     "metadata": {},
     "output_type": "execute_result"
    }
   ],
   "source": [
    "df.columns"
   ]
  },
  {
   "cell_type": "code",
   "execution_count": 10,
   "metadata": {},
   "outputs": [],
   "source": [
    "typecol=[type(df[x]) for x in df.columns]"
   ]
  },
  {
   "cell_type": "code",
   "execution_count": 11,
   "metadata": {},
   "outputs": [
    {
     "data": {
      "text/plain": [
       "Date                          object\n",
       "Rented Bike Count              int64\n",
       "Hour                           int64\n",
       "Temperature(°C)              float64\n",
       "Humidity(%)                    int64\n",
       "Wind speed (m/s)             float64\n",
       "Visibility (10m)               int64\n",
       "Dew point temperature(°C)    float64\n",
       "Solar Radiation (MJ/m2)      float64\n",
       "Rainfall(mm)                 float64\n",
       "Snowfall (cm)                float64\n",
       "Seasons                       object\n",
       "Holiday                       object\n",
       "Functioning Day               object\n",
       "dtype: object"
      ]
     },
     "execution_count": 11,
     "metadata": {},
     "output_type": "execute_result"
    }
   ],
   "source": [
    "df.dtypes #changer type des variables"
   ]
  },
  {
   "cell_type": "code",
   "execution_count": 12,
   "metadata": {},
   "outputs": [
    {
     "data": {
      "text/html": [
       "<div>\n",
       "<style scoped>\n",
       "    .dataframe tbody tr th:only-of-type {\n",
       "        vertical-align: middle;\n",
       "    }\n",
       "\n",
       "    .dataframe tbody tr th {\n",
       "        vertical-align: top;\n",
       "    }\n",
       "\n",
       "    .dataframe thead th {\n",
       "        text-align: right;\n",
       "    }\n",
       "</style>\n",
       "<table border=\"1\" class=\"dataframe\">\n",
       "  <thead>\n",
       "    <tr style=\"text-align: right;\">\n",
       "      <th></th>\n",
       "      <th>Date</th>\n",
       "      <th>Rented Bike Count</th>\n",
       "      <th>Hour</th>\n",
       "      <th>Temperature(°C)</th>\n",
       "      <th>Humidity(%)</th>\n",
       "      <th>Wind speed (m/s)</th>\n",
       "      <th>Visibility (10m)</th>\n",
       "      <th>Dew point temperature(°C)</th>\n",
       "      <th>Solar Radiation (MJ/m2)</th>\n",
       "      <th>Rainfall(mm)</th>\n",
       "      <th>Snowfall (cm)</th>\n",
       "      <th>Seasons</th>\n",
       "      <th>Holiday</th>\n",
       "      <th>Functioning Day</th>\n",
       "    </tr>\n",
       "  </thead>\n",
       "  <tbody>\n",
       "    <tr>\n",
       "      <th>0</th>\n",
       "      <td>01/12/2017</td>\n",
       "      <td>254</td>\n",
       "      <td>0</td>\n",
       "      <td>-5.2</td>\n",
       "      <td>37</td>\n",
       "      <td>2.2</td>\n",
       "      <td>2000</td>\n",
       "      <td>-17.6</td>\n",
       "      <td>0.00</td>\n",
       "      <td>0.0</td>\n",
       "      <td>0.0</td>\n",
       "      <td>Winter</td>\n",
       "      <td>No Holiday</td>\n",
       "      <td>Yes</td>\n",
       "    </tr>\n",
       "    <tr>\n",
       "      <th>1</th>\n",
       "      <td>01/12/2017</td>\n",
       "      <td>204</td>\n",
       "      <td>1</td>\n",
       "      <td>-5.5</td>\n",
       "      <td>38</td>\n",
       "      <td>0.8</td>\n",
       "      <td>2000</td>\n",
       "      <td>-17.6</td>\n",
       "      <td>0.00</td>\n",
       "      <td>0.0</td>\n",
       "      <td>0.0</td>\n",
       "      <td>Winter</td>\n",
       "      <td>No Holiday</td>\n",
       "      <td>Yes</td>\n",
       "    </tr>\n",
       "    <tr>\n",
       "      <th>2</th>\n",
       "      <td>01/12/2017</td>\n",
       "      <td>173</td>\n",
       "      <td>2</td>\n",
       "      <td>-6.0</td>\n",
       "      <td>39</td>\n",
       "      <td>1.0</td>\n",
       "      <td>2000</td>\n",
       "      <td>-17.7</td>\n",
       "      <td>0.00</td>\n",
       "      <td>0.0</td>\n",
       "      <td>0.0</td>\n",
       "      <td>Winter</td>\n",
       "      <td>No Holiday</td>\n",
       "      <td>Yes</td>\n",
       "    </tr>\n",
       "    <tr>\n",
       "      <th>3</th>\n",
       "      <td>01/12/2017</td>\n",
       "      <td>107</td>\n",
       "      <td>3</td>\n",
       "      <td>-6.2</td>\n",
       "      <td>40</td>\n",
       "      <td>0.9</td>\n",
       "      <td>2000</td>\n",
       "      <td>-17.6</td>\n",
       "      <td>0.00</td>\n",
       "      <td>0.0</td>\n",
       "      <td>0.0</td>\n",
       "      <td>Winter</td>\n",
       "      <td>No Holiday</td>\n",
       "      <td>Yes</td>\n",
       "    </tr>\n",
       "    <tr>\n",
       "      <th>4</th>\n",
       "      <td>01/12/2017</td>\n",
       "      <td>78</td>\n",
       "      <td>4</td>\n",
       "      <td>-6.0</td>\n",
       "      <td>36</td>\n",
       "      <td>2.3</td>\n",
       "      <td>2000</td>\n",
       "      <td>-18.6</td>\n",
       "      <td>0.00</td>\n",
       "      <td>0.0</td>\n",
       "      <td>0.0</td>\n",
       "      <td>Winter</td>\n",
       "      <td>No Holiday</td>\n",
       "      <td>Yes</td>\n",
       "    </tr>\n",
       "    <tr>\n",
       "      <th>5</th>\n",
       "      <td>01/12/2017</td>\n",
       "      <td>100</td>\n",
       "      <td>5</td>\n",
       "      <td>-6.4</td>\n",
       "      <td>37</td>\n",
       "      <td>1.5</td>\n",
       "      <td>2000</td>\n",
       "      <td>-18.7</td>\n",
       "      <td>0.00</td>\n",
       "      <td>0.0</td>\n",
       "      <td>0.0</td>\n",
       "      <td>Winter</td>\n",
       "      <td>No Holiday</td>\n",
       "      <td>Yes</td>\n",
       "    </tr>\n",
       "    <tr>\n",
       "      <th>6</th>\n",
       "      <td>01/12/2017</td>\n",
       "      <td>181</td>\n",
       "      <td>6</td>\n",
       "      <td>-6.6</td>\n",
       "      <td>35</td>\n",
       "      <td>1.3</td>\n",
       "      <td>2000</td>\n",
       "      <td>-19.5</td>\n",
       "      <td>0.00</td>\n",
       "      <td>0.0</td>\n",
       "      <td>0.0</td>\n",
       "      <td>Winter</td>\n",
       "      <td>No Holiday</td>\n",
       "      <td>Yes</td>\n",
       "    </tr>\n",
       "    <tr>\n",
       "      <th>7</th>\n",
       "      <td>01/12/2017</td>\n",
       "      <td>460</td>\n",
       "      <td>7</td>\n",
       "      <td>-7.4</td>\n",
       "      <td>38</td>\n",
       "      <td>0.9</td>\n",
       "      <td>2000</td>\n",
       "      <td>-19.3</td>\n",
       "      <td>0.00</td>\n",
       "      <td>0.0</td>\n",
       "      <td>0.0</td>\n",
       "      <td>Winter</td>\n",
       "      <td>No Holiday</td>\n",
       "      <td>Yes</td>\n",
       "    </tr>\n",
       "    <tr>\n",
       "      <th>8</th>\n",
       "      <td>01/12/2017</td>\n",
       "      <td>930</td>\n",
       "      <td>8</td>\n",
       "      <td>-7.6</td>\n",
       "      <td>37</td>\n",
       "      <td>1.1</td>\n",
       "      <td>2000</td>\n",
       "      <td>-19.8</td>\n",
       "      <td>0.01</td>\n",
       "      <td>0.0</td>\n",
       "      <td>0.0</td>\n",
       "      <td>Winter</td>\n",
       "      <td>No Holiday</td>\n",
       "      <td>Yes</td>\n",
       "    </tr>\n",
       "    <tr>\n",
       "      <th>9</th>\n",
       "      <td>01/12/2017</td>\n",
       "      <td>490</td>\n",
       "      <td>9</td>\n",
       "      <td>-6.5</td>\n",
       "      <td>27</td>\n",
       "      <td>0.5</td>\n",
       "      <td>1928</td>\n",
       "      <td>-22.4</td>\n",
       "      <td>0.23</td>\n",
       "      <td>0.0</td>\n",
       "      <td>0.0</td>\n",
       "      <td>Winter</td>\n",
       "      <td>No Holiday</td>\n",
       "      <td>Yes</td>\n",
       "    </tr>\n",
       "    <tr>\n",
       "      <th>10</th>\n",
       "      <td>01/12/2017</td>\n",
       "      <td>339</td>\n",
       "      <td>10</td>\n",
       "      <td>-3.5</td>\n",
       "      <td>24</td>\n",
       "      <td>1.2</td>\n",
       "      <td>1996</td>\n",
       "      <td>-21.2</td>\n",
       "      <td>0.65</td>\n",
       "      <td>0.0</td>\n",
       "      <td>0.0</td>\n",
       "      <td>Winter</td>\n",
       "      <td>No Holiday</td>\n",
       "      <td>Yes</td>\n",
       "    </tr>\n",
       "    <tr>\n",
       "      <th>11</th>\n",
       "      <td>01/12/2017</td>\n",
       "      <td>360</td>\n",
       "      <td>11</td>\n",
       "      <td>-0.5</td>\n",
       "      <td>21</td>\n",
       "      <td>1.3</td>\n",
       "      <td>1936</td>\n",
       "      <td>-20.2</td>\n",
       "      <td>0.94</td>\n",
       "      <td>0.0</td>\n",
       "      <td>0.0</td>\n",
       "      <td>Winter</td>\n",
       "      <td>No Holiday</td>\n",
       "      <td>Yes</td>\n",
       "    </tr>\n",
       "    <tr>\n",
       "      <th>12</th>\n",
       "      <td>01/12/2017</td>\n",
       "      <td>449</td>\n",
       "      <td>12</td>\n",
       "      <td>1.7</td>\n",
       "      <td>23</td>\n",
       "      <td>1.4</td>\n",
       "      <td>2000</td>\n",
       "      <td>-17.2</td>\n",
       "      <td>1.11</td>\n",
       "      <td>0.0</td>\n",
       "      <td>0.0</td>\n",
       "      <td>Winter</td>\n",
       "      <td>No Holiday</td>\n",
       "      <td>Yes</td>\n",
       "    </tr>\n",
       "    <tr>\n",
       "      <th>13</th>\n",
       "      <td>01/12/2017</td>\n",
       "      <td>451</td>\n",
       "      <td>13</td>\n",
       "      <td>2.4</td>\n",
       "      <td>25</td>\n",
       "      <td>1.6</td>\n",
       "      <td>2000</td>\n",
       "      <td>-15.6</td>\n",
       "      <td>1.16</td>\n",
       "      <td>0.0</td>\n",
       "      <td>0.0</td>\n",
       "      <td>Winter</td>\n",
       "      <td>No Holiday</td>\n",
       "      <td>Yes</td>\n",
       "    </tr>\n",
       "    <tr>\n",
       "      <th>14</th>\n",
       "      <td>01/12/2017</td>\n",
       "      <td>447</td>\n",
       "      <td>14</td>\n",
       "      <td>3.0</td>\n",
       "      <td>26</td>\n",
       "      <td>2.0</td>\n",
       "      <td>2000</td>\n",
       "      <td>-14.6</td>\n",
       "      <td>1.01</td>\n",
       "      <td>0.0</td>\n",
       "      <td>0.0</td>\n",
       "      <td>Winter</td>\n",
       "      <td>No Holiday</td>\n",
       "      <td>Yes</td>\n",
       "    </tr>\n",
       "    <tr>\n",
       "      <th>15</th>\n",
       "      <td>01/12/2017</td>\n",
       "      <td>463</td>\n",
       "      <td>15</td>\n",
       "      <td>2.1</td>\n",
       "      <td>36</td>\n",
       "      <td>3.2</td>\n",
       "      <td>2000</td>\n",
       "      <td>-11.4</td>\n",
       "      <td>0.54</td>\n",
       "      <td>0.0</td>\n",
       "      <td>0.0</td>\n",
       "      <td>Winter</td>\n",
       "      <td>No Holiday</td>\n",
       "      <td>Yes</td>\n",
       "    </tr>\n",
       "    <tr>\n",
       "      <th>16</th>\n",
       "      <td>01/12/2017</td>\n",
       "      <td>484</td>\n",
       "      <td>16</td>\n",
       "      <td>1.2</td>\n",
       "      <td>54</td>\n",
       "      <td>4.2</td>\n",
       "      <td>793</td>\n",
       "      <td>-7.0</td>\n",
       "      <td>0.24</td>\n",
       "      <td>0.0</td>\n",
       "      <td>0.0</td>\n",
       "      <td>Winter</td>\n",
       "      <td>No Holiday</td>\n",
       "      <td>Yes</td>\n",
       "    </tr>\n",
       "    <tr>\n",
       "      <th>17</th>\n",
       "      <td>01/12/2017</td>\n",
       "      <td>555</td>\n",
       "      <td>17</td>\n",
       "      <td>0.8</td>\n",
       "      <td>58</td>\n",
       "      <td>1.6</td>\n",
       "      <td>2000</td>\n",
       "      <td>-6.5</td>\n",
       "      <td>0.08</td>\n",
       "      <td>0.0</td>\n",
       "      <td>0.0</td>\n",
       "      <td>Winter</td>\n",
       "      <td>No Holiday</td>\n",
       "      <td>Yes</td>\n",
       "    </tr>\n",
       "    <tr>\n",
       "      <th>18</th>\n",
       "      <td>01/12/2017</td>\n",
       "      <td>862</td>\n",
       "      <td>18</td>\n",
       "      <td>0.6</td>\n",
       "      <td>66</td>\n",
       "      <td>1.4</td>\n",
       "      <td>2000</td>\n",
       "      <td>-5.0</td>\n",
       "      <td>0.00</td>\n",
       "      <td>0.0</td>\n",
       "      <td>0.0</td>\n",
       "      <td>Winter</td>\n",
       "      <td>No Holiday</td>\n",
       "      <td>Yes</td>\n",
       "    </tr>\n",
       "    <tr>\n",
       "      <th>19</th>\n",
       "      <td>01/12/2017</td>\n",
       "      <td>600</td>\n",
       "      <td>19</td>\n",
       "      <td>0.0</td>\n",
       "      <td>77</td>\n",
       "      <td>1.7</td>\n",
       "      <td>2000</td>\n",
       "      <td>-3.5</td>\n",
       "      <td>0.00</td>\n",
       "      <td>0.0</td>\n",
       "      <td>0.0</td>\n",
       "      <td>Winter</td>\n",
       "      <td>No Holiday</td>\n",
       "      <td>Yes</td>\n",
       "    </tr>\n",
       "    <tr>\n",
       "      <th>20</th>\n",
       "      <td>01/12/2017</td>\n",
       "      <td>426</td>\n",
       "      <td>20</td>\n",
       "      <td>-0.3</td>\n",
       "      <td>79</td>\n",
       "      <td>1.5</td>\n",
       "      <td>1913</td>\n",
       "      <td>-3.5</td>\n",
       "      <td>0.00</td>\n",
       "      <td>0.0</td>\n",
       "      <td>0.0</td>\n",
       "      <td>Winter</td>\n",
       "      <td>No Holiday</td>\n",
       "      <td>Yes</td>\n",
       "    </tr>\n",
       "    <tr>\n",
       "      <th>21</th>\n",
       "      <td>01/12/2017</td>\n",
       "      <td>405</td>\n",
       "      <td>21</td>\n",
       "      <td>-0.8</td>\n",
       "      <td>81</td>\n",
       "      <td>0.8</td>\n",
       "      <td>1687</td>\n",
       "      <td>-3.6</td>\n",
       "      <td>0.00</td>\n",
       "      <td>0.0</td>\n",
       "      <td>0.0</td>\n",
       "      <td>Winter</td>\n",
       "      <td>No Holiday</td>\n",
       "      <td>Yes</td>\n",
       "    </tr>\n",
       "    <tr>\n",
       "      <th>22</th>\n",
       "      <td>01/12/2017</td>\n",
       "      <td>398</td>\n",
       "      <td>22</td>\n",
       "      <td>-0.9</td>\n",
       "      <td>83</td>\n",
       "      <td>1.5</td>\n",
       "      <td>1380</td>\n",
       "      <td>-3.4</td>\n",
       "      <td>0.00</td>\n",
       "      <td>0.0</td>\n",
       "      <td>0.0</td>\n",
       "      <td>Winter</td>\n",
       "      <td>No Holiday</td>\n",
       "      <td>Yes</td>\n",
       "    </tr>\n",
       "    <tr>\n",
       "      <th>23</th>\n",
       "      <td>01/12/2017</td>\n",
       "      <td>323</td>\n",
       "      <td>23</td>\n",
       "      <td>-1.3</td>\n",
       "      <td>84</td>\n",
       "      <td>1.0</td>\n",
       "      <td>1265</td>\n",
       "      <td>-3.6</td>\n",
       "      <td>0.00</td>\n",
       "      <td>0.0</td>\n",
       "      <td>0.0</td>\n",
       "      <td>Winter</td>\n",
       "      <td>No Holiday</td>\n",
       "      <td>Yes</td>\n",
       "    </tr>\n",
       "    <tr>\n",
       "      <th>24</th>\n",
       "      <td>02/12/2017</td>\n",
       "      <td>328</td>\n",
       "      <td>0</td>\n",
       "      <td>-1.8</td>\n",
       "      <td>87</td>\n",
       "      <td>1.1</td>\n",
       "      <td>994</td>\n",
       "      <td>-3.6</td>\n",
       "      <td>0.00</td>\n",
       "      <td>0.0</td>\n",
       "      <td>0.0</td>\n",
       "      <td>Winter</td>\n",
       "      <td>No Holiday</td>\n",
       "      <td>Yes</td>\n",
       "    </tr>\n",
       "    <tr>\n",
       "      <th>25</th>\n",
       "      <td>02/12/2017</td>\n",
       "      <td>308</td>\n",
       "      <td>1</td>\n",
       "      <td>-2.2</td>\n",
       "      <td>86</td>\n",
       "      <td>0.6</td>\n",
       "      <td>990</td>\n",
       "      <td>-4.2</td>\n",
       "      <td>0.00</td>\n",
       "      <td>0.0</td>\n",
       "      <td>0.0</td>\n",
       "      <td>Winter</td>\n",
       "      <td>No Holiday</td>\n",
       "      <td>Yes</td>\n",
       "    </tr>\n",
       "    <tr>\n",
       "      <th>26</th>\n",
       "      <td>02/12/2017</td>\n",
       "      <td>262</td>\n",
       "      <td>2</td>\n",
       "      <td>-2.9</td>\n",
       "      <td>86</td>\n",
       "      <td>1.5</td>\n",
       "      <td>1256</td>\n",
       "      <td>-4.9</td>\n",
       "      <td>0.00</td>\n",
       "      <td>0.0</td>\n",
       "      <td>0.0</td>\n",
       "      <td>Winter</td>\n",
       "      <td>No Holiday</td>\n",
       "      <td>Yes</td>\n",
       "    </tr>\n",
       "    <tr>\n",
       "      <th>27</th>\n",
       "      <td>02/12/2017</td>\n",
       "      <td>167</td>\n",
       "      <td>3</td>\n",
       "      <td>-3.5</td>\n",
       "      <td>81</td>\n",
       "      <td>2.2</td>\n",
       "      <td>1221</td>\n",
       "      <td>-6.2</td>\n",
       "      <td>0.00</td>\n",
       "      <td>0.0</td>\n",
       "      <td>0.0</td>\n",
       "      <td>Winter</td>\n",
       "      <td>No Holiday</td>\n",
       "      <td>Yes</td>\n",
       "    </tr>\n",
       "    <tr>\n",
       "      <th>28</th>\n",
       "      <td>02/12/2017</td>\n",
       "      <td>89</td>\n",
       "      <td>4</td>\n",
       "      <td>-3.8</td>\n",
       "      <td>79</td>\n",
       "      <td>2.0</td>\n",
       "      <td>1167</td>\n",
       "      <td>-6.9</td>\n",
       "      <td>0.00</td>\n",
       "      <td>0.0</td>\n",
       "      <td>0.0</td>\n",
       "      <td>Winter</td>\n",
       "      <td>No Holiday</td>\n",
       "      <td>Yes</td>\n",
       "    </tr>\n",
       "    <tr>\n",
       "      <th>29</th>\n",
       "      <td>02/12/2017</td>\n",
       "      <td>79</td>\n",
       "      <td>5</td>\n",
       "      <td>-4.0</td>\n",
       "      <td>79</td>\n",
       "      <td>1.5</td>\n",
       "      <td>1202</td>\n",
       "      <td>-7.1</td>\n",
       "      <td>0.00</td>\n",
       "      <td>0.0</td>\n",
       "      <td>0.0</td>\n",
       "      <td>Winter</td>\n",
       "      <td>No Holiday</td>\n",
       "      <td>Yes</td>\n",
       "    </tr>\n",
       "    <tr>\n",
       "      <th>...</th>\n",
       "      <td>...</td>\n",
       "      <td>...</td>\n",
       "      <td>...</td>\n",
       "      <td>...</td>\n",
       "      <td>...</td>\n",
       "      <td>...</td>\n",
       "      <td>...</td>\n",
       "      <td>...</td>\n",
       "      <td>...</td>\n",
       "      <td>...</td>\n",
       "      <td>...</td>\n",
       "      <td>...</td>\n",
       "      <td>...</td>\n",
       "      <td>...</td>\n",
       "    </tr>\n",
       "    <tr>\n",
       "      <th>8730</th>\n",
       "      <td>29/11/2018</td>\n",
       "      <td>1577</td>\n",
       "      <td>18</td>\n",
       "      <td>0.0</td>\n",
       "      <td>46</td>\n",
       "      <td>0.9</td>\n",
       "      <td>1566</td>\n",
       "      <td>-4.8</td>\n",
       "      <td>0.00</td>\n",
       "      <td>0.0</td>\n",
       "      <td>0.0</td>\n",
       "      <td>Autumn</td>\n",
       "      <td>No Holiday</td>\n",
       "      <td>Yes</td>\n",
       "    </tr>\n",
       "    <tr>\n",
       "      <th>8731</th>\n",
       "      <td>29/11/2018</td>\n",
       "      <td>1026</td>\n",
       "      <td>19</td>\n",
       "      <td>5.2</td>\n",
       "      <td>48</td>\n",
       "      <td>1.9</td>\n",
       "      <td>1590</td>\n",
       "      <td>-4.9</td>\n",
       "      <td>0.00</td>\n",
       "      <td>0.0</td>\n",
       "      <td>0.0</td>\n",
       "      <td>Autumn</td>\n",
       "      <td>No Holiday</td>\n",
       "      <td>Yes</td>\n",
       "    </tr>\n",
       "    <tr>\n",
       "      <th>8732</th>\n",
       "      <td>29/11/2018</td>\n",
       "      <td>818</td>\n",
       "      <td>20</td>\n",
       "      <td>4.1</td>\n",
       "      <td>54</td>\n",
       "      <td>1.3</td>\n",
       "      <td>1434</td>\n",
       "      <td>-4.3</td>\n",
       "      <td>0.00</td>\n",
       "      <td>0.0</td>\n",
       "      <td>0.0</td>\n",
       "      <td>Autumn</td>\n",
       "      <td>No Holiday</td>\n",
       "      <td>Yes</td>\n",
       "    </tr>\n",
       "    <tr>\n",
       "      <th>8733</th>\n",
       "      <td>29/11/2018</td>\n",
       "      <td>792</td>\n",
       "      <td>21</td>\n",
       "      <td>3.8</td>\n",
       "      <td>55</td>\n",
       "      <td>2.1</td>\n",
       "      <td>1231</td>\n",
       "      <td>-4.4</td>\n",
       "      <td>0.00</td>\n",
       "      <td>0.0</td>\n",
       "      <td>0.0</td>\n",
       "      <td>Autumn</td>\n",
       "      <td>No Holiday</td>\n",
       "      <td>Yes</td>\n",
       "    </tr>\n",
       "    <tr>\n",
       "      <th>8734</th>\n",
       "      <td>29/11/2018</td>\n",
       "      <td>726</td>\n",
       "      <td>22</td>\n",
       "      <td>3.0</td>\n",
       "      <td>59</td>\n",
       "      <td>1.1</td>\n",
       "      <td>1218</td>\n",
       "      <td>-4.2</td>\n",
       "      <td>0.00</td>\n",
       "      <td>0.0</td>\n",
       "      <td>0.0</td>\n",
       "      <td>Autumn</td>\n",
       "      <td>No Holiday</td>\n",
       "      <td>Yes</td>\n",
       "    </tr>\n",
       "    <tr>\n",
       "      <th>8735</th>\n",
       "      <td>29/11/2018</td>\n",
       "      <td>559</td>\n",
       "      <td>23</td>\n",
       "      <td>2.6</td>\n",
       "      <td>56</td>\n",
       "      <td>1.9</td>\n",
       "      <td>1394</td>\n",
       "      <td>-5.3</td>\n",
       "      <td>0.00</td>\n",
       "      <td>0.0</td>\n",
       "      <td>0.0</td>\n",
       "      <td>Autumn</td>\n",
       "      <td>No Holiday</td>\n",
       "      <td>Yes</td>\n",
       "    </tr>\n",
       "    <tr>\n",
       "      <th>8736</th>\n",
       "      <td>30/11/2018</td>\n",
       "      <td>474</td>\n",
       "      <td>0</td>\n",
       "      <td>1.8</td>\n",
       "      <td>62</td>\n",
       "      <td>1.6</td>\n",
       "      <td>1411</td>\n",
       "      <td>-4.7</td>\n",
       "      <td>0.00</td>\n",
       "      <td>0.0</td>\n",
       "      <td>0.0</td>\n",
       "      <td>Autumn</td>\n",
       "      <td>No Holiday</td>\n",
       "      <td>Yes</td>\n",
       "    </tr>\n",
       "    <tr>\n",
       "      <th>8737</th>\n",
       "      <td>30/11/2018</td>\n",
       "      <td>456</td>\n",
       "      <td>1</td>\n",
       "      <td>1.3</td>\n",
       "      <td>63</td>\n",
       "      <td>2.0</td>\n",
       "      <td>1379</td>\n",
       "      <td>-4.9</td>\n",
       "      <td>0.00</td>\n",
       "      <td>0.0</td>\n",
       "      <td>0.0</td>\n",
       "      <td>Autumn</td>\n",
       "      <td>No Holiday</td>\n",
       "      <td>Yes</td>\n",
       "    </tr>\n",
       "    <tr>\n",
       "      <th>8738</th>\n",
       "      <td>30/11/2018</td>\n",
       "      <td>300</td>\n",
       "      <td>2</td>\n",
       "      <td>0.6</td>\n",
       "      <td>66</td>\n",
       "      <td>0.5</td>\n",
       "      <td>1368</td>\n",
       "      <td>-5.0</td>\n",
       "      <td>0.00</td>\n",
       "      <td>0.0</td>\n",
       "      <td>0.0</td>\n",
       "      <td>Autumn</td>\n",
       "      <td>No Holiday</td>\n",
       "      <td>Yes</td>\n",
       "    </tr>\n",
       "    <tr>\n",
       "      <th>8739</th>\n",
       "      <td>30/11/2018</td>\n",
       "      <td>213</td>\n",
       "      <td>3</td>\n",
       "      <td>-0.1</td>\n",
       "      <td>69</td>\n",
       "      <td>0.9</td>\n",
       "      <td>1338</td>\n",
       "      <td>-5.1</td>\n",
       "      <td>0.00</td>\n",
       "      <td>0.0</td>\n",
       "      <td>0.0</td>\n",
       "      <td>Autumn</td>\n",
       "      <td>No Holiday</td>\n",
       "      <td>Yes</td>\n",
       "    </tr>\n",
       "    <tr>\n",
       "      <th>8740</th>\n",
       "      <td>30/11/2018</td>\n",
       "      <td>116</td>\n",
       "      <td>4</td>\n",
       "      <td>-0.5</td>\n",
       "      <td>71</td>\n",
       "      <td>0.4</td>\n",
       "      <td>1345</td>\n",
       "      <td>-5.1</td>\n",
       "      <td>0.00</td>\n",
       "      <td>0.0</td>\n",
       "      <td>0.0</td>\n",
       "      <td>Autumn</td>\n",
       "      <td>No Holiday</td>\n",
       "      <td>Yes</td>\n",
       "    </tr>\n",
       "    <tr>\n",
       "      <th>8741</th>\n",
       "      <td>30/11/2018</td>\n",
       "      <td>149</td>\n",
       "      <td>5</td>\n",
       "      <td>-0.7</td>\n",
       "      <td>66</td>\n",
       "      <td>0.5</td>\n",
       "      <td>1336</td>\n",
       "      <td>-6.2</td>\n",
       "      <td>0.00</td>\n",
       "      <td>0.0</td>\n",
       "      <td>0.0</td>\n",
       "      <td>Autumn</td>\n",
       "      <td>No Holiday</td>\n",
       "      <td>Yes</td>\n",
       "    </tr>\n",
       "    <tr>\n",
       "      <th>8742</th>\n",
       "      <td>30/11/2018</td>\n",
       "      <td>293</td>\n",
       "      <td>6</td>\n",
       "      <td>-0.8</td>\n",
       "      <td>68</td>\n",
       "      <td>0.8</td>\n",
       "      <td>1322</td>\n",
       "      <td>-5.9</td>\n",
       "      <td>0.00</td>\n",
       "      <td>0.0</td>\n",
       "      <td>0.0</td>\n",
       "      <td>Autumn</td>\n",
       "      <td>No Holiday</td>\n",
       "      <td>Yes</td>\n",
       "    </tr>\n",
       "    <tr>\n",
       "      <th>8743</th>\n",
       "      <td>30/11/2018</td>\n",
       "      <td>750</td>\n",
       "      <td>7</td>\n",
       "      <td>-1.2</td>\n",
       "      <td>70</td>\n",
       "      <td>0.8</td>\n",
       "      <td>1351</td>\n",
       "      <td>-5.9</td>\n",
       "      <td>0.00</td>\n",
       "      <td>0.0</td>\n",
       "      <td>0.0</td>\n",
       "      <td>Autumn</td>\n",
       "      <td>No Holiday</td>\n",
       "      <td>Yes</td>\n",
       "    </tr>\n",
       "    <tr>\n",
       "      <th>8744</th>\n",
       "      <td>30/11/2018</td>\n",
       "      <td>1527</td>\n",
       "      <td>8</td>\n",
       "      <td>-1.5</td>\n",
       "      <td>68</td>\n",
       "      <td>1.1</td>\n",
       "      <td>1286</td>\n",
       "      <td>-6.6</td>\n",
       "      <td>0.02</td>\n",
       "      <td>0.0</td>\n",
       "      <td>0.0</td>\n",
       "      <td>Autumn</td>\n",
       "      <td>No Holiday</td>\n",
       "      <td>Yes</td>\n",
       "    </tr>\n",
       "    <tr>\n",
       "      <th>8745</th>\n",
       "      <td>30/11/2018</td>\n",
       "      <td>809</td>\n",
       "      <td>9</td>\n",
       "      <td>-0.4</td>\n",
       "      <td>57</td>\n",
       "      <td>0.6</td>\n",
       "      <td>1270</td>\n",
       "      <td>-7.8</td>\n",
       "      <td>0.45</td>\n",
       "      <td>0.0</td>\n",
       "      <td>0.0</td>\n",
       "      <td>Autumn</td>\n",
       "      <td>No Holiday</td>\n",
       "      <td>Yes</td>\n",
       "    </tr>\n",
       "    <tr>\n",
       "      <th>8746</th>\n",
       "      <td>30/11/2018</td>\n",
       "      <td>554</td>\n",
       "      <td>10</td>\n",
       "      <td>1.9</td>\n",
       "      <td>51</td>\n",
       "      <td>0.8</td>\n",
       "      <td>1029</td>\n",
       "      <td>-7.1</td>\n",
       "      <td>1.01</td>\n",
       "      <td>0.0</td>\n",
       "      <td>0.0</td>\n",
       "      <td>Autumn</td>\n",
       "      <td>No Holiday</td>\n",
       "      <td>Yes</td>\n",
       "    </tr>\n",
       "    <tr>\n",
       "      <th>8747</th>\n",
       "      <td>30/11/2018</td>\n",
       "      <td>642</td>\n",
       "      <td>11</td>\n",
       "      <td>5.3</td>\n",
       "      <td>43</td>\n",
       "      <td>1.8</td>\n",
       "      <td>1177</td>\n",
       "      <td>-6.2</td>\n",
       "      <td>1.38</td>\n",
       "      <td>0.0</td>\n",
       "      <td>0.0</td>\n",
       "      <td>Autumn</td>\n",
       "      <td>No Holiday</td>\n",
       "      <td>Yes</td>\n",
       "    </tr>\n",
       "    <tr>\n",
       "      <th>8748</th>\n",
       "      <td>30/11/2018</td>\n",
       "      <td>720</td>\n",
       "      <td>12</td>\n",
       "      <td>6.6</td>\n",
       "      <td>35</td>\n",
       "      <td>1.3</td>\n",
       "      <td>1409</td>\n",
       "      <td>-7.8</td>\n",
       "      <td>1.70</td>\n",
       "      <td>0.0</td>\n",
       "      <td>0.0</td>\n",
       "      <td>Autumn</td>\n",
       "      <td>No Holiday</td>\n",
       "      <td>Yes</td>\n",
       "    </tr>\n",
       "    <tr>\n",
       "      <th>8749</th>\n",
       "      <td>30/11/2018</td>\n",
       "      <td>740</td>\n",
       "      <td>13</td>\n",
       "      <td>7.1</td>\n",
       "      <td>24</td>\n",
       "      <td>2.8</td>\n",
       "      <td>1838</td>\n",
       "      <td>-12.1</td>\n",
       "      <td>1.83</td>\n",
       "      <td>0.0</td>\n",
       "      <td>0.0</td>\n",
       "      <td>Autumn</td>\n",
       "      <td>No Holiday</td>\n",
       "      <td>Yes</td>\n",
       "    </tr>\n",
       "    <tr>\n",
       "      <th>8750</th>\n",
       "      <td>30/11/2018</td>\n",
       "      <td>761</td>\n",
       "      <td>14</td>\n",
       "      <td>7.8</td>\n",
       "      <td>20</td>\n",
       "      <td>2.2</td>\n",
       "      <td>2000</td>\n",
       "      <td>-13.8</td>\n",
       "      <td>1.67</td>\n",
       "      <td>0.0</td>\n",
       "      <td>0.0</td>\n",
       "      <td>Autumn</td>\n",
       "      <td>No Holiday</td>\n",
       "      <td>Yes</td>\n",
       "    </tr>\n",
       "    <tr>\n",
       "      <th>8751</th>\n",
       "      <td>30/11/2018</td>\n",
       "      <td>768</td>\n",
       "      <td>15</td>\n",
       "      <td>7.0</td>\n",
       "      <td>20</td>\n",
       "      <td>3.3</td>\n",
       "      <td>1994</td>\n",
       "      <td>-14.4</td>\n",
       "      <td>1.21</td>\n",
       "      <td>0.0</td>\n",
       "      <td>0.0</td>\n",
       "      <td>Autumn</td>\n",
       "      <td>No Holiday</td>\n",
       "      <td>Yes</td>\n",
       "    </tr>\n",
       "    <tr>\n",
       "      <th>8752</th>\n",
       "      <td>30/11/2018</td>\n",
       "      <td>837</td>\n",
       "      <td>16</td>\n",
       "      <td>7.2</td>\n",
       "      <td>23</td>\n",
       "      <td>1.5</td>\n",
       "      <td>1945</td>\n",
       "      <td>-12.6</td>\n",
       "      <td>0.72</td>\n",
       "      <td>0.0</td>\n",
       "      <td>0.0</td>\n",
       "      <td>Autumn</td>\n",
       "      <td>No Holiday</td>\n",
       "      <td>Yes</td>\n",
       "    </tr>\n",
       "    <tr>\n",
       "      <th>8753</th>\n",
       "      <td>30/11/2018</td>\n",
       "      <td>1047</td>\n",
       "      <td>17</td>\n",
       "      <td>6.0</td>\n",
       "      <td>29</td>\n",
       "      <td>2.1</td>\n",
       "      <td>1877</td>\n",
       "      <td>-10.7</td>\n",
       "      <td>0.23</td>\n",
       "      <td>0.0</td>\n",
       "      <td>0.0</td>\n",
       "      <td>Autumn</td>\n",
       "      <td>No Holiday</td>\n",
       "      <td>Yes</td>\n",
       "    </tr>\n",
       "    <tr>\n",
       "      <th>8754</th>\n",
       "      <td>30/11/2018</td>\n",
       "      <td>1384</td>\n",
       "      <td>18</td>\n",
       "      <td>4.7</td>\n",
       "      <td>34</td>\n",
       "      <td>1.9</td>\n",
       "      <td>1661</td>\n",
       "      <td>-9.8</td>\n",
       "      <td>0.00</td>\n",
       "      <td>0.0</td>\n",
       "      <td>0.0</td>\n",
       "      <td>Autumn</td>\n",
       "      <td>No Holiday</td>\n",
       "      <td>Yes</td>\n",
       "    </tr>\n",
       "    <tr>\n",
       "      <th>8755</th>\n",
       "      <td>30/11/2018</td>\n",
       "      <td>1003</td>\n",
       "      <td>19</td>\n",
       "      <td>4.2</td>\n",
       "      <td>34</td>\n",
       "      <td>2.6</td>\n",
       "      <td>1894</td>\n",
       "      <td>-10.3</td>\n",
       "      <td>0.00</td>\n",
       "      <td>0.0</td>\n",
       "      <td>0.0</td>\n",
       "      <td>Autumn</td>\n",
       "      <td>No Holiday</td>\n",
       "      <td>Yes</td>\n",
       "    </tr>\n",
       "    <tr>\n",
       "      <th>8756</th>\n",
       "      <td>30/11/2018</td>\n",
       "      <td>764</td>\n",
       "      <td>20</td>\n",
       "      <td>3.4</td>\n",
       "      <td>37</td>\n",
       "      <td>2.3</td>\n",
       "      <td>2000</td>\n",
       "      <td>-9.9</td>\n",
       "      <td>0.00</td>\n",
       "      <td>0.0</td>\n",
       "      <td>0.0</td>\n",
       "      <td>Autumn</td>\n",
       "      <td>No Holiday</td>\n",
       "      <td>Yes</td>\n",
       "    </tr>\n",
       "    <tr>\n",
       "      <th>8757</th>\n",
       "      <td>30/11/2018</td>\n",
       "      <td>694</td>\n",
       "      <td>21</td>\n",
       "      <td>2.6</td>\n",
       "      <td>39</td>\n",
       "      <td>0.3</td>\n",
       "      <td>1968</td>\n",
       "      <td>-9.9</td>\n",
       "      <td>0.00</td>\n",
       "      <td>0.0</td>\n",
       "      <td>0.0</td>\n",
       "      <td>Autumn</td>\n",
       "      <td>No Holiday</td>\n",
       "      <td>Yes</td>\n",
       "    </tr>\n",
       "    <tr>\n",
       "      <th>8758</th>\n",
       "      <td>30/11/2018</td>\n",
       "      <td>712</td>\n",
       "      <td>22</td>\n",
       "      <td>2.1</td>\n",
       "      <td>41</td>\n",
       "      <td>1.0</td>\n",
       "      <td>1859</td>\n",
       "      <td>-9.8</td>\n",
       "      <td>0.00</td>\n",
       "      <td>0.0</td>\n",
       "      <td>0.0</td>\n",
       "      <td>Autumn</td>\n",
       "      <td>No Holiday</td>\n",
       "      <td>Yes</td>\n",
       "    </tr>\n",
       "    <tr>\n",
       "      <th>8759</th>\n",
       "      <td>30/11/2018</td>\n",
       "      <td>584</td>\n",
       "      <td>23</td>\n",
       "      <td>1.9</td>\n",
       "      <td>43</td>\n",
       "      <td>1.3</td>\n",
       "      <td>1909</td>\n",
       "      <td>-9.3</td>\n",
       "      <td>0.00</td>\n",
       "      <td>0.0</td>\n",
       "      <td>0.0</td>\n",
       "      <td>Autumn</td>\n",
       "      <td>No Holiday</td>\n",
       "      <td>Yes</td>\n",
       "    </tr>\n",
       "  </tbody>\n",
       "</table>\n",
       "<p>8760 rows × 14 columns</p>\n",
       "</div>"
      ],
      "text/plain": [
       "            Date  Rented Bike Count  Hour  Temperature(°C)  Humidity(%)  \\\n",
       "0     01/12/2017                254     0             -5.2           37   \n",
       "1     01/12/2017                204     1             -5.5           38   \n",
       "2     01/12/2017                173     2             -6.0           39   \n",
       "3     01/12/2017                107     3             -6.2           40   \n",
       "4     01/12/2017                 78     4             -6.0           36   \n",
       "5     01/12/2017                100     5             -6.4           37   \n",
       "6     01/12/2017                181     6             -6.6           35   \n",
       "7     01/12/2017                460     7             -7.4           38   \n",
       "8     01/12/2017                930     8             -7.6           37   \n",
       "9     01/12/2017                490     9             -6.5           27   \n",
       "10    01/12/2017                339    10             -3.5           24   \n",
       "11    01/12/2017                360    11             -0.5           21   \n",
       "12    01/12/2017                449    12              1.7           23   \n",
       "13    01/12/2017                451    13              2.4           25   \n",
       "14    01/12/2017                447    14              3.0           26   \n",
       "15    01/12/2017                463    15              2.1           36   \n",
       "16    01/12/2017                484    16              1.2           54   \n",
       "17    01/12/2017                555    17              0.8           58   \n",
       "18    01/12/2017                862    18              0.6           66   \n",
       "19    01/12/2017                600    19              0.0           77   \n",
       "20    01/12/2017                426    20             -0.3           79   \n",
       "21    01/12/2017                405    21             -0.8           81   \n",
       "22    01/12/2017                398    22             -0.9           83   \n",
       "23    01/12/2017                323    23             -1.3           84   \n",
       "24    02/12/2017                328     0             -1.8           87   \n",
       "25    02/12/2017                308     1             -2.2           86   \n",
       "26    02/12/2017                262     2             -2.9           86   \n",
       "27    02/12/2017                167     3             -3.5           81   \n",
       "28    02/12/2017                 89     4             -3.8           79   \n",
       "29    02/12/2017                 79     5             -4.0           79   \n",
       "...          ...                ...   ...              ...          ...   \n",
       "8730  29/11/2018               1577    18              0.0           46   \n",
       "8731  29/11/2018               1026    19              5.2           48   \n",
       "8732  29/11/2018                818    20              4.1           54   \n",
       "8733  29/11/2018                792    21              3.8           55   \n",
       "8734  29/11/2018                726    22              3.0           59   \n",
       "8735  29/11/2018                559    23              2.6           56   \n",
       "8736  30/11/2018                474     0              1.8           62   \n",
       "8737  30/11/2018                456     1              1.3           63   \n",
       "8738  30/11/2018                300     2              0.6           66   \n",
       "8739  30/11/2018                213     3             -0.1           69   \n",
       "8740  30/11/2018                116     4             -0.5           71   \n",
       "8741  30/11/2018                149     5             -0.7           66   \n",
       "8742  30/11/2018                293     6             -0.8           68   \n",
       "8743  30/11/2018                750     7             -1.2           70   \n",
       "8744  30/11/2018               1527     8             -1.5           68   \n",
       "8745  30/11/2018                809     9             -0.4           57   \n",
       "8746  30/11/2018                554    10              1.9           51   \n",
       "8747  30/11/2018                642    11              5.3           43   \n",
       "8748  30/11/2018                720    12              6.6           35   \n",
       "8749  30/11/2018                740    13              7.1           24   \n",
       "8750  30/11/2018                761    14              7.8           20   \n",
       "8751  30/11/2018                768    15              7.0           20   \n",
       "8752  30/11/2018                837    16              7.2           23   \n",
       "8753  30/11/2018               1047    17              6.0           29   \n",
       "8754  30/11/2018               1384    18              4.7           34   \n",
       "8755  30/11/2018               1003    19              4.2           34   \n",
       "8756  30/11/2018                764    20              3.4           37   \n",
       "8757  30/11/2018                694    21              2.6           39   \n",
       "8758  30/11/2018                712    22              2.1           41   \n",
       "8759  30/11/2018                584    23              1.9           43   \n",
       "\n",
       "      Wind speed (m/s)  Visibility (10m)  Dew point temperature(°C)  \\\n",
       "0                  2.2              2000                      -17.6   \n",
       "1                  0.8              2000                      -17.6   \n",
       "2                  1.0              2000                      -17.7   \n",
       "3                  0.9              2000                      -17.6   \n",
       "4                  2.3              2000                      -18.6   \n",
       "5                  1.5              2000                      -18.7   \n",
       "6                  1.3              2000                      -19.5   \n",
       "7                  0.9              2000                      -19.3   \n",
       "8                  1.1              2000                      -19.8   \n",
       "9                  0.5              1928                      -22.4   \n",
       "10                 1.2              1996                      -21.2   \n",
       "11                 1.3              1936                      -20.2   \n",
       "12                 1.4              2000                      -17.2   \n",
       "13                 1.6              2000                      -15.6   \n",
       "14                 2.0              2000                      -14.6   \n",
       "15                 3.2              2000                      -11.4   \n",
       "16                 4.2               793                       -7.0   \n",
       "17                 1.6              2000                       -6.5   \n",
       "18                 1.4              2000                       -5.0   \n",
       "19                 1.7              2000                       -3.5   \n",
       "20                 1.5              1913                       -3.5   \n",
       "21                 0.8              1687                       -3.6   \n",
       "22                 1.5              1380                       -3.4   \n",
       "23                 1.0              1265                       -3.6   \n",
       "24                 1.1               994                       -3.6   \n",
       "25                 0.6               990                       -4.2   \n",
       "26                 1.5              1256                       -4.9   \n",
       "27                 2.2              1221                       -6.2   \n",
       "28                 2.0              1167                       -6.9   \n",
       "29                 1.5              1202                       -7.1   \n",
       "...                ...               ...                        ...   \n",
       "8730               0.9              1566                       -4.8   \n",
       "8731               1.9              1590                       -4.9   \n",
       "8732               1.3              1434                       -4.3   \n",
       "8733               2.1              1231                       -4.4   \n",
       "8734               1.1              1218                       -4.2   \n",
       "8735               1.9              1394                       -5.3   \n",
       "8736               1.6              1411                       -4.7   \n",
       "8737               2.0              1379                       -4.9   \n",
       "8738               0.5              1368                       -5.0   \n",
       "8739               0.9              1338                       -5.1   \n",
       "8740               0.4              1345                       -5.1   \n",
       "8741               0.5              1336                       -6.2   \n",
       "8742               0.8              1322                       -5.9   \n",
       "8743               0.8              1351                       -5.9   \n",
       "8744               1.1              1286                       -6.6   \n",
       "8745               0.6              1270                       -7.8   \n",
       "8746               0.8              1029                       -7.1   \n",
       "8747               1.8              1177                       -6.2   \n",
       "8748               1.3              1409                       -7.8   \n",
       "8749               2.8              1838                      -12.1   \n",
       "8750               2.2              2000                      -13.8   \n",
       "8751               3.3              1994                      -14.4   \n",
       "8752               1.5              1945                      -12.6   \n",
       "8753               2.1              1877                      -10.7   \n",
       "8754               1.9              1661                       -9.8   \n",
       "8755               2.6              1894                      -10.3   \n",
       "8756               2.3              2000                       -9.9   \n",
       "8757               0.3              1968                       -9.9   \n",
       "8758               1.0              1859                       -9.8   \n",
       "8759               1.3              1909                       -9.3   \n",
       "\n",
       "      Solar Radiation (MJ/m2)  Rainfall(mm)  Snowfall (cm) Seasons  \\\n",
       "0                        0.00           0.0            0.0  Winter   \n",
       "1                        0.00           0.0            0.0  Winter   \n",
       "2                        0.00           0.0            0.0  Winter   \n",
       "3                        0.00           0.0            0.0  Winter   \n",
       "4                        0.00           0.0            0.0  Winter   \n",
       "5                        0.00           0.0            0.0  Winter   \n",
       "6                        0.00           0.0            0.0  Winter   \n",
       "7                        0.00           0.0            0.0  Winter   \n",
       "8                        0.01           0.0            0.0  Winter   \n",
       "9                        0.23           0.0            0.0  Winter   \n",
       "10                       0.65           0.0            0.0  Winter   \n",
       "11                       0.94           0.0            0.0  Winter   \n",
       "12                       1.11           0.0            0.0  Winter   \n",
       "13                       1.16           0.0            0.0  Winter   \n",
       "14                       1.01           0.0            0.0  Winter   \n",
       "15                       0.54           0.0            0.0  Winter   \n",
       "16                       0.24           0.0            0.0  Winter   \n",
       "17                       0.08           0.0            0.0  Winter   \n",
       "18                       0.00           0.0            0.0  Winter   \n",
       "19                       0.00           0.0            0.0  Winter   \n",
       "20                       0.00           0.0            0.0  Winter   \n",
       "21                       0.00           0.0            0.0  Winter   \n",
       "22                       0.00           0.0            0.0  Winter   \n",
       "23                       0.00           0.0            0.0  Winter   \n",
       "24                       0.00           0.0            0.0  Winter   \n",
       "25                       0.00           0.0            0.0  Winter   \n",
       "26                       0.00           0.0            0.0  Winter   \n",
       "27                       0.00           0.0            0.0  Winter   \n",
       "28                       0.00           0.0            0.0  Winter   \n",
       "29                       0.00           0.0            0.0  Winter   \n",
       "...                       ...           ...            ...     ...   \n",
       "8730                     0.00           0.0            0.0  Autumn   \n",
       "8731                     0.00           0.0            0.0  Autumn   \n",
       "8732                     0.00           0.0            0.0  Autumn   \n",
       "8733                     0.00           0.0            0.0  Autumn   \n",
       "8734                     0.00           0.0            0.0  Autumn   \n",
       "8735                     0.00           0.0            0.0  Autumn   \n",
       "8736                     0.00           0.0            0.0  Autumn   \n",
       "8737                     0.00           0.0            0.0  Autumn   \n",
       "8738                     0.00           0.0            0.0  Autumn   \n",
       "8739                     0.00           0.0            0.0  Autumn   \n",
       "8740                     0.00           0.0            0.0  Autumn   \n",
       "8741                     0.00           0.0            0.0  Autumn   \n",
       "8742                     0.00           0.0            0.0  Autumn   \n",
       "8743                     0.00           0.0            0.0  Autumn   \n",
       "8744                     0.02           0.0            0.0  Autumn   \n",
       "8745                     0.45           0.0            0.0  Autumn   \n",
       "8746                     1.01           0.0            0.0  Autumn   \n",
       "8747                     1.38           0.0            0.0  Autumn   \n",
       "8748                     1.70           0.0            0.0  Autumn   \n",
       "8749                     1.83           0.0            0.0  Autumn   \n",
       "8750                     1.67           0.0            0.0  Autumn   \n",
       "8751                     1.21           0.0            0.0  Autumn   \n",
       "8752                     0.72           0.0            0.0  Autumn   \n",
       "8753                     0.23           0.0            0.0  Autumn   \n",
       "8754                     0.00           0.0            0.0  Autumn   \n",
       "8755                     0.00           0.0            0.0  Autumn   \n",
       "8756                     0.00           0.0            0.0  Autumn   \n",
       "8757                     0.00           0.0            0.0  Autumn   \n",
       "8758                     0.00           0.0            0.0  Autumn   \n",
       "8759                     0.00           0.0            0.0  Autumn   \n",
       "\n",
       "         Holiday Functioning Day  \n",
       "0     No Holiday             Yes  \n",
       "1     No Holiday             Yes  \n",
       "2     No Holiday             Yes  \n",
       "3     No Holiday             Yes  \n",
       "4     No Holiday             Yes  \n",
       "5     No Holiday             Yes  \n",
       "6     No Holiday             Yes  \n",
       "7     No Holiday             Yes  \n",
       "8     No Holiday             Yes  \n",
       "9     No Holiday             Yes  \n",
       "10    No Holiday             Yes  \n",
       "11    No Holiday             Yes  \n",
       "12    No Holiday             Yes  \n",
       "13    No Holiday             Yes  \n",
       "14    No Holiday             Yes  \n",
       "15    No Holiday             Yes  \n",
       "16    No Holiday             Yes  \n",
       "17    No Holiday             Yes  \n",
       "18    No Holiday             Yes  \n",
       "19    No Holiday             Yes  \n",
       "20    No Holiday             Yes  \n",
       "21    No Holiday             Yes  \n",
       "22    No Holiday             Yes  \n",
       "23    No Holiday             Yes  \n",
       "24    No Holiday             Yes  \n",
       "25    No Holiday             Yes  \n",
       "26    No Holiday             Yes  \n",
       "27    No Holiday             Yes  \n",
       "28    No Holiday             Yes  \n",
       "29    No Holiday             Yes  \n",
       "...          ...             ...  \n",
       "8730  No Holiday             Yes  \n",
       "8731  No Holiday             Yes  \n",
       "8732  No Holiday             Yes  \n",
       "8733  No Holiday             Yes  \n",
       "8734  No Holiday             Yes  \n",
       "8735  No Holiday             Yes  \n",
       "8736  No Holiday             Yes  \n",
       "8737  No Holiday             Yes  \n",
       "8738  No Holiday             Yes  \n",
       "8739  No Holiday             Yes  \n",
       "8740  No Holiday             Yes  \n",
       "8741  No Holiday             Yes  \n",
       "8742  No Holiday             Yes  \n",
       "8743  No Holiday             Yes  \n",
       "8744  No Holiday             Yes  \n",
       "8745  No Holiday             Yes  \n",
       "8746  No Holiday             Yes  \n",
       "8747  No Holiday             Yes  \n",
       "8748  No Holiday             Yes  \n",
       "8749  No Holiday             Yes  \n",
       "8750  No Holiday             Yes  \n",
       "8751  No Holiday             Yes  \n",
       "8752  No Holiday             Yes  \n",
       "8753  No Holiday             Yes  \n",
       "8754  No Holiday             Yes  \n",
       "8755  No Holiday             Yes  \n",
       "8756  No Holiday             Yes  \n",
       "8757  No Holiday             Yes  \n",
       "8758  No Holiday             Yes  \n",
       "8759  No Holiday             Yes  \n",
       "\n",
       "[8760 rows x 14 columns]"
      ]
     },
     "execution_count": 12,
     "metadata": {},
     "output_type": "execute_result"
    }
   ],
   "source": [
    "df"
   ]
  },
  {
   "cell_type": "markdown",
   "metadata": {},
   "source": [
    "## Exploration Data & Feature Engineering:\n",
    "\n",
    "On va d'abord regarder si le dataframe contient des valeurs nulles ou des valeurs incohérentes."
   ]
  },
  {
   "cell_type": "code",
   "execution_count": 13,
   "metadata": {},
   "outputs": [
    {
     "data": {
      "text/plain": [
       "Date                         0\n",
       "Rented Bike Count            0\n",
       "Hour                         0\n",
       "Temperature(°C)              0\n",
       "Humidity(%)                  0\n",
       "Wind speed (m/s)             0\n",
       "Visibility (10m)             0\n",
       "Dew point temperature(°C)    0\n",
       "Solar Radiation (MJ/m2)      0\n",
       "Rainfall(mm)                 0\n",
       "Snowfall (cm)                0\n",
       "Seasons                      0\n",
       "Holiday                      0\n",
       "Functioning Day              0\n",
       "dtype: int64"
      ]
     },
     "execution_count": 13,
     "metadata": {},
     "output_type": "execute_result"
    }
   ],
   "source": [
    "df.isnull().sum()"
   ]
  },
  {
   "cell_type": "code",
   "execution_count": 14,
   "metadata": {},
   "outputs": [
    {
     "data": {
      "text/plain": [
       "Date                         0\n",
       "Rented Bike Count            0\n",
       "Hour                         0\n",
       "Temperature(°C)              0\n",
       "Humidity(%)                  0\n",
       "Wind speed (m/s)             0\n",
       "Visibility (10m)             0\n",
       "Dew point temperature(°C)    0\n",
       "Solar Radiation (MJ/m2)      0\n",
       "Rainfall(mm)                 0\n",
       "Snowfall (cm)                0\n",
       "Seasons                      0\n",
       "Holiday                      0\n",
       "Functioning Day              0\n",
       "dtype: int64"
      ]
     },
     "execution_count": 14,
     "metadata": {},
     "output_type": "execute_result"
    }
   ],
   "source": [
    "df.isna().sum()"
   ]
  },
  {
   "cell_type": "markdown",
   "metadata": {},
   "source": [
    "Il n'y a pas de valeurs nulles, voyons si il existe des colonnes constantes ou des colonnes binaires : "
   ]
  },
  {
   "cell_type": "code",
   "execution_count": 15,
   "metadata": {},
   "outputs": [],
   "source": [
    "coluniqueval=[x for x in df.columns if len(df[x].unique())<3 ]"
   ]
  },
  {
   "cell_type": "code",
   "execution_count": 16,
   "metadata": {},
   "outputs": [
    {
     "data": {
      "text/plain": [
       "['Holiday', 'Functioning Day']"
      ]
     },
     "execution_count": 16,
     "metadata": {},
     "output_type": "execute_result"
    }
   ],
   "source": [
    "coluniqueval"
   ]
  },
  {
   "cell_type": "code",
   "execution_count": 17,
   "metadata": {},
   "outputs": [
    {
     "data": {
      "text/plain": [
       "array(['No Holiday', 'Holiday'], dtype=object)"
      ]
     },
     "execution_count": 17,
     "metadata": {},
     "output_type": "execute_result"
    }
   ],
   "source": [
    "df['Holiday'].unique()"
   ]
  },
  {
   "cell_type": "code",
   "execution_count": 18,
   "metadata": {},
   "outputs": [
    {
     "data": {
      "text/plain": [
       "array(['Yes', 'No'], dtype=object)"
      ]
     },
     "execution_count": 18,
     "metadata": {},
     "output_type": "execute_result"
    }
   ],
   "source": [
    "df['Functioning Day'].unique()"
   ]
  },
  {
   "cell_type": "markdown",
   "metadata": {},
   "source": [
    "On a donc trouvé 2 colonnes binaires et 0 colonnes constantes, on va pouvoir les encoder par la suite.\n",
    "Nous avons un dataset plutôt propre à ce niveau. Du coup, regardons de plus près les variables et leurs significations."
   ]
  },
  {
   "cell_type": "markdown",
   "metadata": {},
   "source": [
    "### Date"
   ]
  },
  {
   "cell_type": "markdown",
   "metadata": {},
   "source": [
    "Commençons par les features liées à la date. On va d'abord convertir le type de la colonne en timestamp. Puis nous pourrons ajouter les colonnes month,year et week_day."
   ]
  },
  {
   "cell_type": "code",
   "execution_count": 19,
   "metadata": {},
   "outputs": [],
   "source": [
    "olddf=df.copy()"
   ]
  },
  {
   "cell_type": "code",
   "execution_count": 20,
   "metadata": {},
   "outputs": [],
   "source": [
    "df['Date'] = pd.to_datetime(df['Date'], format=\"%d/%m/%Y\")"
   ]
  },
  {
   "cell_type": "code",
   "execution_count": 21,
   "metadata": {},
   "outputs": [],
   "source": [
    "df['year'] = df['Date'].dt.year\n",
    "df['month'] = df['Date'].dt.month_name()\n",
    "df['day'] = df['Date'].dt.day\n",
    "df['week_day'] = df['Date'].dt.day_name()"
   ]
  },
  {
   "cell_type": "code",
   "execution_count": 22,
   "metadata": {},
   "outputs": [
    {
     "data": {
      "text/html": [
       "<div>\n",
       "<style scoped>\n",
       "    .dataframe tbody tr th:only-of-type {\n",
       "        vertical-align: middle;\n",
       "    }\n",
       "\n",
       "    .dataframe tbody tr th {\n",
       "        vertical-align: top;\n",
       "    }\n",
       "\n",
       "    .dataframe thead th {\n",
       "        text-align: right;\n",
       "    }\n",
       "</style>\n",
       "<table border=\"1\" class=\"dataframe\">\n",
       "  <thead>\n",
       "    <tr style=\"text-align: right;\">\n",
       "      <th></th>\n",
       "      <th>Date</th>\n",
       "      <th>Rented Bike Count</th>\n",
       "      <th>Hour</th>\n",
       "      <th>Temperature(°C)</th>\n",
       "      <th>Humidity(%)</th>\n",
       "      <th>Wind speed (m/s)</th>\n",
       "      <th>Visibility (10m)</th>\n",
       "      <th>Dew point temperature(°C)</th>\n",
       "      <th>Solar Radiation (MJ/m2)</th>\n",
       "      <th>Rainfall(mm)</th>\n",
       "      <th>Snowfall (cm)</th>\n",
       "      <th>Seasons</th>\n",
       "      <th>Holiday</th>\n",
       "      <th>Functioning Day</th>\n",
       "      <th>year</th>\n",
       "      <th>month</th>\n",
       "      <th>day</th>\n",
       "      <th>week_day</th>\n",
       "    </tr>\n",
       "  </thead>\n",
       "  <tbody>\n",
       "    <tr>\n",
       "      <th>0</th>\n",
       "      <td>2017-12-01</td>\n",
       "      <td>254</td>\n",
       "      <td>0</td>\n",
       "      <td>-5.2</td>\n",
       "      <td>37</td>\n",
       "      <td>2.2</td>\n",
       "      <td>2000</td>\n",
       "      <td>-17.6</td>\n",
       "      <td>0.0</td>\n",
       "      <td>0.0</td>\n",
       "      <td>0.0</td>\n",
       "      <td>Winter</td>\n",
       "      <td>No Holiday</td>\n",
       "      <td>Yes</td>\n",
       "      <td>2017</td>\n",
       "      <td>December</td>\n",
       "      <td>1</td>\n",
       "      <td>Friday</td>\n",
       "    </tr>\n",
       "    <tr>\n",
       "      <th>1</th>\n",
       "      <td>2017-12-01</td>\n",
       "      <td>204</td>\n",
       "      <td>1</td>\n",
       "      <td>-5.5</td>\n",
       "      <td>38</td>\n",
       "      <td>0.8</td>\n",
       "      <td>2000</td>\n",
       "      <td>-17.6</td>\n",
       "      <td>0.0</td>\n",
       "      <td>0.0</td>\n",
       "      <td>0.0</td>\n",
       "      <td>Winter</td>\n",
       "      <td>No Holiday</td>\n",
       "      <td>Yes</td>\n",
       "      <td>2017</td>\n",
       "      <td>December</td>\n",
       "      <td>1</td>\n",
       "      <td>Friday</td>\n",
       "    </tr>\n",
       "    <tr>\n",
       "      <th>2</th>\n",
       "      <td>2017-12-01</td>\n",
       "      <td>173</td>\n",
       "      <td>2</td>\n",
       "      <td>-6.0</td>\n",
       "      <td>39</td>\n",
       "      <td>1.0</td>\n",
       "      <td>2000</td>\n",
       "      <td>-17.7</td>\n",
       "      <td>0.0</td>\n",
       "      <td>0.0</td>\n",
       "      <td>0.0</td>\n",
       "      <td>Winter</td>\n",
       "      <td>No Holiday</td>\n",
       "      <td>Yes</td>\n",
       "      <td>2017</td>\n",
       "      <td>December</td>\n",
       "      <td>1</td>\n",
       "      <td>Friday</td>\n",
       "    </tr>\n",
       "    <tr>\n",
       "      <th>3</th>\n",
       "      <td>2017-12-01</td>\n",
       "      <td>107</td>\n",
       "      <td>3</td>\n",
       "      <td>-6.2</td>\n",
       "      <td>40</td>\n",
       "      <td>0.9</td>\n",
       "      <td>2000</td>\n",
       "      <td>-17.6</td>\n",
       "      <td>0.0</td>\n",
       "      <td>0.0</td>\n",
       "      <td>0.0</td>\n",
       "      <td>Winter</td>\n",
       "      <td>No Holiday</td>\n",
       "      <td>Yes</td>\n",
       "      <td>2017</td>\n",
       "      <td>December</td>\n",
       "      <td>1</td>\n",
       "      <td>Friday</td>\n",
       "    </tr>\n",
       "    <tr>\n",
       "      <th>4</th>\n",
       "      <td>2017-12-01</td>\n",
       "      <td>78</td>\n",
       "      <td>4</td>\n",
       "      <td>-6.0</td>\n",
       "      <td>36</td>\n",
       "      <td>2.3</td>\n",
       "      <td>2000</td>\n",
       "      <td>-18.6</td>\n",
       "      <td>0.0</td>\n",
       "      <td>0.0</td>\n",
       "      <td>0.0</td>\n",
       "      <td>Winter</td>\n",
       "      <td>No Holiday</td>\n",
       "      <td>Yes</td>\n",
       "      <td>2017</td>\n",
       "      <td>December</td>\n",
       "      <td>1</td>\n",
       "      <td>Friday</td>\n",
       "    </tr>\n",
       "  </tbody>\n",
       "</table>\n",
       "</div>"
      ],
      "text/plain": [
       "        Date  Rented Bike Count  Hour  Temperature(°C)  Humidity(%)  \\\n",
       "0 2017-12-01                254     0             -5.2           37   \n",
       "1 2017-12-01                204     1             -5.5           38   \n",
       "2 2017-12-01                173     2             -6.0           39   \n",
       "3 2017-12-01                107     3             -6.2           40   \n",
       "4 2017-12-01                 78     4             -6.0           36   \n",
       "\n",
       "   Wind speed (m/s)  Visibility (10m)  Dew point temperature(°C)  \\\n",
       "0               2.2              2000                      -17.6   \n",
       "1               0.8              2000                      -17.6   \n",
       "2               1.0              2000                      -17.7   \n",
       "3               0.9              2000                      -17.6   \n",
       "4               2.3              2000                      -18.6   \n",
       "\n",
       "   Solar Radiation (MJ/m2)  Rainfall(mm)  Snowfall (cm) Seasons     Holiday  \\\n",
       "0                      0.0           0.0            0.0  Winter  No Holiday   \n",
       "1                      0.0           0.0            0.0  Winter  No Holiday   \n",
       "2                      0.0           0.0            0.0  Winter  No Holiday   \n",
       "3                      0.0           0.0            0.0  Winter  No Holiday   \n",
       "4                      0.0           0.0            0.0  Winter  No Holiday   \n",
       "\n",
       "  Functioning Day  year     month  day week_day  \n",
       "0             Yes  2017  December    1   Friday  \n",
       "1             Yes  2017  December    1   Friday  \n",
       "2             Yes  2017  December    1   Friday  \n",
       "3             Yes  2017  December    1   Friday  \n",
       "4             Yes  2017  December    1   Friday  "
      ]
     },
     "execution_count": 22,
     "metadata": {},
     "output_type": "execute_result"
    }
   ],
   "source": [
    "df.head()"
   ]
  },
  {
   "cell_type": "markdown",
   "metadata": {},
   "source": [
    "Regardons maintenant l'évolution des vélos loués en fonction de la date. Pour cela, on fait la somme de tous les vélos loués pour une date donné et on affiche la graphique correspondant."
   ]
  },
  {
   "cell_type": "code",
   "execution_count": 23,
   "metadata": {},
   "outputs": [
    {
     "data": {
      "text/plain": [
       "<matplotlib.axes._subplots.AxesSubplot at 0x26fd30cc860>"
      ]
     },
     "execution_count": 23,
     "metadata": {},
     "output_type": "execute_result"
    },
    {
     "data": {
      "image/png": "[encoded data removed]",
      "text/plain": [
       "<Figure size 1440x1440 with 1 Axes>"
      ]
     },
     "metadata": {
      "needs_background": "light"
     },
     "output_type": "display_data"
    }
   ],
   "source": [
    "a=df.groupby('Date')['Rented Bike Count'].sum().reset_index()\n",
    "a.plot(x='Date', y='Rented Bike Count',kind='line', color='blue', label='Vélos loués',figsize=(20,20))\n"
   ]
  },
  {
   "cell_type": "markdown",
   "metadata": {},
   "source": [
    "On peut voir qu'il y a eu une forte évolution au cours de l'année avec un pic en Juin et un second pic en Septembre puis on voit une baisse en fin d'année. En effet, de Mars à Juin, on observe une forte augmentation qui peut correspondre au retour du beau temps (et donc des locations plus nombreuses) puis une baisse pendant les vacances d'été et une reprise à la rentrée de Septembre. On aperçoit aussi certains jours où le nombre de location est de 0 ce qui est un peu curieux. Essayons de voir à cela correspond:"
   ]
  },
  {
   "cell_type": "code",
   "execution_count": 24,
   "metadata": {},
   "outputs": [
    {
     "data": {
      "text/html": [
       "<div>\n",
       "<style scoped>\n",
       "    .dataframe tbody tr th:only-of-type {\n",
       "        vertical-align: middle;\n",
       "    }\n",
       "\n",
       "    .dataframe tbody tr th {\n",
       "        vertical-align: top;\n",
       "    }\n",
       "\n",
       "    .dataframe thead th {\n",
       "        text-align: right;\n",
       "    }\n",
       "</style>\n",
       "<table border=\"1\" class=\"dataframe\">\n",
       "  <thead>\n",
       "    <tr style=\"text-align: right;\">\n",
       "      <th></th>\n",
       "      <th>Date</th>\n",
       "      <th>Rented Bike Count</th>\n",
       "      <th>Hour</th>\n",
       "      <th>Temperature(°C)</th>\n",
       "      <th>Humidity(%)</th>\n",
       "      <th>Wind speed (m/s)</th>\n",
       "      <th>Visibility (10m)</th>\n",
       "      <th>Dew point temperature(°C)</th>\n",
       "      <th>Solar Radiation (MJ/m2)</th>\n",
       "      <th>Rainfall(mm)</th>\n",
       "      <th>Snowfall (cm)</th>\n",
       "      <th>Seasons</th>\n",
       "      <th>Holiday</th>\n",
       "      <th>Functioning Day</th>\n",
       "      <th>year</th>\n",
       "      <th>month</th>\n",
       "      <th>day</th>\n",
       "      <th>week_day</th>\n",
       "    </tr>\n",
       "  </thead>\n",
       "  <tbody>\n",
       "    <tr>\n",
       "      <th>3144</th>\n",
       "      <td>2018-04-11</td>\n",
       "      <td>0</td>\n",
       "      <td>0</td>\n",
       "      <td>14.4</td>\n",
       "      <td>82</td>\n",
       "      <td>4.6</td>\n",
       "      <td>1041</td>\n",
       "      <td>11.3</td>\n",
       "      <td>0.00</td>\n",
       "      <td>0.0</td>\n",
       "      <td>0.0</td>\n",
       "      <td>Spring</td>\n",
       "      <td>No Holiday</td>\n",
       "      <td>No</td>\n",
       "      <td>2018</td>\n",
       "      <td>April</td>\n",
       "      <td>11</td>\n",
       "      <td>Wednesday</td>\n",
       "    </tr>\n",
       "    <tr>\n",
       "      <th>3145</th>\n",
       "      <td>2018-04-11</td>\n",
       "      <td>0</td>\n",
       "      <td>1</td>\n",
       "      <td>13.6</td>\n",
       "      <td>81</td>\n",
       "      <td>3.6</td>\n",
       "      <td>886</td>\n",
       "      <td>10.3</td>\n",
       "      <td>0.00</td>\n",
       "      <td>0.0</td>\n",
       "      <td>0.0</td>\n",
       "      <td>Spring</td>\n",
       "      <td>No Holiday</td>\n",
       "      <td>No</td>\n",
       "      <td>2018</td>\n",
       "      <td>April</td>\n",
       "      <td>11</td>\n",
       "      <td>Wednesday</td>\n",
       "    </tr>\n",
       "    <tr>\n",
       "      <th>3146</th>\n",
       "      <td>2018-04-11</td>\n",
       "      <td>0</td>\n",
       "      <td>2</td>\n",
       "      <td>12.7</td>\n",
       "      <td>80</td>\n",
       "      <td>3.9</td>\n",
       "      <td>885</td>\n",
       "      <td>9.3</td>\n",
       "      <td>0.00</td>\n",
       "      <td>0.0</td>\n",
       "      <td>0.0</td>\n",
       "      <td>Spring</td>\n",
       "      <td>No Holiday</td>\n",
       "      <td>No</td>\n",
       "      <td>2018</td>\n",
       "      <td>April</td>\n",
       "      <td>11</td>\n",
       "      <td>Wednesday</td>\n",
       "    </tr>\n",
       "    <tr>\n",
       "      <th>3147</th>\n",
       "      <td>2018-04-11</td>\n",
       "      <td>0</td>\n",
       "      <td>3</td>\n",
       "      <td>11.6</td>\n",
       "      <td>81</td>\n",
       "      <td>3.1</td>\n",
       "      <td>687</td>\n",
       "      <td>8.4</td>\n",
       "      <td>0.00</td>\n",
       "      <td>0.0</td>\n",
       "      <td>0.0</td>\n",
       "      <td>Spring</td>\n",
       "      <td>No Holiday</td>\n",
       "      <td>No</td>\n",
       "      <td>2018</td>\n",
       "      <td>April</td>\n",
       "      <td>11</td>\n",
       "      <td>Wednesday</td>\n",
       "    </tr>\n",
       "    <tr>\n",
       "      <th>3148</th>\n",
       "      <td>2018-04-11</td>\n",
       "      <td>0</td>\n",
       "      <td>4</td>\n",
       "      <td>10.2</td>\n",
       "      <td>83</td>\n",
       "      <td>3.5</td>\n",
       "      <td>554</td>\n",
       "      <td>7.4</td>\n",
       "      <td>0.00</td>\n",
       "      <td>0.0</td>\n",
       "      <td>0.0</td>\n",
       "      <td>Spring</td>\n",
       "      <td>No Holiday</td>\n",
       "      <td>No</td>\n",
       "      <td>2018</td>\n",
       "      <td>April</td>\n",
       "      <td>11</td>\n",
       "      <td>Wednesday</td>\n",
       "    </tr>\n",
       "    <tr>\n",
       "      <th>3149</th>\n",
       "      <td>2018-04-11</td>\n",
       "      <td>0</td>\n",
       "      <td>5</td>\n",
       "      <td>9.7</td>\n",
       "      <td>84</td>\n",
       "      <td>1.7</td>\n",
       "      <td>447</td>\n",
       "      <td>7.1</td>\n",
       "      <td>0.00</td>\n",
       "      <td>0.0</td>\n",
       "      <td>0.0</td>\n",
       "      <td>Spring</td>\n",
       "      <td>No Holiday</td>\n",
       "      <td>No</td>\n",
       "      <td>2018</td>\n",
       "      <td>April</td>\n",
       "      <td>11</td>\n",
       "      <td>Wednesday</td>\n",
       "    </tr>\n",
       "    <tr>\n",
       "      <th>3150</th>\n",
       "      <td>2018-04-11</td>\n",
       "      <td>0</td>\n",
       "      <td>6</td>\n",
       "      <td>9.0</td>\n",
       "      <td>86</td>\n",
       "      <td>2.0</td>\n",
       "      <td>442</td>\n",
       "      <td>6.7</td>\n",
       "      <td>0.00</td>\n",
       "      <td>0.0</td>\n",
       "      <td>0.0</td>\n",
       "      <td>Spring</td>\n",
       "      <td>No Holiday</td>\n",
       "      <td>No</td>\n",
       "      <td>2018</td>\n",
       "      <td>April</td>\n",
       "      <td>11</td>\n",
       "      <td>Wednesday</td>\n",
       "    </tr>\n",
       "    <tr>\n",
       "      <th>3151</th>\n",
       "      <td>2018-04-11</td>\n",
       "      <td>0</td>\n",
       "      <td>7</td>\n",
       "      <td>8.8</td>\n",
       "      <td>85</td>\n",
       "      <td>1.1</td>\n",
       "      <td>438</td>\n",
       "      <td>6.4</td>\n",
       "      <td>0.11</td>\n",
       "      <td>0.0</td>\n",
       "      <td>0.0</td>\n",
       "      <td>Spring</td>\n",
       "      <td>No Holiday</td>\n",
       "      <td>No</td>\n",
       "      <td>2018</td>\n",
       "      <td>April</td>\n",
       "      <td>11</td>\n",
       "      <td>Wednesday</td>\n",
       "    </tr>\n",
       "    <tr>\n",
       "      <th>3152</th>\n",
       "      <td>2018-04-11</td>\n",
       "      <td>0</td>\n",
       "      <td>8</td>\n",
       "      <td>9.7</td>\n",
       "      <td>77</td>\n",
       "      <td>1.6</td>\n",
       "      <td>519</td>\n",
       "      <td>5.8</td>\n",
       "      <td>0.68</td>\n",
       "      <td>0.0</td>\n",
       "      <td>0.0</td>\n",
       "      <td>Spring</td>\n",
       "      <td>No Holiday</td>\n",
       "      <td>No</td>\n",
       "      <td>2018</td>\n",
       "      <td>April</td>\n",
       "      <td>11</td>\n",
       "      <td>Wednesday</td>\n",
       "    </tr>\n",
       "    <tr>\n",
       "      <th>3153</th>\n",
       "      <td>2018-04-11</td>\n",
       "      <td>0</td>\n",
       "      <td>9</td>\n",
       "      <td>11.8</td>\n",
       "      <td>59</td>\n",
       "      <td>2.1</td>\n",
       "      <td>975</td>\n",
       "      <td>4.0</td>\n",
       "      <td>1.44</td>\n",
       "      <td>0.0</td>\n",
       "      <td>0.0</td>\n",
       "      <td>Spring</td>\n",
       "      <td>No Holiday</td>\n",
       "      <td>No</td>\n",
       "      <td>2018</td>\n",
       "      <td>April</td>\n",
       "      <td>11</td>\n",
       "      <td>Wednesday</td>\n",
       "    </tr>\n",
       "    <tr>\n",
       "      <th>3154</th>\n",
       "      <td>2018-04-11</td>\n",
       "      <td>0</td>\n",
       "      <td>10</td>\n",
       "      <td>13.3</td>\n",
       "      <td>51</td>\n",
       "      <td>4.1</td>\n",
       "      <td>1487</td>\n",
       "      <td>3.3</td>\n",
       "      <td>2.17</td>\n",
       "      <td>0.0</td>\n",
       "      <td>0.0</td>\n",
       "      <td>Spring</td>\n",
       "      <td>No Holiday</td>\n",
       "      <td>No</td>\n",
       "      <td>2018</td>\n",
       "      <td>April</td>\n",
       "      <td>11</td>\n",
       "      <td>Wednesday</td>\n",
       "    </tr>\n",
       "    <tr>\n",
       "      <th>3155</th>\n",
       "      <td>2018-04-11</td>\n",
       "      <td>0</td>\n",
       "      <td>11</td>\n",
       "      <td>14.9</td>\n",
       "      <td>44</td>\n",
       "      <td>4.0</td>\n",
       "      <td>1468</td>\n",
       "      <td>2.7</td>\n",
       "      <td>2.75</td>\n",
       "      <td>0.0</td>\n",
       "      <td>0.0</td>\n",
       "      <td>Spring</td>\n",
       "      <td>No Holiday</td>\n",
       "      <td>No</td>\n",
       "      <td>2018</td>\n",
       "      <td>April</td>\n",
       "      <td>11</td>\n",
       "      <td>Wednesday</td>\n",
       "    </tr>\n",
       "    <tr>\n",
       "      <th>3156</th>\n",
       "      <td>2018-04-11</td>\n",
       "      <td>0</td>\n",
       "      <td>12</td>\n",
       "      <td>15.7</td>\n",
       "      <td>46</td>\n",
       "      <td>3.9</td>\n",
       "      <td>1132</td>\n",
       "      <td>4.0</td>\n",
       "      <td>3.05</td>\n",
       "      <td>0.0</td>\n",
       "      <td>0.0</td>\n",
       "      <td>Spring</td>\n",
       "      <td>No Holiday</td>\n",
       "      <td>No</td>\n",
       "      <td>2018</td>\n",
       "      <td>April</td>\n",
       "      <td>11</td>\n",
       "      <td>Wednesday</td>\n",
       "    </tr>\n",
       "    <tr>\n",
       "      <th>3157</th>\n",
       "      <td>2018-04-11</td>\n",
       "      <td>0</td>\n",
       "      <td>13</td>\n",
       "      <td>15.6</td>\n",
       "      <td>38</td>\n",
       "      <td>4.7</td>\n",
       "      <td>1558</td>\n",
       "      <td>1.3</td>\n",
       "      <td>3.32</td>\n",
       "      <td>0.0</td>\n",
       "      <td>0.0</td>\n",
       "      <td>Spring</td>\n",
       "      <td>No Holiday</td>\n",
       "      <td>No</td>\n",
       "      <td>2018</td>\n",
       "      <td>April</td>\n",
       "      <td>11</td>\n",
       "      <td>Wednesday</td>\n",
       "    </tr>\n",
       "    <tr>\n",
       "      <th>3158</th>\n",
       "      <td>2018-04-11</td>\n",
       "      <td>0</td>\n",
       "      <td>14</td>\n",
       "      <td>16.4</td>\n",
       "      <td>28</td>\n",
       "      <td>3.4</td>\n",
       "      <td>1804</td>\n",
       "      <td>-2.1</td>\n",
       "      <td>3.16</td>\n",
       "      <td>0.0</td>\n",
       "      <td>0.0</td>\n",
       "      <td>Spring</td>\n",
       "      <td>No Holiday</td>\n",
       "      <td>No</td>\n",
       "      <td>2018</td>\n",
       "      <td>April</td>\n",
       "      <td>11</td>\n",
       "      <td>Wednesday</td>\n",
       "    </tr>\n",
       "    <tr>\n",
       "      <th>3159</th>\n",
       "      <td>2018-04-11</td>\n",
       "      <td>0</td>\n",
       "      <td>15</td>\n",
       "      <td>17.0</td>\n",
       "      <td>28</td>\n",
       "      <td>3.5</td>\n",
       "      <td>1804</td>\n",
       "      <td>-1.6</td>\n",
       "      <td>2.90</td>\n",
       "      <td>0.0</td>\n",
       "      <td>0.0</td>\n",
       "      <td>Spring</td>\n",
       "      <td>No Holiday</td>\n",
       "      <td>No</td>\n",
       "      <td>2018</td>\n",
       "      <td>April</td>\n",
       "      <td>11</td>\n",
       "      <td>Wednesday</td>\n",
       "    </tr>\n",
       "    <tr>\n",
       "      <th>3160</th>\n",
       "      <td>2018-04-11</td>\n",
       "      <td>0</td>\n",
       "      <td>16</td>\n",
       "      <td>16.9</td>\n",
       "      <td>23</td>\n",
       "      <td>4.4</td>\n",
       "      <td>1938</td>\n",
       "      <td>-4.4</td>\n",
       "      <td>2.39</td>\n",
       "      <td>0.0</td>\n",
       "      <td>0.0</td>\n",
       "      <td>Spring</td>\n",
       "      <td>No Holiday</td>\n",
       "      <td>No</td>\n",
       "      <td>2018</td>\n",
       "      <td>April</td>\n",
       "      <td>11</td>\n",
       "      <td>Wednesday</td>\n",
       "    </tr>\n",
       "    <tr>\n",
       "      <th>3161</th>\n",
       "      <td>2018-04-11</td>\n",
       "      <td>0</td>\n",
       "      <td>17</td>\n",
       "      <td>16.2</td>\n",
       "      <td>22</td>\n",
       "      <td>4.1</td>\n",
       "      <td>2000</td>\n",
       "      <td>-5.5</td>\n",
       "      <td>1.73</td>\n",
       "      <td>0.0</td>\n",
       "      <td>0.0</td>\n",
       "      <td>Spring</td>\n",
       "      <td>No Holiday</td>\n",
       "      <td>No</td>\n",
       "      <td>2018</td>\n",
       "      <td>April</td>\n",
       "      <td>11</td>\n",
       "      <td>Wednesday</td>\n",
       "    </tr>\n",
       "    <tr>\n",
       "      <th>3162</th>\n",
       "      <td>2018-04-11</td>\n",
       "      <td>0</td>\n",
       "      <td>18</td>\n",
       "      <td>15.2</td>\n",
       "      <td>21</td>\n",
       "      <td>2.9</td>\n",
       "      <td>2000</td>\n",
       "      <td>-7.0</td>\n",
       "      <td>0.94</td>\n",
       "      <td>0.0</td>\n",
       "      <td>0.0</td>\n",
       "      <td>Spring</td>\n",
       "      <td>No Holiday</td>\n",
       "      <td>No</td>\n",
       "      <td>2018</td>\n",
       "      <td>April</td>\n",
       "      <td>11</td>\n",
       "      <td>Wednesday</td>\n",
       "    </tr>\n",
       "    <tr>\n",
       "      <th>3163</th>\n",
       "      <td>2018-04-11</td>\n",
       "      <td>0</td>\n",
       "      <td>19</td>\n",
       "      <td>13.2</td>\n",
       "      <td>28</td>\n",
       "      <td>2.9</td>\n",
       "      <td>2000</td>\n",
       "      <td>-4.9</td>\n",
       "      <td>0.22</td>\n",
       "      <td>0.0</td>\n",
       "      <td>0.0</td>\n",
       "      <td>Spring</td>\n",
       "      <td>No Holiday</td>\n",
       "      <td>No</td>\n",
       "      <td>2018</td>\n",
       "      <td>April</td>\n",
       "      <td>11</td>\n",
       "      <td>Wednesday</td>\n",
       "    </tr>\n",
       "    <tr>\n",
       "      <th>3164</th>\n",
       "      <td>2018-04-11</td>\n",
       "      <td>0</td>\n",
       "      <td>20</td>\n",
       "      <td>11.9</td>\n",
       "      <td>33</td>\n",
       "      <td>2.0</td>\n",
       "      <td>2000</td>\n",
       "      <td>-3.8</td>\n",
       "      <td>0.00</td>\n",
       "      <td>0.0</td>\n",
       "      <td>0.0</td>\n",
       "      <td>Spring</td>\n",
       "      <td>No Holiday</td>\n",
       "      <td>No</td>\n",
       "      <td>2018</td>\n",
       "      <td>April</td>\n",
       "      <td>11</td>\n",
       "      <td>Wednesday</td>\n",
       "    </tr>\n",
       "    <tr>\n",
       "      <th>3165</th>\n",
       "      <td>2018-04-11</td>\n",
       "      <td>0</td>\n",
       "      <td>21</td>\n",
       "      <td>11.0</td>\n",
       "      <td>34</td>\n",
       "      <td>2.1</td>\n",
       "      <td>2000</td>\n",
       "      <td>-4.2</td>\n",
       "      <td>0.00</td>\n",
       "      <td>0.0</td>\n",
       "      <td>0.0</td>\n",
       "      <td>Spring</td>\n",
       "      <td>No Holiday</td>\n",
       "      <td>No</td>\n",
       "      <td>2018</td>\n",
       "      <td>April</td>\n",
       "      <td>11</td>\n",
       "      <td>Wednesday</td>\n",
       "    </tr>\n",
       "    <tr>\n",
       "      <th>3166</th>\n",
       "      <td>2018-04-11</td>\n",
       "      <td>0</td>\n",
       "      <td>22</td>\n",
       "      <td>10.3</td>\n",
       "      <td>42</td>\n",
       "      <td>1.0</td>\n",
       "      <td>1923</td>\n",
       "      <td>-2.0</td>\n",
       "      <td>0.00</td>\n",
       "      <td>0.0</td>\n",
       "      <td>0.0</td>\n",
       "      <td>Spring</td>\n",
       "      <td>No Holiday</td>\n",
       "      <td>No</td>\n",
       "      <td>2018</td>\n",
       "      <td>April</td>\n",
       "      <td>11</td>\n",
       "      <td>Wednesday</td>\n",
       "    </tr>\n",
       "    <tr>\n",
       "      <th>3167</th>\n",
       "      <td>2018-04-11</td>\n",
       "      <td>0</td>\n",
       "      <td>23</td>\n",
       "      <td>9.7</td>\n",
       "      <td>45</td>\n",
       "      <td>2.0</td>\n",
       "      <td>1969</td>\n",
       "      <td>-1.6</td>\n",
       "      <td>0.00</td>\n",
       "      <td>0.0</td>\n",
       "      <td>0.0</td>\n",
       "      <td>Spring</td>\n",
       "      <td>No Holiday</td>\n",
       "      <td>No</td>\n",
       "      <td>2018</td>\n",
       "      <td>April</td>\n",
       "      <td>11</td>\n",
       "      <td>Wednesday</td>\n",
       "    </tr>\n",
       "    <tr>\n",
       "      <th>3840</th>\n",
       "      <td>2018-05-10</td>\n",
       "      <td>0</td>\n",
       "      <td>0</td>\n",
       "      <td>14.5</td>\n",
       "      <td>63</td>\n",
       "      <td>0.9</td>\n",
       "      <td>2000</td>\n",
       "      <td>7.5</td>\n",
       "      <td>0.00</td>\n",
       "      <td>0.0</td>\n",
       "      <td>0.0</td>\n",
       "      <td>Spring</td>\n",
       "      <td>No Holiday</td>\n",
       "      <td>No</td>\n",
       "      <td>2018</td>\n",
       "      <td>May</td>\n",
       "      <td>10</td>\n",
       "      <td>Thursday</td>\n",
       "    </tr>\n",
       "    <tr>\n",
       "      <th>3841</th>\n",
       "      <td>2018-05-10</td>\n",
       "      <td>0</td>\n",
       "      <td>1</td>\n",
       "      <td>13.9</td>\n",
       "      <td>66</td>\n",
       "      <td>1.0</td>\n",
       "      <td>1960</td>\n",
       "      <td>7.6</td>\n",
       "      <td>0.00</td>\n",
       "      <td>0.0</td>\n",
       "      <td>0.0</td>\n",
       "      <td>Spring</td>\n",
       "      <td>No Holiday</td>\n",
       "      <td>No</td>\n",
       "      <td>2018</td>\n",
       "      <td>May</td>\n",
       "      <td>10</td>\n",
       "      <td>Thursday</td>\n",
       "    </tr>\n",
       "    <tr>\n",
       "      <th>3842</th>\n",
       "      <td>2018-05-10</td>\n",
       "      <td>0</td>\n",
       "      <td>2</td>\n",
       "      <td>13.1</td>\n",
       "      <td>73</td>\n",
       "      <td>1.9</td>\n",
       "      <td>1895</td>\n",
       "      <td>8.3</td>\n",
       "      <td>0.00</td>\n",
       "      <td>0.0</td>\n",
       "      <td>0.0</td>\n",
       "      <td>Spring</td>\n",
       "      <td>No Holiday</td>\n",
       "      <td>No</td>\n",
       "      <td>2018</td>\n",
       "      <td>May</td>\n",
       "      <td>10</td>\n",
       "      <td>Thursday</td>\n",
       "    </tr>\n",
       "    <tr>\n",
       "      <th>3843</th>\n",
       "      <td>2018-05-10</td>\n",
       "      <td>0</td>\n",
       "      <td>3</td>\n",
       "      <td>12.9</td>\n",
       "      <td>74</td>\n",
       "      <td>1.7</td>\n",
       "      <td>1698</td>\n",
       "      <td>8.3</td>\n",
       "      <td>0.00</td>\n",
       "      <td>0.0</td>\n",
       "      <td>0.0</td>\n",
       "      <td>Spring</td>\n",
       "      <td>No Holiday</td>\n",
       "      <td>No</td>\n",
       "      <td>2018</td>\n",
       "      <td>May</td>\n",
       "      <td>10</td>\n",
       "      <td>Thursday</td>\n",
       "    </tr>\n",
       "    <tr>\n",
       "      <th>3844</th>\n",
       "      <td>2018-05-10</td>\n",
       "      <td>0</td>\n",
       "      <td>4</td>\n",
       "      <td>12.0</td>\n",
       "      <td>79</td>\n",
       "      <td>0.6</td>\n",
       "      <td>1351</td>\n",
       "      <td>8.4</td>\n",
       "      <td>0.00</td>\n",
       "      <td>0.0</td>\n",
       "      <td>0.0</td>\n",
       "      <td>Spring</td>\n",
       "      <td>No Holiday</td>\n",
       "      <td>No</td>\n",
       "      <td>2018</td>\n",
       "      <td>May</td>\n",
       "      <td>10</td>\n",
       "      <td>Thursday</td>\n",
       "    </tr>\n",
       "    <tr>\n",
       "      <th>3845</th>\n",
       "      <td>2018-05-10</td>\n",
       "      <td>0</td>\n",
       "      <td>5</td>\n",
       "      <td>11.5</td>\n",
       "      <td>80</td>\n",
       "      <td>0.9</td>\n",
       "      <td>974</td>\n",
       "      <td>8.1</td>\n",
       "      <td>0.00</td>\n",
       "      <td>0.0</td>\n",
       "      <td>0.0</td>\n",
       "      <td>Spring</td>\n",
       "      <td>No Holiday</td>\n",
       "      <td>No</td>\n",
       "      <td>2018</td>\n",
       "      <td>May</td>\n",
       "      <td>10</td>\n",
       "      <td>Thursday</td>\n",
       "    </tr>\n",
       "    <tr>\n",
       "      <th>...</th>\n",
       "      <td>...</td>\n",
       "      <td>...</td>\n",
       "      <td>...</td>\n",
       "      <td>...</td>\n",
       "      <td>...</td>\n",
       "      <td>...</td>\n",
       "      <td>...</td>\n",
       "      <td>...</td>\n",
       "      <td>...</td>\n",
       "      <td>...</td>\n",
       "      <td>...</td>\n",
       "      <td>...</td>\n",
       "      <td>...</td>\n",
       "      <td>...</td>\n",
       "      <td>...</td>\n",
       "      <td>...</td>\n",
       "      <td>...</td>\n",
       "      <td>...</td>\n",
       "    </tr>\n",
       "    <tr>\n",
       "      <th>8178</th>\n",
       "      <td>2018-11-06</td>\n",
       "      <td>0</td>\n",
       "      <td>18</td>\n",
       "      <td>14.0</td>\n",
       "      <td>71</td>\n",
       "      <td>1.5</td>\n",
       "      <td>201</td>\n",
       "      <td>8.8</td>\n",
       "      <td>0.01</td>\n",
       "      <td>0.0</td>\n",
       "      <td>0.0</td>\n",
       "      <td>Autumn</td>\n",
       "      <td>No Holiday</td>\n",
       "      <td>No</td>\n",
       "      <td>2018</td>\n",
       "      <td>November</td>\n",
       "      <td>6</td>\n",
       "      <td>Tuesday</td>\n",
       "    </tr>\n",
       "    <tr>\n",
       "      <th>8179</th>\n",
       "      <td>2018-11-06</td>\n",
       "      <td>0</td>\n",
       "      <td>19</td>\n",
       "      <td>13.3</td>\n",
       "      <td>72</td>\n",
       "      <td>1.1</td>\n",
       "      <td>234</td>\n",
       "      <td>8.3</td>\n",
       "      <td>0.00</td>\n",
       "      <td>0.0</td>\n",
       "      <td>0.0</td>\n",
       "      <td>Autumn</td>\n",
       "      <td>No Holiday</td>\n",
       "      <td>No</td>\n",
       "      <td>2018</td>\n",
       "      <td>November</td>\n",
       "      <td>6</td>\n",
       "      <td>Tuesday</td>\n",
       "    </tr>\n",
       "    <tr>\n",
       "      <th>8180</th>\n",
       "      <td>2018-11-06</td>\n",
       "      <td>0</td>\n",
       "      <td>20</td>\n",
       "      <td>13.2</td>\n",
       "      <td>73</td>\n",
       "      <td>1.1</td>\n",
       "      <td>246</td>\n",
       "      <td>8.4</td>\n",
       "      <td>0.00</td>\n",
       "      <td>0.0</td>\n",
       "      <td>0.0</td>\n",
       "      <td>Autumn</td>\n",
       "      <td>No Holiday</td>\n",
       "      <td>No</td>\n",
       "      <td>2018</td>\n",
       "      <td>November</td>\n",
       "      <td>6</td>\n",
       "      <td>Tuesday</td>\n",
       "    </tr>\n",
       "    <tr>\n",
       "      <th>8181</th>\n",
       "      <td>2018-11-06</td>\n",
       "      <td>0</td>\n",
       "      <td>21</td>\n",
       "      <td>13.0</td>\n",
       "      <td>76</td>\n",
       "      <td>0.9</td>\n",
       "      <td>231</td>\n",
       "      <td>8.8</td>\n",
       "      <td>0.00</td>\n",
       "      <td>0.0</td>\n",
       "      <td>0.0</td>\n",
       "      <td>Autumn</td>\n",
       "      <td>No Holiday</td>\n",
       "      <td>No</td>\n",
       "      <td>2018</td>\n",
       "      <td>November</td>\n",
       "      <td>6</td>\n",
       "      <td>Tuesday</td>\n",
       "    </tr>\n",
       "    <tr>\n",
       "      <th>8182</th>\n",
       "      <td>2018-11-06</td>\n",
       "      <td>0</td>\n",
       "      <td>22</td>\n",
       "      <td>12.3</td>\n",
       "      <td>73</td>\n",
       "      <td>1.2</td>\n",
       "      <td>277</td>\n",
       "      <td>7.5</td>\n",
       "      <td>0.00</td>\n",
       "      <td>0.0</td>\n",
       "      <td>0.0</td>\n",
       "      <td>Autumn</td>\n",
       "      <td>No Holiday</td>\n",
       "      <td>No</td>\n",
       "      <td>2018</td>\n",
       "      <td>November</td>\n",
       "      <td>6</td>\n",
       "      <td>Tuesday</td>\n",
       "    </tr>\n",
       "    <tr>\n",
       "      <th>8183</th>\n",
       "      <td>2018-11-06</td>\n",
       "      <td>0</td>\n",
       "      <td>23</td>\n",
       "      <td>12.2</td>\n",
       "      <td>74</td>\n",
       "      <td>1.1</td>\n",
       "      <td>291</td>\n",
       "      <td>7.6</td>\n",
       "      <td>0.00</td>\n",
       "      <td>0.0</td>\n",
       "      <td>0.0</td>\n",
       "      <td>Autumn</td>\n",
       "      <td>No Holiday</td>\n",
       "      <td>No</td>\n",
       "      <td>2018</td>\n",
       "      <td>November</td>\n",
       "      <td>6</td>\n",
       "      <td>Tuesday</td>\n",
       "    </tr>\n",
       "    <tr>\n",
       "      <th>8232</th>\n",
       "      <td>2018-11-09</td>\n",
       "      <td>0</td>\n",
       "      <td>0</td>\n",
       "      <td>12.0</td>\n",
       "      <td>96</td>\n",
       "      <td>3.1</td>\n",
       "      <td>1185</td>\n",
       "      <td>11.3</td>\n",
       "      <td>0.00</td>\n",
       "      <td>18.0</td>\n",
       "      <td>0.0</td>\n",
       "      <td>Autumn</td>\n",
       "      <td>No Holiday</td>\n",
       "      <td>No</td>\n",
       "      <td>2018</td>\n",
       "      <td>November</td>\n",
       "      <td>9</td>\n",
       "      <td>Friday</td>\n",
       "    </tr>\n",
       "    <tr>\n",
       "      <th>8233</th>\n",
       "      <td>2018-11-09</td>\n",
       "      <td>0</td>\n",
       "      <td>1</td>\n",
       "      <td>11.4</td>\n",
       "      <td>89</td>\n",
       "      <td>2.6</td>\n",
       "      <td>1376</td>\n",
       "      <td>9.6</td>\n",
       "      <td>0.00</td>\n",
       "      <td>0.0</td>\n",
       "      <td>0.0</td>\n",
       "      <td>Autumn</td>\n",
       "      <td>No Holiday</td>\n",
       "      <td>No</td>\n",
       "      <td>2018</td>\n",
       "      <td>November</td>\n",
       "      <td>9</td>\n",
       "      <td>Friday</td>\n",
       "    </tr>\n",
       "    <tr>\n",
       "      <th>8234</th>\n",
       "      <td>2018-11-09</td>\n",
       "      <td>0</td>\n",
       "      <td>2</td>\n",
       "      <td>11.3</td>\n",
       "      <td>88</td>\n",
       "      <td>3.7</td>\n",
       "      <td>1680</td>\n",
       "      <td>9.3</td>\n",
       "      <td>0.00</td>\n",
       "      <td>0.0</td>\n",
       "      <td>0.0</td>\n",
       "      <td>Autumn</td>\n",
       "      <td>No Holiday</td>\n",
       "      <td>No</td>\n",
       "      <td>2018</td>\n",
       "      <td>November</td>\n",
       "      <td>9</td>\n",
       "      <td>Friday</td>\n",
       "    </tr>\n",
       "    <tr>\n",
       "      <th>8235</th>\n",
       "      <td>2018-11-09</td>\n",
       "      <td>0</td>\n",
       "      <td>3</td>\n",
       "      <td>10.8</td>\n",
       "      <td>82</td>\n",
       "      <td>2.8</td>\n",
       "      <td>1712</td>\n",
       "      <td>7.8</td>\n",
       "      <td>0.00</td>\n",
       "      <td>0.5</td>\n",
       "      <td>0.0</td>\n",
       "      <td>Autumn</td>\n",
       "      <td>No Holiday</td>\n",
       "      <td>No</td>\n",
       "      <td>2018</td>\n",
       "      <td>November</td>\n",
       "      <td>9</td>\n",
       "      <td>Friday</td>\n",
       "    </tr>\n",
       "    <tr>\n",
       "      <th>8236</th>\n",
       "      <td>2018-11-09</td>\n",
       "      <td>0</td>\n",
       "      <td>4</td>\n",
       "      <td>10.6</td>\n",
       "      <td>75</td>\n",
       "      <td>3.2</td>\n",
       "      <td>913</td>\n",
       "      <td>6.3</td>\n",
       "      <td>0.00</td>\n",
       "      <td>0.0</td>\n",
       "      <td>0.0</td>\n",
       "      <td>Autumn</td>\n",
       "      <td>No Holiday</td>\n",
       "      <td>No</td>\n",
       "      <td>2018</td>\n",
       "      <td>November</td>\n",
       "      <td>9</td>\n",
       "      <td>Friday</td>\n",
       "    </tr>\n",
       "    <tr>\n",
       "      <th>8237</th>\n",
       "      <td>2018-11-09</td>\n",
       "      <td>0</td>\n",
       "      <td>5</td>\n",
       "      <td>10.9</td>\n",
       "      <td>68</td>\n",
       "      <td>3.1</td>\n",
       "      <td>1034</td>\n",
       "      <td>5.2</td>\n",
       "      <td>0.00</td>\n",
       "      <td>0.0</td>\n",
       "      <td>0.0</td>\n",
       "      <td>Autumn</td>\n",
       "      <td>No Holiday</td>\n",
       "      <td>No</td>\n",
       "      <td>2018</td>\n",
       "      <td>November</td>\n",
       "      <td>9</td>\n",
       "      <td>Friday</td>\n",
       "    </tr>\n",
       "    <tr>\n",
       "      <th>8238</th>\n",
       "      <td>2018-11-09</td>\n",
       "      <td>0</td>\n",
       "      <td>6</td>\n",
       "      <td>11.0</td>\n",
       "      <td>70</td>\n",
       "      <td>3.1</td>\n",
       "      <td>900</td>\n",
       "      <td>5.7</td>\n",
       "      <td>0.00</td>\n",
       "      <td>0.0</td>\n",
       "      <td>0.0</td>\n",
       "      <td>Autumn</td>\n",
       "      <td>No Holiday</td>\n",
       "      <td>No</td>\n",
       "      <td>2018</td>\n",
       "      <td>November</td>\n",
       "      <td>9</td>\n",
       "      <td>Friday</td>\n",
       "    </tr>\n",
       "    <tr>\n",
       "      <th>8239</th>\n",
       "      <td>2018-11-09</td>\n",
       "      <td>0</td>\n",
       "      <td>7</td>\n",
       "      <td>10.4</td>\n",
       "      <td>81</td>\n",
       "      <td>3.0</td>\n",
       "      <td>1741</td>\n",
       "      <td>7.2</td>\n",
       "      <td>0.00</td>\n",
       "      <td>0.0</td>\n",
       "      <td>0.0</td>\n",
       "      <td>Autumn</td>\n",
       "      <td>No Holiday</td>\n",
       "      <td>No</td>\n",
       "      <td>2018</td>\n",
       "      <td>November</td>\n",
       "      <td>9</td>\n",
       "      <td>Friday</td>\n",
       "    </tr>\n",
       "    <tr>\n",
       "      <th>8240</th>\n",
       "      <td>2018-11-09</td>\n",
       "      <td>0</td>\n",
       "      <td>8</td>\n",
       "      <td>10.1</td>\n",
       "      <td>85</td>\n",
       "      <td>2.4</td>\n",
       "      <td>1809</td>\n",
       "      <td>7.6</td>\n",
       "      <td>0.05</td>\n",
       "      <td>0.0</td>\n",
       "      <td>0.0</td>\n",
       "      <td>Autumn</td>\n",
       "      <td>No Holiday</td>\n",
       "      <td>No</td>\n",
       "      <td>2018</td>\n",
       "      <td>November</td>\n",
       "      <td>9</td>\n",
       "      <td>Friday</td>\n",
       "    </tr>\n",
       "    <tr>\n",
       "      <th>8241</th>\n",
       "      <td>2018-11-09</td>\n",
       "      <td>0</td>\n",
       "      <td>9</td>\n",
       "      <td>10.8</td>\n",
       "      <td>78</td>\n",
       "      <td>2.6</td>\n",
       "      <td>1985</td>\n",
       "      <td>7.1</td>\n",
       "      <td>0.13</td>\n",
       "      <td>0.5</td>\n",
       "      <td>0.0</td>\n",
       "      <td>Autumn</td>\n",
       "      <td>No Holiday</td>\n",
       "      <td>No</td>\n",
       "      <td>2018</td>\n",
       "      <td>November</td>\n",
       "      <td>9</td>\n",
       "      <td>Friday</td>\n",
       "    </tr>\n",
       "    <tr>\n",
       "      <th>8242</th>\n",
       "      <td>2018-11-09</td>\n",
       "      <td>0</td>\n",
       "      <td>10</td>\n",
       "      <td>11.3</td>\n",
       "      <td>68</td>\n",
       "      <td>4.7</td>\n",
       "      <td>1984</td>\n",
       "      <td>5.5</td>\n",
       "      <td>0.44</td>\n",
       "      <td>0.0</td>\n",
       "      <td>0.0</td>\n",
       "      <td>Autumn</td>\n",
       "      <td>No Holiday</td>\n",
       "      <td>No</td>\n",
       "      <td>2018</td>\n",
       "      <td>November</td>\n",
       "      <td>9</td>\n",
       "      <td>Friday</td>\n",
       "    </tr>\n",
       "    <tr>\n",
       "      <th>8243</th>\n",
       "      <td>2018-11-09</td>\n",
       "      <td>0</td>\n",
       "      <td>11</td>\n",
       "      <td>13.3</td>\n",
       "      <td>59</td>\n",
       "      <td>4.1</td>\n",
       "      <td>1970</td>\n",
       "      <td>5.4</td>\n",
       "      <td>1.43</td>\n",
       "      <td>0.0</td>\n",
       "      <td>0.0</td>\n",
       "      <td>Autumn</td>\n",
       "      <td>No Holiday</td>\n",
       "      <td>No</td>\n",
       "      <td>2018</td>\n",
       "      <td>November</td>\n",
       "      <td>9</td>\n",
       "      <td>Friday</td>\n",
       "    </tr>\n",
       "    <tr>\n",
       "      <th>8244</th>\n",
       "      <td>2018-11-09</td>\n",
       "      <td>0</td>\n",
       "      <td>12</td>\n",
       "      <td>13.9</td>\n",
       "      <td>50</td>\n",
       "      <td>4.1</td>\n",
       "      <td>1964</td>\n",
       "      <td>3.6</td>\n",
       "      <td>2.14</td>\n",
       "      <td>0.0</td>\n",
       "      <td>0.0</td>\n",
       "      <td>Autumn</td>\n",
       "      <td>No Holiday</td>\n",
       "      <td>No</td>\n",
       "      <td>2018</td>\n",
       "      <td>November</td>\n",
       "      <td>9</td>\n",
       "      <td>Friday</td>\n",
       "    </tr>\n",
       "    <tr>\n",
       "      <th>8245</th>\n",
       "      <td>2018-11-09</td>\n",
       "      <td>0</td>\n",
       "      <td>13</td>\n",
       "      <td>14.0</td>\n",
       "      <td>46</td>\n",
       "      <td>5.3</td>\n",
       "      <td>927</td>\n",
       "      <td>2.5</td>\n",
       "      <td>1.68</td>\n",
       "      <td>0.0</td>\n",
       "      <td>0.0</td>\n",
       "      <td>Autumn</td>\n",
       "      <td>No Holiday</td>\n",
       "      <td>No</td>\n",
       "      <td>2018</td>\n",
       "      <td>November</td>\n",
       "      <td>9</td>\n",
       "      <td>Friday</td>\n",
       "    </tr>\n",
       "    <tr>\n",
       "      <th>8246</th>\n",
       "      <td>2018-11-09</td>\n",
       "      <td>0</td>\n",
       "      <td>14</td>\n",
       "      <td>15.0</td>\n",
       "      <td>49</td>\n",
       "      <td>2.8</td>\n",
       "      <td>518</td>\n",
       "      <td>4.3</td>\n",
       "      <td>1.53</td>\n",
       "      <td>0.0</td>\n",
       "      <td>0.0</td>\n",
       "      <td>Autumn</td>\n",
       "      <td>No Holiday</td>\n",
       "      <td>No</td>\n",
       "      <td>2018</td>\n",
       "      <td>November</td>\n",
       "      <td>9</td>\n",
       "      <td>Friday</td>\n",
       "    </tr>\n",
       "    <tr>\n",
       "      <th>8247</th>\n",
       "      <td>2018-11-09</td>\n",
       "      <td>0</td>\n",
       "      <td>15</td>\n",
       "      <td>15.1</td>\n",
       "      <td>52</td>\n",
       "      <td>3.4</td>\n",
       "      <td>622</td>\n",
       "      <td>5.3</td>\n",
       "      <td>1.30</td>\n",
       "      <td>0.0</td>\n",
       "      <td>0.0</td>\n",
       "      <td>Autumn</td>\n",
       "      <td>No Holiday</td>\n",
       "      <td>No</td>\n",
       "      <td>2018</td>\n",
       "      <td>November</td>\n",
       "      <td>9</td>\n",
       "      <td>Friday</td>\n",
       "    </tr>\n",
       "    <tr>\n",
       "      <th>8248</th>\n",
       "      <td>2018-11-09</td>\n",
       "      <td>0</td>\n",
       "      <td>16</td>\n",
       "      <td>14.3</td>\n",
       "      <td>59</td>\n",
       "      <td>3.6</td>\n",
       "      <td>858</td>\n",
       "      <td>6.3</td>\n",
       "      <td>0.72</td>\n",
       "      <td>0.0</td>\n",
       "      <td>0.0</td>\n",
       "      <td>Autumn</td>\n",
       "      <td>No Holiday</td>\n",
       "      <td>No</td>\n",
       "      <td>2018</td>\n",
       "      <td>November</td>\n",
       "      <td>9</td>\n",
       "      <td>Friday</td>\n",
       "    </tr>\n",
       "    <tr>\n",
       "      <th>8249</th>\n",
       "      <td>2018-11-09</td>\n",
       "      <td>0</td>\n",
       "      <td>17</td>\n",
       "      <td>12.9</td>\n",
       "      <td>66</td>\n",
       "      <td>3.6</td>\n",
       "      <td>682</td>\n",
       "      <td>6.6</td>\n",
       "      <td>0.32</td>\n",
       "      <td>0.0</td>\n",
       "      <td>0.0</td>\n",
       "      <td>Autumn</td>\n",
       "      <td>No Holiday</td>\n",
       "      <td>No</td>\n",
       "      <td>2018</td>\n",
       "      <td>November</td>\n",
       "      <td>9</td>\n",
       "      <td>Friday</td>\n",
       "    </tr>\n",
       "    <tr>\n",
       "      <th>8250</th>\n",
       "      <td>2018-11-09</td>\n",
       "      <td>0</td>\n",
       "      <td>18</td>\n",
       "      <td>12.3</td>\n",
       "      <td>69</td>\n",
       "      <td>2.1</td>\n",
       "      <td>623</td>\n",
       "      <td>6.7</td>\n",
       "      <td>0.01</td>\n",
       "      <td>0.0</td>\n",
       "      <td>0.0</td>\n",
       "      <td>Autumn</td>\n",
       "      <td>No Holiday</td>\n",
       "      <td>No</td>\n",
       "      <td>2018</td>\n",
       "      <td>November</td>\n",
       "      <td>9</td>\n",
       "      <td>Friday</td>\n",
       "    </tr>\n",
       "    <tr>\n",
       "      <th>8251</th>\n",
       "      <td>2018-11-09</td>\n",
       "      <td>0</td>\n",
       "      <td>19</td>\n",
       "      <td>11.9</td>\n",
       "      <td>71</td>\n",
       "      <td>2.7</td>\n",
       "      <td>589</td>\n",
       "      <td>6.7</td>\n",
       "      <td>0.00</td>\n",
       "      <td>0.0</td>\n",
       "      <td>0.0</td>\n",
       "      <td>Autumn</td>\n",
       "      <td>No Holiday</td>\n",
       "      <td>No</td>\n",
       "      <td>2018</td>\n",
       "      <td>November</td>\n",
       "      <td>9</td>\n",
       "      <td>Friday</td>\n",
       "    </tr>\n",
       "    <tr>\n",
       "      <th>8252</th>\n",
       "      <td>2018-11-09</td>\n",
       "      <td>0</td>\n",
       "      <td>20</td>\n",
       "      <td>11.9</td>\n",
       "      <td>72</td>\n",
       "      <td>2.5</td>\n",
       "      <td>526</td>\n",
       "      <td>7.0</td>\n",
       "      <td>0.00</td>\n",
       "      <td>0.0</td>\n",
       "      <td>0.0</td>\n",
       "      <td>Autumn</td>\n",
       "      <td>No Holiday</td>\n",
       "      <td>No</td>\n",
       "      <td>2018</td>\n",
       "      <td>November</td>\n",
       "      <td>9</td>\n",
       "      <td>Friday</td>\n",
       "    </tr>\n",
       "    <tr>\n",
       "      <th>8253</th>\n",
       "      <td>2018-11-09</td>\n",
       "      <td>0</td>\n",
       "      <td>21</td>\n",
       "      <td>11.4</td>\n",
       "      <td>74</td>\n",
       "      <td>1.9</td>\n",
       "      <td>498</td>\n",
       "      <td>6.9</td>\n",
       "      <td>0.00</td>\n",
       "      <td>0.0</td>\n",
       "      <td>0.0</td>\n",
       "      <td>Autumn</td>\n",
       "      <td>No Holiday</td>\n",
       "      <td>No</td>\n",
       "      <td>2018</td>\n",
       "      <td>November</td>\n",
       "      <td>9</td>\n",
       "      <td>Friday</td>\n",
       "    </tr>\n",
       "    <tr>\n",
       "      <th>8254</th>\n",
       "      <td>2018-11-09</td>\n",
       "      <td>0</td>\n",
       "      <td>22</td>\n",
       "      <td>11.2</td>\n",
       "      <td>75</td>\n",
       "      <td>1.7</td>\n",
       "      <td>478</td>\n",
       "      <td>6.9</td>\n",
       "      <td>0.00</td>\n",
       "      <td>0.0</td>\n",
       "      <td>0.0</td>\n",
       "      <td>Autumn</td>\n",
       "      <td>No Holiday</td>\n",
       "      <td>No</td>\n",
       "      <td>2018</td>\n",
       "      <td>November</td>\n",
       "      <td>9</td>\n",
       "      <td>Friday</td>\n",
       "    </tr>\n",
       "    <tr>\n",
       "      <th>8255</th>\n",
       "      <td>2018-11-09</td>\n",
       "      <td>0</td>\n",
       "      <td>23</td>\n",
       "      <td>10.9</td>\n",
       "      <td>76</td>\n",
       "      <td>1.2</td>\n",
       "      <td>456</td>\n",
       "      <td>6.8</td>\n",
       "      <td>0.00</td>\n",
       "      <td>0.0</td>\n",
       "      <td>0.0</td>\n",
       "      <td>Autumn</td>\n",
       "      <td>No Holiday</td>\n",
       "      <td>No</td>\n",
       "      <td>2018</td>\n",
       "      <td>November</td>\n",
       "      <td>9</td>\n",
       "      <td>Friday</td>\n",
       "    </tr>\n",
       "  </tbody>\n",
       "</table>\n",
       "<p>295 rows × 18 columns</p>\n",
       "</div>"
      ],
      "text/plain": [
       "           Date  Rented Bike Count  Hour  Temperature(°C)  Humidity(%)  \\\n",
       "3144 2018-04-11                  0     0             14.4           82   \n",
       "3145 2018-04-11                  0     1             13.6           81   \n",
       "3146 2018-04-11                  0     2             12.7           80   \n",
       "3147 2018-04-11                  0     3             11.6           81   \n",
       "3148 2018-04-11                  0     4             10.2           83   \n",
       "3149 2018-04-11                  0     5              9.7           84   \n",
       "3150 2018-04-11                  0     6              9.0           86   \n",
       "3151 2018-04-11                  0     7              8.8           85   \n",
       "3152 2018-04-11                  0     8              9.7           77   \n",
       "3153 2018-04-11                  0     9             11.8           59   \n",
       "3154 2018-04-11                  0    10             13.3           51   \n",
       "3155 2018-04-11                  0    11             14.9           44   \n",
       "3156 2018-04-11                  0    12             15.7           46   \n",
       "3157 2018-04-11                  0    13             15.6           38   \n",
       "3158 2018-04-11                  0    14             16.4           28   \n",
       "3159 2018-04-11                  0    15             17.0           28   \n",
       "3160 2018-04-11                  0    16             16.9           23   \n",
       "3161 2018-04-11                  0    17             16.2           22   \n",
       "3162 2018-04-11                  0    18             15.2           21   \n",
       "3163 2018-04-11                  0    19             13.2           28   \n",
       "3164 2018-04-11                  0    20             11.9           33   \n",
       "3165 2018-04-11                  0    21             11.0           34   \n",
       "3166 2018-04-11                  0    22             10.3           42   \n",
       "3167 2018-04-11                  0    23              9.7           45   \n",
       "3840 2018-05-10                  0     0             14.5           63   \n",
       "3841 2018-05-10                  0     1             13.9           66   \n",
       "3842 2018-05-10                  0     2             13.1           73   \n",
       "3843 2018-05-10                  0     3             12.9           74   \n",
       "3844 2018-05-10                  0     4             12.0           79   \n",
       "3845 2018-05-10                  0     5             11.5           80   \n",
       "...         ...                ...   ...              ...          ...   \n",
       "8178 2018-11-06                  0    18             14.0           71   \n",
       "8179 2018-11-06                  0    19             13.3           72   \n",
       "8180 2018-11-06                  0    20             13.2           73   \n",
       "8181 2018-11-06                  0    21             13.0           76   \n",
       "8182 2018-11-06                  0    22             12.3           73   \n",
       "8183 2018-11-06                  0    23             12.2           74   \n",
       "8232 2018-11-09                  0     0             12.0           96   \n",
       "8233 2018-11-09                  0     1             11.4           89   \n",
       "8234 2018-11-09                  0     2             11.3           88   \n",
       "8235 2018-11-09                  0     3             10.8           82   \n",
       "8236 2018-11-09                  0     4             10.6           75   \n",
       "8237 2018-11-09                  0     5             10.9           68   \n",
       "8238 2018-11-09                  0     6             11.0           70   \n",
       "8239 2018-11-09                  0     7             10.4           81   \n",
       "8240 2018-11-09                  0     8             10.1           85   \n",
       "8241 2018-11-09                  0     9             10.8           78   \n",
       "8242 2018-11-09                  0    10             11.3           68   \n",
       "8243 2018-11-09                  0    11             13.3           59   \n",
       "8244 2018-11-09                  0    12             13.9           50   \n",
       "8245 2018-11-09                  0    13             14.0           46   \n",
       "8246 2018-11-09                  0    14             15.0           49   \n",
       "8247 2018-11-09                  0    15             15.1           52   \n",
       "8248 2018-11-09                  0    16             14.3           59   \n",
       "8249 2018-11-09                  0    17             12.9           66   \n",
       "8250 2018-11-09                  0    18             12.3           69   \n",
       "8251 2018-11-09                  0    19             11.9           71   \n",
       "8252 2018-11-09                  0    20             11.9           72   \n",
       "8253 2018-11-09                  0    21             11.4           74   \n",
       "8254 2018-11-09                  0    22             11.2           75   \n",
       "8255 2018-11-09                  0    23             10.9           76   \n",
       "\n",
       "      Wind speed (m/s)  Visibility (10m)  Dew point temperature(°C)  \\\n",
       "3144               4.6              1041                       11.3   \n",
       "3145               3.6               886                       10.3   \n",
       "3146               3.9               885                        9.3   \n",
       "3147               3.1               687                        8.4   \n",
       "3148               3.5               554                        7.4   \n",
       "3149               1.7               447                        7.1   \n",
       "3150               2.0               442                        6.7   \n",
       "3151               1.1               438                        6.4   \n",
       "3152               1.6               519                        5.8   \n",
       "3153               2.1               975                        4.0   \n",
       "3154               4.1              1487                        3.3   \n",
       "3155               4.0              1468                        2.7   \n",
       "3156               3.9              1132                        4.0   \n",
       "3157               4.7              1558                        1.3   \n",
       "3158               3.4              1804                       -2.1   \n",
       "3159               3.5              1804                       -1.6   \n",
       "3160               4.4              1938                       -4.4   \n",
       "3161               4.1              2000                       -5.5   \n",
       "3162               2.9              2000                       -7.0   \n",
       "3163               2.9              2000                       -4.9   \n",
       "3164               2.0              2000                       -3.8   \n",
       "3165               2.1              2000                       -4.2   \n",
       "3166               1.0              1923                       -2.0   \n",
       "3167               2.0              1969                       -1.6   \n",
       "3840               0.9              2000                        7.5   \n",
       "3841               1.0              1960                        7.6   \n",
       "3842               1.9              1895                        8.3   \n",
       "3843               1.7              1698                        8.3   \n",
       "3844               0.6              1351                        8.4   \n",
       "3845               0.9               974                        8.1   \n",
       "...                ...               ...                        ...   \n",
       "8178               1.5               201                        8.8   \n",
       "8179               1.1               234                        8.3   \n",
       "8180               1.1               246                        8.4   \n",
       "8181               0.9               231                        8.8   \n",
       "8182               1.2               277                        7.5   \n",
       "8183               1.1               291                        7.6   \n",
       "8232               3.1              1185                       11.3   \n",
       "8233               2.6              1376                        9.6   \n",
       "8234               3.7              1680                        9.3   \n",
       "8235               2.8              1712                        7.8   \n",
       "8236               3.2               913                        6.3   \n",
       "8237               3.1              1034                        5.2   \n",
       "8238               3.1               900                        5.7   \n",
       "8239               3.0              1741                        7.2   \n",
       "8240               2.4              1809                        7.6   \n",
       "8241               2.6              1985                        7.1   \n",
       "8242               4.7              1984                        5.5   \n",
       "8243               4.1              1970                        5.4   \n",
       "8244               4.1              1964                        3.6   \n",
       "8245               5.3               927                        2.5   \n",
       "8246               2.8               518                        4.3   \n",
       "8247               3.4               622                        5.3   \n",
       "8248               3.6               858                        6.3   \n",
       "8249               3.6               682                        6.6   \n",
       "8250               2.1               623                        6.7   \n",
       "8251               2.7               589                        6.7   \n",
       "8252               2.5               526                        7.0   \n",
       "8253               1.9               498                        6.9   \n",
       "8254               1.7               478                        6.9   \n",
       "8255               1.2               456                        6.8   \n",
       "\n",
       "      Solar Radiation (MJ/m2)  Rainfall(mm)  Snowfall (cm) Seasons  \\\n",
       "3144                     0.00           0.0            0.0  Spring   \n",
       "3145                     0.00           0.0            0.0  Spring   \n",
       "3146                     0.00           0.0            0.0  Spring   \n",
       "3147                     0.00           0.0            0.0  Spring   \n",
       "3148                     0.00           0.0            0.0  Spring   \n",
       "3149                     0.00           0.0            0.0  Spring   \n",
       "3150                     0.00           0.0            0.0  Spring   \n",
       "3151                     0.11           0.0            0.0  Spring   \n",
       "3152                     0.68           0.0            0.0  Spring   \n",
       "3153                     1.44           0.0            0.0  Spring   \n",
       "3154                     2.17           0.0            0.0  Spring   \n",
       "3155                     2.75           0.0            0.0  Spring   \n",
       "3156                     3.05           0.0            0.0  Spring   \n",
       "3157                     3.32           0.0            0.0  Spring   \n",
       "3158                     3.16           0.0            0.0  Spring   \n",
       "3159                     2.90           0.0            0.0  Spring   \n",
       "3160                     2.39           0.0            0.0  Spring   \n",
       "3161                     1.73           0.0            0.0  Spring   \n",
       "3162                     0.94           0.0            0.0  Spring   \n",
       "3163                     0.22           0.0            0.0  Spring   \n",
       "3164                     0.00           0.0            0.0  Spring   \n",
       "3165                     0.00           0.0            0.0  Spring   \n",
       "3166                     0.00           0.0            0.0  Spring   \n",
       "3167                     0.00           0.0            0.0  Spring   \n",
       "3840                     0.00           0.0            0.0  Spring   \n",
       "3841                     0.00           0.0            0.0  Spring   \n",
       "3842                     0.00           0.0            0.0  Spring   \n",
       "3843                     0.00           0.0            0.0  Spring   \n",
       "3844                     0.00           0.0            0.0  Spring   \n",
       "3845                     0.00           0.0            0.0  Spring   \n",
       "...                       ...           ...            ...     ...   \n",
       "8178                     0.01           0.0            0.0  Autumn   \n",
       "8179                     0.00           0.0            0.0  Autumn   \n",
       "8180                     0.00           0.0            0.0  Autumn   \n",
       "8181                     0.00           0.0            0.0  Autumn   \n",
       "8182                     0.00           0.0            0.0  Autumn   \n",
       "8183                     0.00           0.0            0.0  Autumn   \n",
       "8232                     0.00          18.0            0.0  Autumn   \n",
       "8233                     0.00           0.0            0.0  Autumn   \n",
       "8234                     0.00           0.0            0.0  Autumn   \n",
       "8235                     0.00           0.5            0.0  Autumn   \n",
       "8236                     0.00           0.0            0.0  Autumn   \n",
       "8237                     0.00           0.0            0.0  Autumn   \n",
       "8238                     0.00           0.0            0.0  Autumn   \n",
       "8239                     0.00           0.0            0.0  Autumn   \n",
       "8240                     0.05           0.0            0.0  Autumn   \n",
       "8241                     0.13           0.5            0.0  Autumn   \n",
       "8242                     0.44           0.0            0.0  Autumn   \n",
       "8243                     1.43           0.0            0.0  Autumn   \n",
       "8244                     2.14           0.0            0.0  Autumn   \n",
       "8245                     1.68           0.0            0.0  Autumn   \n",
       "8246                     1.53           0.0            0.0  Autumn   \n",
       "8247                     1.30           0.0            0.0  Autumn   \n",
       "8248                     0.72           0.0            0.0  Autumn   \n",
       "8249                     0.32           0.0            0.0  Autumn   \n",
       "8250                     0.01           0.0            0.0  Autumn   \n",
       "8251                     0.00           0.0            0.0  Autumn   \n",
       "8252                     0.00           0.0            0.0  Autumn   \n",
       "8253                     0.00           0.0            0.0  Autumn   \n",
       "8254                     0.00           0.0            0.0  Autumn   \n",
       "8255                     0.00           0.0            0.0  Autumn   \n",
       "\n",
       "         Holiday Functioning Day  year     month  day   week_day  \n",
       "3144  No Holiday              No  2018     April   11  Wednesday  \n",
       "3145  No Holiday              No  2018     April   11  Wednesday  \n",
       "3146  No Holiday              No  2018     April   11  Wednesday  \n",
       "3147  No Holiday              No  2018     April   11  Wednesday  \n",
       "3148  No Holiday              No  2018     April   11  Wednesday  \n",
       "3149  No Holiday              No  2018     April   11  Wednesday  \n",
       "3150  No Holiday              No  2018     April   11  Wednesday  \n",
       "3151  No Holiday              No  2018     April   11  Wednesday  \n",
       "3152  No Holiday              No  2018     April   11  Wednesday  \n",
       "3153  No Holiday              No  2018     April   11  Wednesday  \n",
       "3154  No Holiday              No  2018     April   11  Wednesday  \n",
       "3155  No Holiday              No  2018     April   11  Wednesday  \n",
       "3156  No Holiday              No  2018     April   11  Wednesday  \n",
       "3157  No Holiday              No  2018     April   11  Wednesday  \n",
       "3158  No Holiday              No  2018     April   11  Wednesday  \n",
       "3159  No Holiday              No  2018     April   11  Wednesday  \n",
       "3160  No Holiday              No  2018     April   11  Wednesday  \n",
       "3161  No Holiday              No  2018     April   11  Wednesday  \n",
       "3162  No Holiday              No  2018     April   11  Wednesday  \n",
       "3163  No Holiday              No  2018     April   11  Wednesday  \n",
       "3164  No Holiday              No  2018     April   11  Wednesday  \n",
       "3165  No Holiday              No  2018     April   11  Wednesday  \n",
       "3166  No Holiday              No  2018     April   11  Wednesday  \n",
       "3167  No Holiday              No  2018     April   11  Wednesday  \n",
       "3840  No Holiday              No  2018       May   10   Thursday  \n",
       "3841  No Holiday              No  2018       May   10   Thursday  \n",
       "3842  No Holiday              No  2018       May   10   Thursday  \n",
       "3843  No Holiday              No  2018       May   10   Thursday  \n",
       "3844  No Holiday              No  2018       May   10   Thursday  \n",
       "3845  No Holiday              No  2018       May   10   Thursday  \n",
       "...          ...             ...   ...       ...  ...        ...  \n",
       "8178  No Holiday              No  2018  November    6    Tuesday  \n",
       "8179  No Holiday              No  2018  November    6    Tuesday  \n",
       "8180  No Holiday              No  2018  November    6    Tuesday  \n",
       "8181  No Holiday              No  2018  November    6    Tuesday  \n",
       "8182  No Holiday              No  2018  November    6    Tuesday  \n",
       "8183  No Holiday              No  2018  November    6    Tuesday  \n",
       "8232  No Holiday              No  2018  November    9     Friday  \n",
       "8233  No Holiday              No  2018  November    9     Friday  \n",
       "8234  No Holiday              No  2018  November    9     Friday  \n",
       "8235  No Holiday              No  2018  November    9     Friday  \n",
       "8236  No Holiday              No  2018  November    9     Friday  \n",
       "8237  No Holiday              No  2018  November    9     Friday  \n",
       "8238  No Holiday              No  2018  November    9     Friday  \n",
       "8239  No Holiday              No  2018  November    9     Friday  \n",
       "8240  No Holiday              No  2018  November    9     Friday  \n",
       "8241  No Holiday              No  2018  November    9     Friday  \n",
       "8242  No Holiday              No  2018  November    9     Friday  \n",
       "8243  No Holiday              No  2018  November    9     Friday  \n",
       "8244  No Holiday              No  2018  November    9     Friday  \n",
       "8245  No Holiday              No  2018  November    9     Friday  \n",
       "8246  No Holiday              No  2018  November    9     Friday  \n",
       "8247  No Holiday              No  2018  November    9     Friday  \n",
       "8248  No Holiday              No  2018  November    9     Friday  \n",
       "8249  No Holiday              No  2018  November    9     Friday  \n",
       "8250  No Holiday              No  2018  November    9     Friday  \n",
       "8251  No Holiday              No  2018  November    9     Friday  \n",
       "8252  No Holiday              No  2018  November    9     Friday  \n",
       "8253  No Holiday              No  2018  November    9     Friday  \n",
       "8254  No Holiday              No  2018  November    9     Friday  \n",
       "8255  No Holiday              No  2018  November    9     Friday  \n",
       "\n",
       "[295 rows x 18 columns]"
      ]
     },
     "execution_count": 24,
     "metadata": {},
     "output_type": "execute_result"
    }
   ],
   "source": [
    "dfwith0location=df[df['Rented Bike Count']==0]  \n",
    "dfwith0location"
   ]
  },
  {
   "cell_type": "code",
   "execution_count": 25,
   "metadata": {},
   "outputs": [
    {
     "data": {
      "text/plain": [
       "array([0], dtype=int64)"
      ]
     },
     "execution_count": 25,
     "metadata": {},
     "output_type": "execute_result"
    }
   ],
   "source": [
    "dfwith0location['Rented Bike Count'].unique()"
   ]
  },
  {
   "cell_type": "code",
   "execution_count": 26,
   "metadata": {},
   "outputs": [
    {
     "data": {
      "text/plain": [
       "array(['No'], dtype=object)"
      ]
     },
     "execution_count": 26,
     "metadata": {},
     "output_type": "execute_result"
    }
   ],
   "source": [
    "dfwith0location['Functioning Day'].unique()"
   ]
  },
  {
   "cell_type": "markdown",
   "metadata": {},
   "source": [
    "On peut voir que tous les lignes où le nombre de location est égale à 0 correspond à un 'Functioning Day' = NO ce qui correspond à un jour où le système de location de vélo ne fonctionnait pas. Vérifions cela : "
   ]
  },
  {
   "cell_type": "code",
   "execution_count": 27,
   "metadata": {},
   "outputs": [
    {
     "data": {
      "text/plain": [
       "Functioning Day\n",
       "No      295\n",
       "Yes    8465\n",
       "Name: Rented Bike Count, dtype: int64"
      ]
     },
     "execution_count": 27,
     "metadata": {},
     "output_type": "execute_result"
    }
   ],
   "source": [
    "df.groupby(['Functioning Day'])['Rented Bike Count'].count()"
   ]
  },
  {
   "cell_type": "markdown",
   "metadata": {},
   "source": [
    "### Suppresion des lignes 'Functioning Day'=NO"
   ]
  },
  {
   "cell_type": "markdown",
   "metadata": {},
   "source": [
    "En effet, les 295 lignes, où le nombre de vélos loués est égale à 0, correpondent à des 'Functioning Day' = NO. Il vaut donc mieux supprimer ces lignes de notre dataset car cela pourrait fausser nos futurs prédictions. On peut donc à l'évidence considérer que si 'Functioning Day'=NO, il n'y a pas de location de vélos."
   ]
  },
  {
   "cell_type": "code",
   "execution_count": 28,
   "metadata": {},
   "outputs": [],
   "source": [
    "df=df[df['Functioning Day'] == 'Yes'].drop('Functioning Day', axis=1)"
   ]
  },
  {
   "cell_type": "markdown",
   "metadata": {},
   "source": [
    "On a bien le bon nombre de lignes, on peut maintenant revoir le graphique de l'évolution des location selon la date:"
   ]
  },
  {
   "cell_type": "code",
   "execution_count": 29,
   "metadata": {},
   "outputs": [
    {
     "data": {
      "text/plain": [
       "<matplotlib.axes._subplots.AxesSubplot at 0x26fd3cbb6d8>"
      ]
     },
     "execution_count": 29,
     "metadata": {},
     "output_type": "execute_result"
    },
    {
     "data": {
      "image/png": "[encoded data removed]",
      "text/plain": [
       "<Figure size 1080x1080 with 1 Axes>"
      ]
     },
     "metadata": {
      "needs_background": "light"
     },
     "output_type": "display_data"
    }
   ],
   "source": [
    "a=df.groupby('Date')['Rented Bike Count'].sum().reset_index()\n",
    "a.plot(x='Date', y='Rented Bike Count',kind='line', color='blue', label='Vélos loués',figsize=(15,15))"
   ]
  },
  {
   "cell_type": "markdown",
   "metadata": {},
   "source": [
    "### Month\n",
    "\n",
    "Regardons à présent un diagramme réprésentant l'évolution du nombre de location au cours des mois: "
   ]
  },
  {
   "cell_type": "code",
   "execution_count": 30,
   "metadata": {},
   "outputs": [
    {
     "data": {
      "text/plain": [
       "month\n",
       "June         1245.676389\n",
       "September    1079.506410\n",
       "July          987.177419\n",
       "May           982.066667\n",
       "October       978.458647\n",
       "August        876.192204\n",
       "April         753.199713\n",
       "November      718.695988\n",
       "March         511.551075\n",
       "December      249.099462\n",
       "February      225.941964\n",
       "January       201.620968\n",
       "Name: Rented Bike Count, dtype: float64"
      ]
     },
     "execution_count": 30,
     "metadata": {},
     "output_type": "execute_result"
    }
   ],
   "source": [
    "m=df.groupby('month')['Rented Bike Count'].mean().sort_values( ascending = False)\n",
    "m"
   ]
  },
  {
   "cell_type": "code",
   "execution_count": 31,
   "metadata": {},
   "outputs": [
    {
     "data": {
      "text/plain": [
       "<matplotlib.axes._subplots.AxesSubplot at 0x26fd34c34e0>"
      ]
     },
     "execution_count": 31,
     "metadata": {},
     "output_type": "execute_result"
    },
    {
     "data": {
      "image/png": "[encoded data removed]",
      "text/plain": [
       "<Figure size 720x720 with 1 Axes>"
      ]
     },
     "metadata": {
      "needs_background": "light"
     },
     "output_type": "display_data"
    }
   ],
   "source": [
    "m.plot(x='Month', y='Rented Bike Count',kind='bar', color='red', label='Vélos loués',figsize=(10,10),alpha=0.5)"
   ]
  },
  {
   "cell_type": "markdown",
   "metadata": {},
   "source": [
    "Comme on a pu le voir sur le précédent graphique, les mois où il y a plus de vélos loués, sont les mois de Juin et Septembre. On peut voir qu'il y a peu de vélos loués pendant la période hivernal, cest-à-dire pour les mois de Decembre, Janvier et Février."
   ]
  },
  {
   "cell_type": "markdown",
   "metadata": {},
   "source": [
    "### Week Day & Hour\n",
    "\n",
    "Voyons comment évolue la location de vélos selon les jours de la semaine et selon l'heure : "
   ]
  },
  {
   "cell_type": "code",
   "execution_count": 32,
   "metadata": {},
   "outputs": [
    {
     "data": {
      "text/html": [
       "<style  type=\"text/css\" >\n",
       "    #T_3cf88882_50db_11eb_b491_7c2a31b3e885row0_col0 {\n",
       "            background-color:  #d2d2e7;\n",
       "        }    #T_3cf88882_50db_11eb_b491_7c2a31b3e885row0_col1 {\n",
       "            background-color:  #d6d6e9;\n",
       "        }    #T_3cf88882_50db_11eb_b491_7c2a31b3e885row0_col2 {\n",
       "            background-color:  #73a9cf;\n",
       "        }    #T_3cf88882_50db_11eb_b491_7c2a31b3e885row0_col3 {\n",
       "            background-color:  #5a9ec9;\n",
       "        }    #T_3cf88882_50db_11eb_b491_7c2a31b3e885row0_col4 {\n",
       "            background-color:  #c9cee4;\n",
       "        }    #T_3cf88882_50db_11eb_b491_7c2a31b3e885row0_col5 {\n",
       "            background-color:  #d1d2e6;\n",
       "        }    #T_3cf88882_50db_11eb_b491_7c2a31b3e885row0_col6 {\n",
       "            background-color:  #d2d2e7;\n",
       "        }    #T_3cf88882_50db_11eb_b491_7c2a31b3e885row1_col0 {\n",
       "            background-color:  #dfddec;\n",
       "        }    #T_3cf88882_50db_11eb_b491_7c2a31b3e885row1_col1 {\n",
       "            background-color:  #ede7f2;\n",
       "        }    #T_3cf88882_50db_11eb_b491_7c2a31b3e885row1_col2 {\n",
       "            background-color:  #8cb3d5;\n",
       "        }    #T_3cf88882_50db_11eb_b491_7c2a31b3e885row1_col3 {\n",
       "            background-color:  #a5bddb;\n",
       "        }    #T_3cf88882_50db_11eb_b491_7c2a31b3e885row1_col4 {\n",
       "            background-color:  #dcdaeb;\n",
       "        }    #T_3cf88882_50db_11eb_b491_7c2a31b3e885row1_col5 {\n",
       "            background-color:  #dfddec;\n",
       "        }    #T_3cf88882_50db_11eb_b491_7c2a31b3e885row1_col6 {\n",
       "            background-color:  #e1dfed;\n",
       "        }    #T_3cf88882_50db_11eb_b491_7c2a31b3e885row2_col0 {\n",
       "            background-color:  #f0eaf4;\n",
       "        }    #T_3cf88882_50db_11eb_b491_7c2a31b3e885row2_col1 {\n",
       "            background-color:  #f6eff7;\n",
       "        }    #T_3cf88882_50db_11eb_b491_7c2a31b3e885row2_col2 {\n",
       "            background-color:  #c4cbe3;\n",
       "        }    #T_3cf88882_50db_11eb_b491_7c2a31b3e885row2_col3 {\n",
       "            background-color:  #cccfe5;\n",
       "        }    #T_3cf88882_50db_11eb_b491_7c2a31b3e885row2_col4 {\n",
       "            background-color:  #eee8f3;\n",
       "        }    #T_3cf88882_50db_11eb_b491_7c2a31b3e885row2_col5 {\n",
       "            background-color:  #f0eaf4;\n",
       "        }    #T_3cf88882_50db_11eb_b491_7c2a31b3e885row2_col6 {\n",
       "            background-color:  #f0eaf4;\n",
       "        }    #T_3cf88882_50db_11eb_b491_7c2a31b3e885row3_col0 {\n",
       "            background-color:  #f9f2f8;\n",
       "        }    #T_3cf88882_50db_11eb_b491_7c2a31b3e885row3_col1 {\n",
       "            background-color:  #fdf5fa;\n",
       "        }    #T_3cf88882_50db_11eb_b491_7c2a31b3e885row3_col2 {\n",
       "            background-color:  #e6e2ef;\n",
       "        }    #T_3cf88882_50db_11eb_b491_7c2a31b3e885row3_col3 {\n",
       "            background-color:  #e7e3f0;\n",
       "        }    #T_3cf88882_50db_11eb_b491_7c2a31b3e885row3_col4 {\n",
       "            background-color:  #f8f1f8;\n",
       "        }    #T_3cf88882_50db_11eb_b491_7c2a31b3e885row3_col5 {\n",
       "            background-color:  #faf2f8;\n",
       "        }    #T_3cf88882_50db_11eb_b491_7c2a31b3e885row3_col6 {\n",
       "            background-color:  #f9f2f8;\n",
       "        }    #T_3cf88882_50db_11eb_b491_7c2a31b3e885row4_col0 {\n",
       "            background-color:  #fff7fb;\n",
       "        }    #T_3cf88882_50db_11eb_b491_7c2a31b3e885row4_col1 {\n",
       "            background-color:  #fff7fb;\n",
       "        }    #T_3cf88882_50db_11eb_b491_7c2a31b3e885row4_col2 {\n",
       "            background-color:  #f8f1f8;\n",
       "        }    #T_3cf88882_50db_11eb_b491_7c2a31b3e885row4_col3 {\n",
       "            background-color:  #f7f0f7;\n",
       "        }    #T_3cf88882_50db_11eb_b491_7c2a31b3e885row4_col4 {\n",
       "            background-color:  #fff7fb;\n",
       "        }    #T_3cf88882_50db_11eb_b491_7c2a31b3e885row4_col5 {\n",
       "            background-color:  #fff7fb;\n",
       "        }    #T_3cf88882_50db_11eb_b491_7c2a31b3e885row4_col6 {\n",
       "            background-color:  #fff7fb;\n",
       "        }    #T_3cf88882_50db_11eb_b491_7c2a31b3e885row5_col0 {\n",
       "            background-color:  #fdf5fa;\n",
       "        }    #T_3cf88882_50db_11eb_b491_7c2a31b3e885row5_col1 {\n",
       "            background-color:  #faf3f9;\n",
       "        }    #T_3cf88882_50db_11eb_b491_7c2a31b3e885row5_col2 {\n",
       "            background-color:  #fff7fb;\n",
       "        }    #T_3cf88882_50db_11eb_b491_7c2a31b3e885row5_col3 {\n",
       "            background-color:  #fff7fb;\n",
       "        }    #T_3cf88882_50db_11eb_b491_7c2a31b3e885row5_col4 {\n",
       "            background-color:  #fdf5fa;\n",
       "        }    #T_3cf88882_50db_11eb_b491_7c2a31b3e885row5_col5 {\n",
       "            background-color:  #fdf5fa;\n",
       "        }    #T_3cf88882_50db_11eb_b491_7c2a31b3e885row5_col6 {\n",
       "            background-color:  #fef6fa;\n",
       "        }    #T_3cf88882_50db_11eb_b491_7c2a31b3e885row6_col0 {\n",
       "            background-color:  #eae6f1;\n",
       "        }    #T_3cf88882_50db_11eb_b491_7c2a31b3e885row6_col1 {\n",
       "            background-color:  #e3e0ee;\n",
       "        }    #T_3cf88882_50db_11eb_b491_7c2a31b3e885row6_col2 {\n",
       "            background-color:  #f8f1f8;\n",
       "        }    #T_3cf88882_50db_11eb_b491_7c2a31b3e885row6_col3 {\n",
       "            background-color:  #fbf3f9;\n",
       "        }    #T_3cf88882_50db_11eb_b491_7c2a31b3e885row6_col4 {\n",
       "            background-color:  #eae6f1;\n",
       "        }    #T_3cf88882_50db_11eb_b491_7c2a31b3e885row6_col5 {\n",
       "            background-color:  #e6e2ef;\n",
       "        }    #T_3cf88882_50db_11eb_b491_7c2a31b3e885row6_col6 {\n",
       "            background-color:  #ece7f2;\n",
       "        }    #T_3cf88882_50db_11eb_b491_7c2a31b3e885row7_col0 {\n",
       "            background-color:  #a4bcda;\n",
       "        }    #T_3cf88882_50db_11eb_b491_7c2a31b3e885row7_col1 {\n",
       "            background-color:  #8eb3d5;\n",
       "        }    #T_3cf88882_50db_11eb_b491_7c2a31b3e885row7_col2 {\n",
       "            background-color:  #e8e4f0;\n",
       "        }    #T_3cf88882_50db_11eb_b491_7c2a31b3e885row7_col3 {\n",
       "            background-color:  #f0eaf4;\n",
       "        }    #T_3cf88882_50db_11eb_b491_7c2a31b3e885row7_col4 {\n",
       "            background-color:  #9fbad9;\n",
       "        }    #T_3cf88882_50db_11eb_b491_7c2a31b3e885row7_col5 {\n",
       "            background-color:  #8bb2d4;\n",
       "        }    #T_3cf88882_50db_11eb_b491_7c2a31b3e885row7_col6 {\n",
       "            background-color:  #a1bbda;\n",
       "        }    #T_3cf88882_50db_11eb_b491_7c2a31b3e885row8_col0 {\n",
       "            background-color:  #157ab5;\n",
       "        }    #T_3cf88882_50db_11eb_b491_7c2a31b3e885row8_col1 {\n",
       "            background-color:  #0c74b2;\n",
       "        }    #T_3cf88882_50db_11eb_b491_7c2a31b3e885row8_col2 {\n",
       "            background-color:  #b8c6e0;\n",
       "        }    #T_3cf88882_50db_11eb_b491_7c2a31b3e885row8_col3 {\n",
       "            background-color:  #d2d2e7;\n",
       "        }    #T_3cf88882_50db_11eb_b491_7c2a31b3e885row8_col4 {\n",
       "            background-color:  #0f76b3;\n",
       "        }    #T_3cf88882_50db_11eb_b491_7c2a31b3e885row8_col5 {\n",
       "            background-color:  #0566a0;\n",
       "        }    #T_3cf88882_50db_11eb_b491_7c2a31b3e885row8_col6 {\n",
       "            background-color:  #0d75b3;\n",
       "        }    #T_3cf88882_50db_11eb_b491_7c2a31b3e885row9_col0 {\n",
       "            background-color:  #adc1dd;\n",
       "        }    #T_3cf88882_50db_11eb_b491_7c2a31b3e885row9_col1 {\n",
       "            background-color:  #a5bddb;\n",
       "        }    #T_3cf88882_50db_11eb_b491_7c2a31b3e885row9_col2 {\n",
       "            background-color:  #9cb9d9;\n",
       "        }    #T_3cf88882_50db_11eb_b491_7c2a31b3e885row9_col3 {\n",
       "            background-color:  #b3c3de;\n",
       "        }    #T_3cf88882_50db_11eb_b491_7c2a31b3e885row9_col4 {\n",
       "            background-color:  #a7bddb;\n",
       "        }    #T_3cf88882_50db_11eb_b491_7c2a31b3e885row9_col5 {\n",
       "            background-color:  #96b6d7;\n",
       "        }    #T_3cf88882_50db_11eb_b491_7c2a31b3e885row9_col6 {\n",
       "            background-color:  #a2bcda;\n",
       "        }    #T_3cf88882_50db_11eb_b491_7c2a31b3e885row10_col0 {\n",
       "            background-color:  #d2d2e7;\n",
       "        }    #T_3cf88882_50db_11eb_b491_7c2a31b3e885row10_col1 {\n",
       "            background-color:  #cccfe5;\n",
       "        }    #T_3cf88882_50db_11eb_b491_7c2a31b3e885row10_col2 {\n",
       "            background-color:  #93b5d6;\n",
       "        }    #T_3cf88882_50db_11eb_b491_7c2a31b3e885row10_col3 {\n",
       "            background-color:  #9cb9d9;\n",
       "        }    #T_3cf88882_50db_11eb_b491_7c2a31b3e885row10_col4 {\n",
       "            background-color:  #d2d3e7;\n",
       "        }    #T_3cf88882_50db_11eb_b491_7c2a31b3e885row10_col5 {\n",
       "            background-color:  #c6cce3;\n",
       "        }    #T_3cf88882_50db_11eb_b491_7c2a31b3e885row10_col6 {\n",
       "            background-color:  #c5cce3;\n",
       "        }    #T_3cf88882_50db_11eb_b491_7c2a31b3e885row11_col0 {\n",
       "            background-color:  #c5cce3;\n",
       "        }    #T_3cf88882_50db_11eb_b491_7c2a31b3e885row11_col1 {\n",
       "            background-color:  #bcc7e1;\n",
       "        }    #T_3cf88882_50db_11eb_b491_7c2a31b3e885row11_col2 {\n",
       "            background-color:  #73a9cf;\n",
       "        }    #T_3cf88882_50db_11eb_b491_7c2a31b3e885row11_col3 {\n",
       "            background-color:  #76aad0;\n",
       "        }    #T_3cf88882_50db_11eb_b491_7c2a31b3e885row11_col4 {\n",
       "            background-color:  #c2cbe2;\n",
       "        }    #T_3cf88882_50db_11eb_b491_7c2a31b3e885row11_col5 {\n",
       "            background-color:  #b9c6e0;\n",
       "        }    #T_3cf88882_50db_11eb_b491_7c2a31b3e885row11_col6 {\n",
       "            background-color:  #b7c5df;\n",
       "        }    #T_3cf88882_50db_11eb_b491_7c2a31b3e885row12_col0 {\n",
       "            background-color:  #b4c4df;\n",
       "        }    #T_3cf88882_50db_11eb_b491_7c2a31b3e885row12_col1 {\n",
       "            background-color:  #abbfdc;\n",
       "        }    #T_3cf88882_50db_11eb_b491_7c2a31b3e885row12_col2 {\n",
       "            background-color:  #3d93c2;\n",
       "        }    #T_3cf88882_50db_11eb_b491_7c2a31b3e885row12_col3 {\n",
       "            background-color:  #2a88bc;\n",
       "        }    #T_3cf88882_50db_11eb_b491_7c2a31b3e885row12_col4 {\n",
       "            background-color:  #afc1dd;\n",
       "        }    #T_3cf88882_50db_11eb_b491_7c2a31b3e885row12_col5 {\n",
       "            background-color:  #a7bddb;\n",
       "        }    #T_3cf88882_50db_11eb_b491_7c2a31b3e885row12_col6 {\n",
       "            background-color:  #a2bcda;\n",
       "        }    #T_3cf88882_50db_11eb_b491_7c2a31b3e885row13_col0 {\n",
       "            background-color:  #b3c3de;\n",
       "        }    #T_3cf88882_50db_11eb_b491_7c2a31b3e885row13_col1 {\n",
       "            background-color:  #a8bedc;\n",
       "        }    #T_3cf88882_50db_11eb_b491_7c2a31b3e885row13_col2 {\n",
       "            background-color:  #1278b4;\n",
       "        }    #T_3cf88882_50db_11eb_b491_7c2a31b3e885row13_col3 {\n",
       "            background-color:  #056fae;\n",
       "        }    #T_3cf88882_50db_11eb_b491_7c2a31b3e885row13_col4 {\n",
       "            background-color:  #b0c2de;\n",
       "        }    #T_3cf88882_50db_11eb_b491_7c2a31b3e885row13_col5 {\n",
       "            background-color:  #a4bcda;\n",
       "        }    #T_3cf88882_50db_11eb_b491_7c2a31b3e885row13_col6 {\n",
       "            background-color:  #a1bbda;\n",
       "        }    #T_3cf88882_50db_11eb_b491_7c2a31b3e885row14_col0 {\n",
       "            background-color:  #afc1dd;\n",
       "        }    #T_3cf88882_50db_11eb_b491_7c2a31b3e885row14_col1 {\n",
       "            background-color:  #a2bcda;\n",
       "        }    #T_3cf88882_50db_11eb_b491_7c2a31b3e885row14_col2 {\n",
       "            background-color:  #056dab;\n",
       "        }    #T_3cf88882_50db_11eb_b491_7c2a31b3e885row14_col3 {\n",
       "            background-color:  #05659f;\n",
       "        }    #T_3cf88882_50db_11eb_b491_7c2a31b3e885row14_col4 {\n",
       "            background-color:  #adc1dd;\n",
       "        }    #T_3cf88882_50db_11eb_b491_7c2a31b3e885row14_col5 {\n",
       "            background-color:  #a2bcda;\n",
       "        }    #T_3cf88882_50db_11eb_b491_7c2a31b3e885row14_col6 {\n",
       "            background-color:  #9ebad9;\n",
       "        }    #T_3cf88882_50db_11eb_b491_7c2a31b3e885row15_col0 {\n",
       "            background-color:  #97b7d7;\n",
       "        }    #T_3cf88882_50db_11eb_b491_7c2a31b3e885row15_col1 {\n",
       "            background-color:  #91b5d6;\n",
       "        }    #T_3cf88882_50db_11eb_b491_7c2a31b3e885row15_col2 {\n",
       "            background-color:  #045e94;\n",
       "        }    #T_3cf88882_50db_11eb_b491_7c2a31b3e885row15_col3 {\n",
       "            background-color:  #045788;\n",
       "        }    #T_3cf88882_50db_11eb_b491_7c2a31b3e885row15_col4 {\n",
       "            background-color:  #9ebad9;\n",
       "        }    #T_3cf88882_50db_11eb_b491_7c2a31b3e885row15_col5 {\n",
       "            background-color:  #99b8d8;\n",
       "        }    #T_3cf88882_50db_11eb_b491_7c2a31b3e885row15_col6 {\n",
       "            background-color:  #8bb2d4;\n",
       "        }    #T_3cf88882_50db_11eb_b491_7c2a31b3e885row16_col0 {\n",
       "            background-color:  #79abd0;\n",
       "        }    #T_3cf88882_50db_11eb_b491_7c2a31b3e885row16_col1 {\n",
       "            background-color:  #71a8ce;\n",
       "        }    #T_3cf88882_50db_11eb_b491_7c2a31b3e885row16_col2 {\n",
       "            background-color:  #034f7d;\n",
       "        }    #T_3cf88882_50db_11eb_b491_7c2a31b3e885row16_col3 {\n",
       "            background-color:  #03446a;\n",
       "        }    #T_3cf88882_50db_11eb_b491_7c2a31b3e885row16_col4 {\n",
       "            background-color:  #84b0d3;\n",
       "        }    #T_3cf88882_50db_11eb_b491_7c2a31b3e885row16_col5 {\n",
       "            background-color:  #79abd0;\n",
       "        }    #T_3cf88882_50db_11eb_b491_7c2a31b3e885row16_col6 {\n",
       "            background-color:  #6da6cd;\n",
       "        }    #T_3cf88882_50db_11eb_b491_7c2a31b3e885row17_col0 {\n",
       "            background-color:  #2685bb;\n",
       "        }    #T_3cf88882_50db_11eb_b491_7c2a31b3e885row17_col1 {\n",
       "            background-color:  #2383ba;\n",
       "        }    #T_3cf88882_50db_11eb_b491_7c2a31b3e885row17_col2 {\n",
       "            background-color:  #023858;\n",
       "        }    #T_3cf88882_50db_11eb_b491_7c2a31b3e885row17_col3 {\n",
       "            background-color:  #023858;\n",
       "        }    #T_3cf88882_50db_11eb_b491_7c2a31b3e885row17_col4 {\n",
       "            background-color:  #3790c0;\n",
       "        }    #T_3cf88882_50db_11eb_b491_7c2a31b3e885row17_col5 {\n",
       "            background-color:  #2a88bc;\n",
       "        }    #T_3cf88882_50db_11eb_b491_7c2a31b3e885row17_col6 {\n",
       "            background-color:  #1b7eb7;\n",
       "        }    #T_3cf88882_50db_11eb_b491_7c2a31b3e885row18_col0 {\n",
       "            background-color:  #023858;\n",
       "        }    #T_3cf88882_50db_11eb_b491_7c2a31b3e885row18_col1 {\n",
       "            background-color:  #023858;\n",
       "        }    #T_3cf88882_50db_11eb_b491_7c2a31b3e885row18_col2 {\n",
       "            background-color:  #03446a;\n",
       "        }    #T_3cf88882_50db_11eb_b491_7c2a31b3e885row18_col3 {\n",
       "            background-color:  #023858;\n",
       "        }    #T_3cf88882_50db_11eb_b491_7c2a31b3e885row18_col4 {\n",
       "            background-color:  #023858;\n",
       "        }    #T_3cf88882_50db_11eb_b491_7c2a31b3e885row18_col5 {\n",
       "            background-color:  #023858;\n",
       "        }    #T_3cf88882_50db_11eb_b491_7c2a31b3e885row18_col6 {\n",
       "            background-color:  #023858;\n",
       "        }    #T_3cf88882_50db_11eb_b491_7c2a31b3e885row19_col0 {\n",
       "            background-color:  #0c74b2;\n",
       "        }    #T_3cf88882_50db_11eb_b491_7c2a31b3e885row19_col1 {\n",
       "            background-color:  #0570b0;\n",
       "        }    #T_3cf88882_50db_11eb_b491_7c2a31b3e885row19_col2 {\n",
       "            background-color:  #045b8f;\n",
       "        }    #T_3cf88882_50db_11eb_b491_7c2a31b3e885row19_col3 {\n",
       "            background-color:  #03456c;\n",
       "        }    #T_3cf88882_50db_11eb_b491_7c2a31b3e885row19_col4 {\n",
       "            background-color:  #0a73b2;\n",
       "        }    #T_3cf88882_50db_11eb_b491_7c2a31b3e885row19_col5 {\n",
       "            background-color:  #0c74b2;\n",
       "        }    #T_3cf88882_50db_11eb_b491_7c2a31b3e885row19_col6 {\n",
       "            background-color:  #0570b0;\n",
       "        }    #T_3cf88882_50db_11eb_b491_7c2a31b3e885row20_col0 {\n",
       "            background-color:  #4295c3;\n",
       "        }    #T_3cf88882_50db_11eb_b491_7c2a31b3e885row20_col1 {\n",
       "            background-color:  #2182b9;\n",
       "        }    #T_3cf88882_50db_11eb_b491_7c2a31b3e885row20_col2 {\n",
       "            background-color:  #05659f;\n",
       "        }    #T_3cf88882_50db_11eb_b491_7c2a31b3e885row20_col3 {\n",
       "            background-color:  #034d79;\n",
       "        }    #T_3cf88882_50db_11eb_b491_7c2a31b3e885row20_col4 {\n",
       "            background-color:  #3790c0;\n",
       "        }    #T_3cf88882_50db_11eb_b491_7c2a31b3e885row20_col5 {\n",
       "            background-color:  #3790c0;\n",
       "        }    #T_3cf88882_50db_11eb_b491_7c2a31b3e885row20_col6 {\n",
       "            background-color:  #2a88bc;\n",
       "        }    #T_3cf88882_50db_11eb_b491_7c2a31b3e885row21_col0 {\n",
       "            background-color:  #569dc8;\n",
       "        }    #T_3cf88882_50db_11eb_b491_7c2a31b3e885row21_col1 {\n",
       "            background-color:  #2d8abd;\n",
       "        }    #T_3cf88882_50db_11eb_b491_7c2a31b3e885row21_col2 {\n",
       "            background-color:  #0567a2;\n",
       "        }    #T_3cf88882_50db_11eb_b491_7c2a31b3e885row21_col3 {\n",
       "            background-color:  #045f95;\n",
       "        }    #T_3cf88882_50db_11eb_b491_7c2a31b3e885row21_col4 {\n",
       "            background-color:  #3d93c2;\n",
       "        }    #T_3cf88882_50db_11eb_b491_7c2a31b3e885row21_col5 {\n",
       "            background-color:  #3790c0;\n",
       "        }    #T_3cf88882_50db_11eb_b491_7c2a31b3e885row21_col6 {\n",
       "            background-color:  #3790c0;\n",
       "        }    #T_3cf88882_50db_11eb_b491_7c2a31b3e885row22_col0 {\n",
       "            background-color:  #67a4cc;\n",
       "        }    #T_3cf88882_50db_11eb_b491_7c2a31b3e885row22_col1 {\n",
       "            background-color:  #5a9ec9;\n",
       "        }    #T_3cf88882_50db_11eb_b491_7c2a31b3e885row22_col2 {\n",
       "            background-color:  #1278b4;\n",
       "        }    #T_3cf88882_50db_11eb_b491_7c2a31b3e885row22_col3 {\n",
       "            background-color:  #197db7;\n",
       "        }    #T_3cf88882_50db_11eb_b491_7c2a31b3e885row22_col4 {\n",
       "            background-color:  #5a9ec9;\n",
       "        }    #T_3cf88882_50db_11eb_b491_7c2a31b3e885row22_col5 {\n",
       "            background-color:  #5ea0ca;\n",
       "        }    #T_3cf88882_50db_11eb_b491_7c2a31b3e885row22_col6 {\n",
       "            background-color:  #5ea0ca;\n",
       "        }    #T_3cf88882_50db_11eb_b491_7c2a31b3e885row23_col0 {\n",
       "            background-color:  #a2bcda;\n",
       "        }    #T_3cf88882_50db_11eb_b491_7c2a31b3e885row23_col1 {\n",
       "            background-color:  #a7bddb;\n",
       "        }    #T_3cf88882_50db_11eb_b491_7c2a31b3e885row23_col2 {\n",
       "            background-color:  #589ec8;\n",
       "        }    #T_3cf88882_50db_11eb_b491_7c2a31b3e885row23_col3 {\n",
       "            background-color:  #7bacd1;\n",
       "        }    #T_3cf88882_50db_11eb_b491_7c2a31b3e885row23_col4 {\n",
       "            background-color:  #a9bfdc;\n",
       "        }    #T_3cf88882_50db_11eb_b491_7c2a31b3e885row23_col5 {\n",
       "            background-color:  #b3c3de;\n",
       "        }    #T_3cf88882_50db_11eb_b491_7c2a31b3e885row23_col6 {\n",
       "            background-color:  #acc0dd;\n",
       "        }</style>  \n",
       "<table id=\"T_3cf88882_50db_11eb_b491_7c2a31b3e885\" > \n",
       "<thead>    <tr> \n",
       "        <th class=\"index_name level0\" >week_day</th> \n",
       "        <th class=\"col_heading level0 col0\" >Friday</th> \n",
       "        <th class=\"col_heading level0 col1\" >Monday</th> \n",
       "        <th class=\"col_heading level0 col2\" >Saturday</th> \n",
       "        <th class=\"col_heading level0 col3\" >Sunday</th> \n",
       "        <th class=\"col_heading level0 col4\" >Thursday</th> \n",
       "        <th class=\"col_heading level0 col5\" >Tuesday</th> \n",
       "        <th class=\"col_heading level0 col6\" >Wednesday</th> \n",
       "    </tr>    <tr> \n",
       "        <th class=\"index_name level0\" >Hour</th> \n",
       "        <th class=\"blank\" ></th> \n",
       "        <th class=\"blank\" ></th> \n",
       "        <th class=\"blank\" ></th> \n",
       "        <th class=\"blank\" ></th> \n",
       "        <th class=\"blank\" ></th> \n",
       "        <th class=\"blank\" ></th> \n",
       "        <th class=\"blank\" ></th> \n",
       "    </tr></thead> \n",
       "<tbody>    <tr> \n",
       "        <th id=\"T_3cf88882_50db_11eb_b491_7c2a31b3e885level0_row0\" class=\"row_heading level0 row0\" >0</th> \n",
       "        <td id=\"T_3cf88882_50db_11eb_b491_7c2a31b3e885row0_col0\" class=\"data row0 col0\" >549.882</td> \n",
       "        <td id=\"T_3cf88882_50db_11eb_b491_7c2a31b3e885row0_col1\" class=\"data row0 col1\" >459.577</td> \n",
       "        <td id=\"T_3cf88882_50db_11eb_b491_7c2a31b3e885row0_col2\" class=\"data row0 col2\" >690.1</td> \n",
       "        <td id=\"T_3cf88882_50db_11eb_b491_7c2a31b3e885row0_col3\" class=\"data row0 col3\" >651.373</td> \n",
       "        <td id=\"T_3cf88882_50db_11eb_b491_7c2a31b3e885row0_col4\" class=\"data row0 col4\" >540.86</td> \n",
       "        <td id=\"T_3cf88882_50db_11eb_b491_7c2a31b3e885row0_col5\" class=\"data row0 col5\" >512.917</td> \n",
       "        <td id=\"T_3cf88882_50db_11eb_b491_7c2a31b3e885row0_col6\" class=\"data row0 col6\" >526.06</td> \n",
       "    </tr>    <tr> \n",
       "        <th id=\"T_3cf88882_50db_11eb_b491_7c2a31b3e885level0_row1\" class=\"row_heading level0 row1\" >1</th> \n",
       "        <td id=\"T_3cf88882_50db_11eb_b491_7c2a31b3e885row1_col0\" class=\"data row1 col0\" >448.608</td> \n",
       "        <td id=\"T_3cf88882_50db_11eb_b491_7c2a31b3e885row1_col1\" class=\"data row1 col1\" >296.173</td> \n",
       "        <td id=\"T_3cf88882_50db_11eb_b491_7c2a31b3e885row1_col2\" class=\"data row1 col2\" >621.06</td> \n",
       "        <td id=\"T_3cf88882_50db_11eb_b491_7c2a31b3e885row1_col3\" class=\"data row1 col3\" >475.961</td> \n",
       "        <td id=\"T_3cf88882_50db_11eb_b491_7c2a31b3e885row1_col4\" class=\"data row1 col4\" >431.38</td> \n",
       "        <td id=\"T_3cf88882_50db_11eb_b491_7c2a31b3e885row1_col5\" class=\"data row1 col5\" >412.083</td> \n",
       "        <td id=\"T_3cf88882_50db_11eb_b491_7c2a31b3e885row1_col6\" class=\"data row1 col6\" >412.02</td> \n",
       "    </tr>    <tr> \n",
       "        <th id=\"T_3cf88882_50db_11eb_b491_7c2a31b3e885level0_row2\" class=\"row_heading level0 row2\" >2</th> \n",
       "        <td id=\"T_3cf88882_50db_11eb_b491_7c2a31b3e885row2_col0\" class=\"data row2 col0\" >298.392</td> \n",
       "        <td id=\"T_3cf88882_50db_11eb_b491_7c2a31b3e885row2_col1\" class=\"data row2 col1\" >199.865</td> \n",
       "        <td id=\"T_3cf88882_50db_11eb_b491_7c2a31b3e885row2_col2\" class=\"data row2 col2\" >456.56</td> \n",
       "        <td id=\"T_3cf88882_50db_11eb_b491_7c2a31b3e885row2_col3\" class=\"data row2 col3\" >365.49</td> \n",
       "        <td id=\"T_3cf88882_50db_11eb_b491_7c2a31b3e885row2_col4\" class=\"data row2 col4\" >301.04</td> \n",
       "        <td id=\"T_3cf88882_50db_11eb_b491_7c2a31b3e885row2_col5\" class=\"data row2 col5\" >282.042</td> \n",
       "        <td id=\"T_3cf88882_50db_11eb_b491_7c2a31b3e885row2_col6\" class=\"data row2 col6\" >288.52</td> \n",
       "    </tr>    <tr> \n",
       "        <th id=\"T_3cf88882_50db_11eb_b491_7c2a31b3e885level0_row3\" class=\"row_heading level0 row3\" >3</th> \n",
       "        <td id=\"T_3cf88882_50db_11eb_b491_7c2a31b3e885row3_col0\" class=\"data row3 col0\" >200.373</td> \n",
       "        <td id=\"T_3cf88882_50db_11eb_b491_7c2a31b3e885row3_col1\" class=\"data row3 col1\" >132.769</td> \n",
       "        <td id=\"T_3cf88882_50db_11eb_b491_7c2a31b3e885row3_col2\" class=\"data row3 col2\" >311.78</td> \n",
       "        <td id=\"T_3cf88882_50db_11eb_b491_7c2a31b3e885row3_col3\" class=\"data row3 col3\" >256.235</td> \n",
       "        <td id=\"T_3cf88882_50db_11eb_b491_7c2a31b3e885row3_col4\" class=\"data row3 col4\" >191.68</td> \n",
       "        <td id=\"T_3cf88882_50db_11eb_b491_7c2a31b3e885row3_col5\" class=\"data row3 col5\" >184.938</td> \n",
       "        <td id=\"T_3cf88882_50db_11eb_b491_7c2a31b3e885row3_col6\" class=\"data row3 col6\" >199.5</td> \n",
       "    </tr>    <tr> \n",
       "        <th id=\"T_3cf88882_50db_11eb_b491_7c2a31b3e885level0_row4\" class=\"row_heading level0 row4\" >4</th> \n",
       "        <td id=\"T_3cf88882_50db_11eb_b491_7c2a31b3e885row4_col0\" class=\"data row4 col0\" >130.431</td> \n",
       "        <td id=\"T_3cf88882_50db_11eb_b491_7c2a31b3e885row4_col1\" class=\"data row4 col1\" >103.154</td> \n",
       "        <td id=\"T_3cf88882_50db_11eb_b491_7c2a31b3e885row4_col2\" class=\"data row4 col2\" >192.22</td> \n",
       "        <td id=\"T_3cf88882_50db_11eb_b491_7c2a31b3e885row4_col3\" class=\"data row4 col3\" >157.078</td> \n",
       "        <td id=\"T_3cf88882_50db_11eb_b491_7c2a31b3e885row4_col4\" class=\"data row4 col4\" >123.7</td> \n",
       "        <td id=\"T_3cf88882_50db_11eb_b491_7c2a31b3e885row4_col5\" class=\"data row4 col5\" >124.688</td> \n",
       "        <td id=\"T_3cf88882_50db_11eb_b491_7c2a31b3e885row4_col6\" class=\"data row4 col6\" >131.76</td> \n",
       "    </tr>    <tr> \n",
       "        <th id=\"T_3cf88882_50db_11eb_b491_7c2a31b3e885level0_row5\" class=\"row_heading level0 row5\" >5</th> \n",
       "        <td id=\"T_3cf88882_50db_11eb_b491_7c2a31b3e885row5_col0\" class=\"data row5 col0\" >153.373</td> \n",
       "        <td id=\"T_3cf88882_50db_11eb_b491_7c2a31b3e885row5_col1\" class=\"data row5 col1\" >157.423</td> \n",
       "        <td id=\"T_3cf88882_50db_11eb_b491_7c2a31b3e885row5_col2\" class=\"data row5 col2\" >144.4</td> \n",
       "        <td id=\"T_3cf88882_50db_11eb_b491_7c2a31b3e885row5_col3\" class=\"data row5 col3\" >106.863</td> \n",
       "        <td id=\"T_3cf88882_50db_11eb_b491_7c2a31b3e885row5_col4\" class=\"data row5 col4\" >148.02</td> \n",
       "        <td id=\"T_3cf88882_50db_11eb_b491_7c2a31b3e885row5_col5\" class=\"data row5 col5\" >152.479</td> \n",
       "        <td id=\"T_3cf88882_50db_11eb_b491_7c2a31b3e885row5_col6\" class=\"data row5 col6\" >147.34</td> \n",
       "    </tr>    <tr> \n",
       "        <th id=\"T_3cf88882_50db_11eb_b491_7c2a31b3e885level0_row6\" class=\"row_heading level0 row6\" >6</th> \n",
       "        <td id=\"T_3cf88882_50db_11eb_b491_7c2a31b3e885row6_col0\" class=\"data row6 col0\" >360.02</td> \n",
       "        <td id=\"T_3cf88882_50db_11eb_b491_7c2a31b3e885row6_col1\" class=\"data row6 col1\" >370.346</td> \n",
       "        <td id=\"T_3cf88882_50db_11eb_b491_7c2a31b3e885row6_col2\" class=\"data row6 col2\" >194.04</td> \n",
       "        <td id=\"T_3cf88882_50db_11eb_b491_7c2a31b3e885row6_col3\" class=\"data row6 col3\" >134</td> \n",
       "        <td id=\"T_3cf88882_50db_11eb_b491_7c2a31b3e885row6_col4\" class=\"data row6 col4\" >333.96</td> \n",
       "        <td id=\"T_3cf88882_50db_11eb_b491_7c2a31b3e885row6_col5\" class=\"data row6 col5\" >362.688</td> \n",
       "        <td id=\"T_3cf88882_50db_11eb_b491_7c2a31b3e885row6_col6\" class=\"data row6 col6\" >333.98</td> \n",
       "    </tr>    <tr> \n",
       "        <th id=\"T_3cf88882_50db_11eb_b491_7c2a31b3e885level0_row7\" class=\"row_heading level0 row7\" >7</th> \n",
       "        <td id=\"T_3cf88882_50db_11eb_b491_7c2a31b3e885row7_col0\" class=\"data row7 col0\" >783.569</td> \n",
       "        <td id=\"T_3cf88882_50db_11eb_b491_7c2a31b3e885row7_col1\" class=\"data row7 col1\" >797.481</td> \n",
       "        <td id=\"T_3cf88882_50db_11eb_b491_7c2a31b3e885row7_col2\" class=\"data row7 col2\" >300.922</td> \n",
       "        <td id=\"T_3cf88882_50db_11eb_b491_7c2a31b3e885row7_col3\" class=\"data row7 col3\" >209.255</td> \n",
       "        <td id=\"T_3cf88882_50db_11eb_b491_7c2a31b3e885row7_col4\" class=\"data row7 col4\" >733.2</td> \n",
       "        <td id=\"T_3cf88882_50db_11eb_b491_7c2a31b3e885row7_col5\" class=\"data row7 col5\" >817.792</td> \n",
       "        <td id=\"T_3cf88882_50db_11eb_b491_7c2a31b3e885row7_col6\" class=\"data row7 col6\" >756.56</td> \n",
       "    </tr>    <tr> \n",
       "        <th id=\"T_3cf88882_50db_11eb_b491_7c2a31b3e885level0_row8\" class=\"row_heading level0 row8\" >8</th> \n",
       "        <td id=\"T_3cf88882_50db_11eb_b491_7c2a31b3e885row8_col0\" class=\"data row8 col0\" >1337.96</td> \n",
       "        <td id=\"T_3cf88882_50db_11eb_b491_7c2a31b3e885row8_col1\" class=\"data row8 col1\" >1268.9</td> \n",
       "        <td id=\"T_3cf88882_50db_11eb_b491_7c2a31b3e885row8_col2\" class=\"data row8 col2\" >496.667</td> \n",
       "        <td id=\"T_3cf88882_50db_11eb_b491_7c2a31b3e885row8_col3\" class=\"data row8 col3\" >344.922</td> \n",
       "        <td id=\"T_3cf88882_50db_11eb_b491_7c2a31b3e885row8_col4\" class=\"data row8 col4\" >1244.4</td> \n",
       "        <td id=\"T_3cf88882_50db_11eb_b491_7c2a31b3e885row8_col5\" class=\"data row8 col5\" >1382.67</td> \n",
       "        <td id=\"T_3cf88882_50db_11eb_b491_7c2a31b3e885row8_col6\" class=\"data row8 col6\" >1300.06</td> \n",
       "    </tr>    <tr> \n",
       "        <th id=\"T_3cf88882_50db_11eb_b491_7c2a31b3e885level0_row9\" class=\"row_heading level0 row9\" >9</th> \n",
       "        <td id=\"T_3cf88882_50db_11eb_b491_7c2a31b3e885row9_col0\" class=\"data row9 col0\" >736.118</td> \n",
       "        <td id=\"T_3cf88882_50db_11eb_b491_7c2a31b3e885row9_col1\" class=\"data row9 col1\" >703.808</td> \n",
       "        <td id=\"T_3cf88882_50db_11eb_b491_7c2a31b3e885row9_col2\" class=\"data row9 col2\" >578.529</td> \n",
       "        <td id=\"T_3cf88882_50db_11eb_b491_7c2a31b3e885row9_col3\" class=\"data row9 col3\" >440.098</td> \n",
       "        <td id=\"T_3cf88882_50db_11eb_b491_7c2a31b3e885row9_col4\" class=\"data row9 col4\" >698.22</td> \n",
       "        <td id=\"T_3cf88882_50db_11eb_b491_7c2a31b3e885row9_col5\" class=\"data row9 col5\" >775.104</td> \n",
       "        <td id=\"T_3cf88882_50db_11eb_b491_7c2a31b3e885row9_col6\" class=\"data row9 col6\" >751.56</td> \n",
       "    </tr>    <tr> \n",
       "        <th id=\"T_3cf88882_50db_11eb_b491_7c2a31b3e885level0_row10\" class=\"row_heading level0 row10\" >10</th> \n",
       "        <td id=\"T_3cf88882_50db_11eb_b491_7c2a31b3e885row10_col0\" class=\"data row10 col0\" >545.706</td> \n",
       "        <td id=\"T_3cf88882_50db_11eb_b491_7c2a31b3e885row10_col1\" class=\"data row10 col1\" >522.231</td> \n",
       "        <td id=\"T_3cf88882_50db_11eb_b491_7c2a31b3e885row10_col2\" class=\"data row10 col2\" >606.882</td> \n",
       "        <td id=\"T_3cf88882_50db_11eb_b491_7c2a31b3e885row10_col3\" class=\"data row10 col3\" >500.941</td> \n",
       "        <td id=\"T_3cf88882_50db_11eb_b491_7c2a31b3e885row10_col4\" class=\"data row10 col4\" >497.66</td> \n",
       "        <td id=\"T_3cf88882_50db_11eb_b491_7c2a31b3e885row10_col5\" class=\"data row10 col5\" >562.188</td> \n",
       "        <td id=\"T_3cf88882_50db_11eb_b491_7c2a31b3e885row10_col6\" class=\"data row10 col6\" >586.02</td> \n",
       "    </tr>    <tr> \n",
       "        <th id=\"T_3cf88882_50db_11eb_b491_7c2a31b3e885level0_row11\" class=\"row_heading level0 row11\" >11</th> \n",
       "        <td id=\"T_3cf88882_50db_11eb_b491_7c2a31b3e885row11_col0\" class=\"data row11 col0\" >616.02</td> \n",
       "        <td id=\"T_3cf88882_50db_11eb_b491_7c2a31b3e885row11_col1\" class=\"data row11 col1\" >595.212</td> \n",
       "        <td id=\"T_3cf88882_50db_11eb_b491_7c2a31b3e885row11_col2\" class=\"data row11 col2\" >691.843</td> \n",
       "        <td id=\"T_3cf88882_50db_11eb_b491_7c2a31b3e885row11_col3\" class=\"data row11 col3\" >592.961</td> \n",
       "        <td id=\"T_3cf88882_50db_11eb_b491_7c2a31b3e885row11_col4\" class=\"data row11 col4\" >575.52</td> \n",
       "        <td id=\"T_3cf88882_50db_11eb_b491_7c2a31b3e885row11_col5\" class=\"data row11 col5\" >620.312</td> \n",
       "        <td id=\"T_3cf88882_50db_11eb_b491_7c2a31b3e885row11_col6\" class=\"data row11 col6\" >657.34</td> \n",
       "    </tr>    <tr> \n",
       "        <th id=\"T_3cf88882_50db_11eb_b491_7c2a31b3e885level0_row12\" class=\"row_heading level0 row12\" >12</th> \n",
       "        <td id=\"T_3cf88882_50db_11eb_b491_7c2a31b3e885row12_col0\" class=\"data row12 col0\" >701.451</td> \n",
       "        <td id=\"T_3cf88882_50db_11eb_b491_7c2a31b3e885row12_col1\" class=\"data row12 col1\" >680.212</td> \n",
       "        <td id=\"T_3cf88882_50db_11eb_b491_7c2a31b3e885row12_col2\" class=\"data row12 col2\" >809.627</td> \n",
       "        <td id=\"T_3cf88882_50db_11eb_b491_7c2a31b3e885row12_col3\" class=\"data row12 col3\" >750.627</td> \n",
       "        <td id=\"T_3cf88882_50db_11eb_b491_7c2a31b3e885row12_col4\" class=\"data row12 col4\" >666.4</td> \n",
       "        <td id=\"T_3cf88882_50db_11eb_b491_7c2a31b3e885row12_col5\" class=\"data row12 col5\" >708.042</td> \n",
       "        <td id=\"T_3cf88882_50db_11eb_b491_7c2a31b3e885row12_col6\" class=\"data row12 col6\" >745.44</td> \n",
       "    </tr>    <tr> \n",
       "        <th id=\"T_3cf88882_50db_11eb_b491_7c2a31b3e885level0_row13\" class=\"row_heading level0 row13\" >13</th> \n",
       "        <td id=\"T_3cf88882_50db_11eb_b491_7c2a31b3e885row13_col0\" class=\"data row13 col0\" >708.588</td> \n",
       "        <td id=\"T_3cf88882_50db_11eb_b491_7c2a31b3e885row13_col1\" class=\"data row13 col1\" >688.885</td> \n",
       "        <td id=\"T_3cf88882_50db_11eb_b491_7c2a31b3e885row13_col2\" class=\"data row13 col2\" >923.392</td> \n",
       "        <td id=\"T_3cf88882_50db_11eb_b491_7c2a31b3e885row13_col3\" class=\"data row13 col3\" >849.608</td> \n",
       "        <td id=\"T_3cf88882_50db_11eb_b491_7c2a31b3e885row13_col4\" class=\"data row13 col4\" >660.8</td> \n",
       "        <td id=\"T_3cf88882_50db_11eb_b491_7c2a31b3e885row13_col5\" class=\"data row13 col5\" >718.75</td> \n",
       "        <td id=\"T_3cf88882_50db_11eb_b491_7c2a31b3e885row13_col6\" class=\"data row13 col6\" >754.24</td> \n",
       "    </tr>    <tr> \n",
       "        <th id=\"T_3cf88882_50db_11eb_b491_7c2a31b3e885level0_row14\" class=\"row_heading level0 row14\" >14</th> \n",
       "        <td id=\"T_3cf88882_50db_11eb_b491_7c2a31b3e885row14_col0\" class=\"data row14 col0\" >728.51</td> \n",
       "        <td id=\"T_3cf88882_50db_11eb_b491_7c2a31b3e885row14_col1\" class=\"data row14 col1\" >712.538</td> \n",
       "        <td id=\"T_3cf88882_50db_11eb_b491_7c2a31b3e885row14_col2\" class=\"data row14 col2\" >978.02</td> \n",
       "        <td id=\"T_3cf88882_50db_11eb_b491_7c2a31b3e885row14_col3\" class=\"data row14 col3\" >902.392</td> \n",
       "        <td id=\"T_3cf88882_50db_11eb_b491_7c2a31b3e885row14_col4\" class=\"data row14 col4\" >672.48</td> \n",
       "        <td id=\"T_3cf88882_50db_11eb_b491_7c2a31b3e885row14_col5\" class=\"data row14 col5\" >723.479</td> \n",
       "        <td id=\"T_3cf88882_50db_11eb_b491_7c2a31b3e885row14_col6\" class=\"data row14 col6\" >770.26</td> \n",
       "    </tr>    <tr> \n",
       "        <th id=\"T_3cf88882_50db_11eb_b491_7c2a31b3e885level0_row15\" class=\"row_heading level0 row15\" >15</th> \n",
       "        <td id=\"T_3cf88882_50db_11eb_b491_7c2a31b3e885row15_col0\" class=\"data row15 col0\" >830.608</td> \n",
       "        <td id=\"T_3cf88882_50db_11eb_b491_7c2a31b3e885row15_col1\" class=\"data row15 col1\" >782.635</td> \n",
       "        <td id=\"T_3cf88882_50db_11eb_b491_7c2a31b3e885row15_col2\" class=\"data row15 col2\" >1067.27</td> \n",
       "        <td id=\"T_3cf88882_50db_11eb_b491_7c2a31b3e885row15_col3\" class=\"data row15 col3\" >977.922</td> \n",
       "        <td id=\"T_3cf88882_50db_11eb_b491_7c2a31b3e885row15_col4\" class=\"data row15 col4\" >736.62</td> \n",
       "        <td id=\"T_3cf88882_50db_11eb_b491_7c2a31b3e885row15_col5\" class=\"data row15 col5\" >760.125</td> \n",
       "        <td id=\"T_3cf88882_50db_11eb_b491_7c2a31b3e885row15_col6\" class=\"data row15 col6\" >839.46</td> \n",
       "    </tr>    <tr> \n",
       "        <th id=\"T_3cf88882_50db_11eb_b491_7c2a31b3e885level0_row16\" class=\"row_heading level0 row16\" >16</th> \n",
       "        <td id=\"T_3cf88882_50db_11eb_b491_7c2a31b3e885row16_col0\" class=\"data row16 col0\" >961.255</td> \n",
       "        <td id=\"T_3cf88882_50db_11eb_b491_7c2a31b3e885row16_col1\" class=\"data row16 col1\" >908.269</td> \n",
       "        <td id=\"T_3cf88882_50db_11eb_b491_7c2a31b3e885row16_col2\" class=\"data row16 col2\" >1137.86</td> \n",
       "        <td id=\"T_3cf88882_50db_11eb_b491_7c2a31b3e885row16_col3\" class=\"data row16 col3\" >1043.98</td> \n",
       "        <td id=\"T_3cf88882_50db_11eb_b491_7c2a31b3e885row16_col4\" class=\"data row16 col4\" >835.6</td> \n",
       "        <td id=\"T_3cf88882_50db_11eb_b491_7c2a31b3e885row16_col5\" class=\"data row16 col5\" >884.646</td> \n",
       "        <td id=\"T_3cf88882_50db_11eb_b491_7c2a31b3e885row16_col6\" class=\"data row16 col6\" >958.12</td> \n",
       "    </tr>    <tr> \n",
       "        <th id=\"T_3cf88882_50db_11eb_b491_7c2a31b3e885level0_row17\" class=\"row_heading level0 row17\" >17</th> \n",
       "        <td id=\"T_3cf88882_50db_11eb_b491_7c2a31b3e885row17_col0\" class=\"data row17 col0\" >1268.24</td> \n",
       "        <td id=\"T_3cf88882_50db_11eb_b491_7c2a31b3e885row17_col1\" class=\"data row17 col1\" >1173.17</td> \n",
       "        <td id=\"T_3cf88882_50db_11eb_b491_7c2a31b3e885row17_col2\" class=\"data row17 col2\" >1232.41</td> \n",
       "        <td id=\"T_3cf88882_50db_11eb_b491_7c2a31b3e885row17_col3\" class=\"data row17 col3\" >1089.61</td> \n",
       "        <td id=\"T_3cf88882_50db_11eb_b491_7c2a31b3e885row17_col4\" class=\"data row17 col4\" >1089.52</td> \n",
       "        <td id=\"T_3cf88882_50db_11eb_b491_7c2a31b3e885row17_col5\" class=\"data row17 col5\" >1142.4</td> \n",
       "        <td id=\"T_3cf88882_50db_11eb_b491_7c2a31b3e885row17_col6\" class=\"data row17 col6\" >1242.74</td> \n",
       "    </tr>    <tr> \n",
       "        <th id=\"T_3cf88882_50db_11eb_b491_7c2a31b3e885level0_row18\" class=\"row_heading level0 row18\" >18</th> \n",
       "        <td id=\"T_3cf88882_50db_11eb_b491_7c2a31b3e885row18_col0\" class=\"data row18 col0\" >1836.76</td> \n",
       "        <td id=\"T_3cf88882_50db_11eb_b491_7c2a31b3e885row18_col1\" class=\"data row18 col1\" >1695</td> \n",
       "        <td id=\"T_3cf88882_50db_11eb_b491_7c2a31b3e885row18_col2\" class=\"data row18 col2\" >1181.73</td> \n",
       "        <td id=\"T_3cf88882_50db_11eb_b491_7c2a31b3e885row18_col3\" class=\"data row18 col3\" >1089.47</td> \n",
       "        <td id=\"T_3cf88882_50db_11eb_b491_7c2a31b3e885row18_col4\" class=\"data row18 col4\" >1669.18</td> \n",
       "        <td id=\"T_3cf88882_50db_11eb_b491_7c2a31b3e885row18_col5\" class=\"data row18 col5\" >1681.71</td> \n",
       "        <td id=\"T_3cf88882_50db_11eb_b491_7c2a31b3e885row18_col6\" class=\"data row18 col6\" >1734.82</td> \n",
       "    </tr>    <tr> \n",
       "        <th id=\"T_3cf88882_50db_11eb_b491_7c2a31b3e885level0_row19\" class=\"row_heading level0 row19\" >19</th> \n",
       "        <td id=\"T_3cf88882_50db_11eb_b491_7c2a31b3e885row19_col0\" class=\"data row19 col0\" >1378.47</td> \n",
       "        <td id=\"T_3cf88882_50db_11eb_b491_7c2a31b3e885row19_col1\" class=\"data row19 col1\" >1294.48</td> \n",
       "        <td id=\"T_3cf88882_50db_11eb_b491_7c2a31b3e885row19_col2\" class=\"data row19 col2\" >1083.69</td> \n",
       "        <td id=\"T_3cf88882_50db_11eb_b491_7c2a31b3e885row19_col3\" class=\"data row19 col3\" >1040.22</td> \n",
       "        <td id=\"T_3cf88882_50db_11eb_b491_7c2a31b3e885row19_col4\" class=\"data row19 col4\" >1264.5</td> \n",
       "        <td id=\"T_3cf88882_50db_11eb_b491_7c2a31b3e885row19_col5\" class=\"data row19 col5\" >1262.67</td> \n",
       "        <td id=\"T_3cf88882_50db_11eb_b491_7c2a31b3e885row19_col6\" class=\"data row19 col6\" >1329.24</td> \n",
       "    </tr>    <tr> \n",
       "        <th id=\"T_3cf88882_50db_11eb_b491_7c2a31b3e885level0_row20\" class=\"row_heading level0 row20\" >20</th> \n",
       "        <td id=\"T_3cf88882_50db_11eb_b491_7c2a31b3e885row20_col0\" class=\"data row20 col0\" >1154.76</td> \n",
       "        <td id=\"T_3cf88882_50db_11eb_b491_7c2a31b3e885row20_col1\" class=\"data row20 col1\" >1181.25</td> \n",
       "        <td id=\"T_3cf88882_50db_11eb_b491_7c2a31b3e885row20_col2\" class=\"data row20 col2\" >1025.71</td> \n",
       "        <td id=\"T_3cf88882_50db_11eb_b491_7c2a31b3e885row20_col3\" class=\"data row20 col3\" >1009.25</td> \n",
       "        <td id=\"T_3cf88882_50db_11eb_b491_7c2a31b3e885row20_col4\" class=\"data row20 col4\" >1087.18</td> \n",
       "        <td id=\"T_3cf88882_50db_11eb_b491_7c2a31b3e885row20_col5\" class=\"data row20 col5\" >1097.58</td> \n",
       "        <td id=\"T_3cf88882_50db_11eb_b491_7c2a31b3e885row20_col6\" class=\"data row20 col6\" >1180.56</td> \n",
       "    </tr>    <tr> \n",
       "        <th id=\"T_3cf88882_50db_11eb_b491_7c2a31b3e885level0_row21\" class=\"row_heading level0 row21\" >21</th> \n",
       "        <td id=\"T_3cf88882_50db_11eb_b491_7c2a31b3e885row21_col0\" class=\"data row21 col0\" >1090.24</td> \n",
       "        <td id=\"T_3cf88882_50db_11eb_b491_7c2a31b3e885row21_col1\" class=\"data row21 col1\" >1134.25</td> \n",
       "        <td id=\"T_3cf88882_50db_11eb_b491_7c2a31b3e885row21_col2\" class=\"data row21 col2\" >1013.1</td> \n",
       "        <td id=\"T_3cf88882_50db_11eb_b491_7c2a31b3e885row21_col3\" class=\"data row21 col3\" >938.706</td> \n",
       "        <td id=\"T_3cf88882_50db_11eb_b491_7c2a31b3e885row21_col4\" class=\"data row21 col4\" >1070.28</td> \n",
       "        <td id=\"T_3cf88882_50db_11eb_b491_7c2a31b3e885row21_col5\" class=\"data row21 col5\" >1092.98</td> \n",
       "        <td id=\"T_3cf88882_50db_11eb_b491_7c2a31b3e885row21_col6\" class=\"data row21 col6\" >1127.54</td> \n",
       "    </tr>    <tr> \n",
       "        <th id=\"T_3cf88882_50db_11eb_b491_7c2a31b3e885level0_row22\" class=\"row_heading level0 row22\" >22</th> \n",
       "        <td id=\"T_3cf88882_50db_11eb_b491_7c2a31b3e885row22_col0\" class=\"data row22 col0\" >1025.98</td> \n",
       "        <td id=\"T_3cf88882_50db_11eb_b491_7c2a31b3e885row22_col1\" class=\"data row22 col1\" >980.904</td> \n",
       "        <td id=\"T_3cf88882_50db_11eb_b491_7c2a31b3e885row22_col2\" class=\"data row22 col2\" >926.176</td> \n",
       "        <td id=\"T_3cf88882_50db_11eb_b491_7c2a31b3e885row22_col3\" class=\"data row22 col3\" >791.176</td> \n",
       "        <td id=\"T_3cf88882_50db_11eb_b491_7c2a31b3e885row22_col4\" class=\"data row22 col4\" >978.2</td> \n",
       "        <td id=\"T_3cf88882_50db_11eb_b491_7c2a31b3e885row22_col5\" class=\"data row22 col5\" >975.25</td> \n",
       "        <td id=\"T_3cf88882_50db_11eb_b491_7c2a31b3e885row22_col6\" class=\"data row22 col6\" >1003.64</td> \n",
       "    </tr>    <tr> \n",
       "        <th id=\"T_3cf88882_50db_11eb_b491_7c2a31b3e885level0_row23\" class=\"row_heading level0 row23\" >23</th> \n",
       "        <td id=\"T_3cf88882_50db_11eb_b491_7c2a31b3e885row23_col0\" class=\"data row23 col0\" >788.686</td> \n",
       "        <td id=\"T_3cf88882_50db_11eb_b491_7c2a31b3e885row23_col1\" class=\"data row23 col1\" >694.981</td> \n",
       "        <td id=\"T_3cf88882_50db_11eb_b491_7c2a31b3e885row23_col2\" class=\"data row23 col2\" >749.784</td> \n",
       "        <td id=\"T_3cf88882_50db_11eb_b491_7c2a31b3e885row23_col3\" class=\"data row23 col3\" >579.784</td> \n",
       "        <td id=\"T_3cf88882_50db_11eb_b491_7c2a31b3e885row23_col4\" class=\"data row23 col4\" >689.58</td> \n",
       "        <td id=\"T_3cf88882_50db_11eb_b491_7c2a31b3e885row23_col5\" class=\"data row23 col5\" >649.896</td> \n",
       "        <td id=\"T_3cf88882_50db_11eb_b491_7c2a31b3e885row23_col6\" class=\"data row23 col6\" >702.34</td> \n",
       "    </tr></tbody> \n",
       "</table> "
      ],
      "text/plain": [
       "<pandas.io.formats.style.Styler at 0x26fd3538da0>"
      ]
     },
     "execution_count": 32,
     "metadata": {},
     "output_type": "execute_result"
    }
   ],
   "source": [
    "pd.crosstab(df['Hour'],\n",
    "            df['week_day'], \n",
    "            values=df['Rented Bike Count'], \n",
    "            aggfunc='mean').style.background_gradient(cmap='PuBu')"
   ]
  },
  {
   "cell_type": "markdown",
   "metadata": {},
   "source": [
    "Sur ce tableau croisé, on peut voir comment évolue la location de vélos en fonction du jour de la semaine et en fonction de l'heure. Cette représentation est très intéressante car elle permet de voir les habitudes des habitants de Séoul. En effet, on peut voir que en semaine les chiffres sont assez similaires et qu'il y a des pics à 7-8h et 17-18-19h ce qui correspond plutôt bien aux horaires de travail. Le Samedi et le Dimanche sont les jours où il y a le plus de locations mais à des heures différentes de la semaine. Le week-end, les locations interviennent plutôt en début d'après-mid-, vers 11h. On n'aperçoit pas le pic de 8-9h le week-end, signe que certains Séoulites ne travaillent pas le week-end.  \n"
   ]
  },
  {
   "cell_type": "markdown",
   "metadata": {},
   "source": [
    "Regardons deux petits diagrammes pour confirmer nos observations:"
   ]
  },
  {
   "cell_type": "code",
   "execution_count": 33,
   "metadata": {},
   "outputs": [
    {
     "data": {
      "image/png": "[encoded data removed]",
      "text/plain": [
       "<Figure size 360x360 with 1 Axes>"
      ]
     },
     "metadata": {
      "needs_background": "light"
     },
     "output_type": "display_data"
    }
   ],
   "source": [
    "mo=df.groupby('week_day')['Rented Bike Count'].mean().sort_values( ascending = False)\n",
    "mo.plot(x='Week Day', y='Rented Bike Count',kind='bar', color='green', label='Vélos loués',figsize=(5,5),alpha=0.5)\n",
    "plt.savefig('image.png')"
   ]
  },
  {
   "cell_type": "code",
   "execution_count": 34,
   "metadata": {},
   "outputs": [
    {
     "data": {
      "text/plain": [
       "<matplotlib.axes._subplots.AxesSubplot at 0x26fd3696be0>"
      ]
     },
     "execution_count": 34,
     "metadata": {},
     "output_type": "execute_result"
    },
    {
     "data": {
      "image/png": "[encoded data removed]",
      "text/plain": [
       "<Figure size 432x432 with 1 Axes>"
      ]
     },
     "metadata": {
      "needs_background": "light"
     },
     "output_type": "display_data"
    }
   ],
   "source": [
    "ho=df.groupby('Hour')['Rented Bike Count'].mean()#.sort_values( ascending = False)\n",
    "ho.plot(x='Hour', y='Rented Bike Count',kind='bar', color='green', label='Vélos loués',figsize=(6,6),alpha=0.5)"
   ]
  },
  {
   "cell_type": "markdown",
   "metadata": {},
   "source": [
    "Concernant les heures, nos observations se confirment, par contre concernant les jours de la semaine, le résultat est plutôt homogène. En effet, on voit une stabilité autour de 700 locations en moyenne mis à part le Dimanche qui est en dessous de 700."
   ]
  },
  {
   "cell_type": "markdown",
   "metadata": {},
   "source": [
    "#### Month, WeekDay Encoder"
   ]
  },
  {
   "cell_type": "markdown",
   "metadata": {},
   "source": [
    "Pour finir sur la partie Date, faisons quelques modifications sur les features :\n",
    "\n",
    "-Suppression de la colonne 'Date' car on a à présent 'day','month','year','week_day'\n",
    "\n",
    "-On encode de deux façon le month et le weekday : Label Encoder et One Hot Encoder \n",
    "\n",
    "On pourra comparer ces deux encodages sur le résultat de nos modèles."
   ]
  },
  {
   "cell_type": "code",
   "execution_count": 35,
   "metadata": {},
   "outputs": [],
   "source": [
    "#Dataset avec Month et WeekDay Label Encoder\n",
    "dict_wday = {0: 'Monday',1: 'Tuesday',2: 'Wednesday',3: 'Thursday',4: 'Friday',5: 'Saturday',6: 'Sunday'}\n",
    "dict_month = {1: 'January',2: 'February',3: 'March',4: 'April',5: 'May',6: 'June',7: 'July',8: 'August',9: 'September',10: 'October',11: 'November',12: 'December'}\n",
    "df['month'] = df['Date'].dt.month\n",
    "df['week_day'] = df['Date'].dt.dayofweek\n",
    "\n",
    "#Suppression du Feature Date\n",
    "df = df.drop('Date', axis=1)\n",
    "\n",
    "#Dataset avec Month et WeekDay One Hot Encoder\n",
    "month=pd.get_dummies(df['month'].apply(lambda x:dict_month[x]))\n",
    "dfmonthwdaydummies=pd.concat([df, month], axis = 1) \n",
    "dfmonthwdaydummies = dfmonthwdaydummies.drop('month', axis=1)\n",
    "wday=pd.get_dummies(df['week_day'].apply(lambda x:dict_wday[x]))\n",
    "dfmonthwdaydummies=pd.concat([dfmonthwdaydummies, wday], axis = 1) \n",
    "dfmonthwdaydummies = dfmonthwdaydummies.drop('week_day', axis=1)\n"
   ]
  },
  {
   "cell_type": "markdown",
   "metadata": {},
   "source": [
    "### Holidays\n",
    "\n",
    "Regardons maintenant si les Séoulites louent plus de vélos pendant les vacances ou bien l'inverse."
   ]
  },
  {
   "cell_type": "code",
   "execution_count": 36,
   "metadata": {},
   "outputs": [
    {
     "data": {
      "text/plain": [
       "<matplotlib.axes._subplots.AxesSubplot at 0x26fd4220470>"
      ]
     },
     "execution_count": 36,
     "metadata": {},
     "output_type": "execute_result"
    },
    {
     "data": {
      "image/png": "[encoded data removed]",
      "text/plain": [
       "<Figure size 360x360 with 1 Axes>"
      ]
     },
     "metadata": {
      "needs_background": "light"
     },
     "output_type": "display_data"
    }
   ],
   "source": [
    "ho=df.groupby('Holiday')['Rented Bike Count'].mean().sort_values( ascending = False)\n",
    "ho.plot(x='Holiday', y='Rented Bike Count',kind='bar', color='orange', label='Vélos loués',figsize=(5,5),alpha=0.5)"
   ]
  },
  {
   "cell_type": "markdown",
   "metadata": {},
   "source": [
    "Ce la confirme nos observations précédentes, à savoir que les habitants de Séoul louent beaucoup de vélos en dehors des vacances surêment pour aller travailler ou aller à l'école."
   ]
  },
  {
   "cell_type": "markdown",
   "metadata": {},
   "source": [
    "#### Holidays Encoder\n",
    "\n",
    "Pour le feature 'Holiday', on encode de façon binaire :"
   ]
  },
  {
   "cell_type": "code",
   "execution_count": 37,
   "metadata": {},
   "outputs": [],
   "source": [
    "df['Holiday'] = (df['Holiday'] == \"Holiday\").astype(int)\n",
    "dfmonthwdaydummies['Holiday'] = (dfmonthwdaydummies['Holiday'] == \"Holiday\").astype(int)"
   ]
  },
  {
   "cell_type": "markdown",
   "metadata": {},
   "source": [
    "### Seasons"
   ]
  },
  {
   "cell_type": "markdown",
   "metadata": {},
   "source": [
    "Observons maintenant l'impact des saisons sur les locations de vélos, même si l'on a pu avoir un petit aperçu à l'aide des mois. Cette colonne pourrait d'ailleurs être considéré comme redondante en information car nous possedons déjà la date."
   ]
  },
  {
   "cell_type": "code",
   "execution_count": 38,
   "metadata": {},
   "outputs": [
    {
     "data": {
      "text/plain": [
       "<matplotlib.axes._subplots.AxesSubplot at 0x26fd426c7f0>"
      ]
     },
     "execution_count": 38,
     "metadata": {},
     "output_type": "execute_result"
    },
    {
     "data": {
      "image/png": "[encoded data removed]",
      "text/plain": [
       "<Figure size 504x504 with 1 Axes>"
      ]
     },
     "metadata": {},
     "output_type": "display_data"
    }
   ],
   "source": [
    "so=df.groupby('Seasons')['Rented Bike Count'].mean().sort_values( ascending = False)\n",
    "so.plot(kind='pie', startangle = 0 ,shadow = False\n",
    "                          ,legend = False,autopct = '%1.1f%%', fontsize = 14\n",
    "                          ,radius = 0.9,table = False,figsize=(7,7))"
   ]
  },
  {
   "cell_type": "markdown",
   "metadata": {},
   "source": [
    "En effet, cela correspond aux graphiques que l'on a pu voir sur les mois. On voit un net écart entre l'hiver et les autres saisons. Il y a très peu de locations de vélos en hiver alors qu'en été et en printemps, il y en a quasiment 5 fois plus. Cela est sûrement aux conditions météos. Regardons cela plus en détails."
   ]
  },
  {
   "cell_type": "markdown",
   "metadata": {},
   "source": [
    "#### Seasons One Hot Encoder\n",
    "\n",
    "Pour notre modèle, on décide de one hot encoder le feature Seasons, il n'y a pas de relation numérique entre les saisons."
   ]
  },
  {
   "cell_type": "code",
   "execution_count": 39,
   "metadata": {},
   "outputs": [
    {
     "data": {
      "text/plain": [
       "['season.pkl']"
      ]
     },
     "execution_count": 39,
     "metadata": {},
     "output_type": "execute_result"
    }
   ],
   "source": [
    "season_encoder = OneHotEncoder()\n",
    "season_encoder.fit(df[['Seasons']])\n",
    "season_file_name='season.pkl'\n",
    "joblib.dump(season_encoder,season_file_name)  #pour déploiement du modèle"
   ]
  },
  {
   "cell_type": "code",
   "execution_count": 40,
   "metadata": {},
   "outputs": [],
   "source": [
    "seasons=pd.get_dummies(df['Seasons'])\n",
    "df=pd.concat([df, seasons], axis = 1) \n",
    "df = df.drop('Seasons', axis=1)\n",
    "dfmonthwdaydummies=pd.concat([dfmonthwdaydummies, seasons], axis = 1) \n",
    "dfmonthwdaydummies = dfmonthwdaydummies.drop('Seasons', axis=1)"
   ]
  },
  {
   "cell_type": "markdown",
   "metadata": {},
   "source": [
    "### Temperature"
   ]
  },
  {
   "cell_type": "code",
   "execution_count": 41,
   "metadata": {},
   "outputs": [
    {
     "data": {
      "text/plain": [
       "<matplotlib.axes._subplots.AxesSubplot at 0x26fd52d3ba8>"
      ]
     },
     "execution_count": 41,
     "metadata": {},
     "output_type": "execute_result"
    },
    {
     "data": {
      "image/png": "[encoded data removed]",
      "text/plain": [
       "<Figure size 504x504 with 1 Axes>"
      ]
     },
     "metadata": {
      "needs_background": "light"
     },
     "output_type": "display_data"
    }
   ],
   "source": [
    "temp=df.groupby('Temperature(°C)')['Rented Bike Count'].mean()\n",
    "temp.plot(x='Temperature(°C)', y='Rented Bike Count',kind='line', color='orange', label='Vélos loués',figsize=(7,7),alpha=0.5)"
   ]
  },
  {
   "cell_type": "markdown",
   "metadata": {},
   "source": [
    "Sur ce graphique, on voit bien que les vélos sont souvent loués quand il fait température plutôt agréable entre 20 et 30 °C. Les locations de vélos baissent fortement qaund il fait froid ou que les températures commencent à être très élevé."
   ]
  },
  {
   "cell_type": "markdown",
   "metadata": {},
   "source": [
    "### Rainfall & Snowfall\n",
    "\n",
    "La pluie et la neige peuvent être déterminant dans la location de vélo ou non. En effet, rouler en vélo quand il pleut ou il neige peut être compliqué et entrainé une baisse des locations de vélo. Pour représenter, ces informations nous enlevons les données où la pluie et la neige tombé sont égale à 0 mm ou cm."
   ]
  },
  {
   "cell_type": "code",
   "execution_count": 42,
   "metadata": {},
   "outputs": [],
   "source": [
    "rain=df.groupby('Rainfall(mm)')['Rented Bike Count'].sum().reset_index()\n",
    "rain_true=rain[rain['Rainfall(mm)']>0]\n",
    "snow=df.groupby('Snowfall (cm)')['Rented Bike Count'].sum().reset_index()\n",
    "snow_true=snow[snow['Snowfall (cm)']>0]"
   ]
  },
  {
   "cell_type": "code",
   "execution_count": 43,
   "metadata": {},
   "outputs": [
    {
     "data": {
      "text/plain": [
       "<matplotlib.axes._subplots.AxesSubplot at 0x26fd5361668>"
      ]
     },
     "execution_count": 43,
     "metadata": {},
     "output_type": "execute_result"
    },
    {
     "data": {
      "image/png": "[encoded data removed]",
      "text/plain": [
       "<Figure size 720x432 with 2 Axes>"
      ]
     },
     "metadata": {
      "needs_background": "light"
     },
     "output_type": "display_data"
    }
   ],
   "source": [
    "fig = plt.figure(figsize=(10, 6))\n",
    "ax = fig.add_subplot(121) \n",
    "ax2 = fig.add_subplot(122) \n",
    "rain_true.plot(x='Rainfall(mm)', y='Rented Bike Count',kind='line', color='red',ax=ax)\n",
    "snow_true.plot(x='Snowfall (cm)', y='Rented Bike Count',kind='line', color='blue', ax=ax2)"
   ]
  },
  {
   "cell_type": "markdown",
   "metadata": {},
   "source": [
    "Sur ces graphiques, on voit bien que les locations décroit de façon exponentielle si il commence à neiger ou à pleuvoir quelques millimètres. Nos suggestions semblent donc se confirmer."
   ]
  },
  {
   "cell_type": "markdown",
   "metadata": {},
   "source": [
    "### Humidity, Wind speed,Visibility & Solar Radiation\n",
    "\n",
    "Voyons 4 derniers features concernant la météo qui peuvent influencer les locations de vélos à savoir l'humidité, la vitesse du vent, la visibilité et les radiations solaires."
   ]
  },
  {
   "cell_type": "code",
   "execution_count": 44,
   "metadata": {},
   "outputs": [
    {
     "data": {
      "text/plain": [
       "<matplotlib.axes._subplots.AxesSubplot at 0x26fd53c8780>"
      ]
     },
     "execution_count": 44,
     "metadata": {},
     "output_type": "execute_result"
    },
    {
     "data": {
      "image/png": "[encoded data removed]",
      "text/plain": [
       "<Figure size 432x288 with 1 Axes>"
      ]
     },
     "metadata": {
      "needs_background": "light"
     },
     "output_type": "display_data"
    }
   ],
   "source": [
    "humidity=df.groupby('Humidity(%)')['Rented Bike Count'].sum().reset_index()\n",
    "humidity.plot(x='Humidity(%)', y='Rented Bike Count',kind='line', color='red')"
   ]
  },
  {
   "cell_type": "code",
   "execution_count": 45,
   "metadata": {},
   "outputs": [
    {
     "data": {
      "text/plain": [
       "<matplotlib.axes._subplots.AxesSubplot at 0x26fd54020f0>"
      ]
     },
     "execution_count": 45,
     "metadata": {},
     "output_type": "execute_result"
    },
    {
     "data": {
      "image/png": "[encoded data removed]",
      "text/plain": [
       "<Figure size 432x288 with 1 Axes>"
      ]
     },
     "metadata": {
      "needs_background": "light"
     },
     "output_type": "display_data"
    }
   ],
   "source": [
    "wind=df.groupby('Wind speed (m/s)')['Rented Bike Count'].sum().reset_index()\n",
    "wind.plot(x='Wind speed (m/s)', y='Rented Bike Count',kind='line', color='green')"
   ]
  },
  {
   "cell_type": "code",
   "execution_count": 46,
   "metadata": {},
   "outputs": [
    {
     "data": {
      "text/plain": [
       "<matplotlib.axes._subplots.AxesSubplot at 0x26fd548fb00>"
      ]
     },
     "execution_count": 46,
     "metadata": {},
     "output_type": "execute_result"
    },
    {
     "data": {
      "image/png": "[encoded data removed]",
      "text/plain": [
       "<Figure size 432x288 with 1 Axes>"
      ]
     },
     "metadata": {
      "needs_background": "light"
     },
     "output_type": "display_data"
    }
   ],
   "source": [
    "solarrad=df.groupby('Solar Radiation (MJ/m2)')['Rented Bike Count'].sum().reset_index()\n",
    "solarrad_true=solarrad[solarrad['Solar Radiation (MJ/m2)']>0]\n",
    "solarrad_true.plot(x='Solar Radiation (MJ/m2)', y='Rented Bike Count',kind='line', color='yellow')"
   ]
  },
  {
   "cell_type": "code",
   "execution_count": 47,
   "metadata": {},
   "outputs": [
    {
     "data": {
      "text/plain": [
       "<matplotlib.axes._subplots.AxesSubplot at 0x26fd54ac5c0>"
      ]
     },
     "execution_count": 47,
     "metadata": {},
     "output_type": "execute_result"
    },
    {
     "data": {
      "image/png": "[encoded data removed]",
      "text/plain": [
       "<Figure size 432x288 with 1 Axes>"
      ]
     },
     "metadata": {
      "needs_background": "light"
     },
     "output_type": "display_data"
    }
   ],
   "source": [
    "visibility=df.groupby('Visibility (10m)')['Rented Bike Count'].sum().reset_index()\n",
    "visibility_true=visibility[visibility['Visibility (10m)']<2000]\n",
    "visibility_true.plot(x='Visibility (10m)', y='Rented Bike Count',kind='line', color='blue')"
   ]
  },
  {
   "cell_type": "markdown",
   "metadata": {},
   "source": [
    "Cela nous montre des relations très explicites entre le nombre de location et ces features. On voit qu'une humidité moyenne entre 20 et 60% entraîne une augmentation du nombre de vélos alors que les valeurs extrêmes montrent une baisse signifiative (humidité très basse : forte chaleur et humidité très haute : pluie forte possible). Cela est un peu similaire avec le vent, les valeurs extrêmes montrent une baisse des locations de vélos. Concernant les radiations solaires, plus elles sont élevés, plus les locatiosn de vélos baissent et inversement pour la visibilité: plus la visibilité augmente, plus les locations de vélos augmentent. "
   ]
  },
  {
   "cell_type": "markdown",
   "metadata": {},
   "source": [
    "Regardons l'état de nos deux dataset à ce niveau: "
   ]
  },
  {
   "cell_type": "code",
   "execution_count": 48,
   "metadata": {},
   "outputs": [
    {
     "data": {
      "text/plain": [
       "((8465, 19), (8465, 36))"
      ]
     },
     "execution_count": 48,
     "metadata": {},
     "output_type": "execute_result"
    }
   ],
   "source": [
    "df.shape,dfmonthwdaydummies.shape"
   ]
  },
  {
   "cell_type": "code",
   "execution_count": 49,
   "metadata": {},
   "outputs": [
    {
     "data": {
      "text/html": [
       "<div>\n",
       "<style scoped>\n",
       "    .dataframe tbody tr th:only-of-type {\n",
       "        vertical-align: middle;\n",
       "    }\n",
       "\n",
       "    .dataframe tbody tr th {\n",
       "        vertical-align: top;\n",
       "    }\n",
       "\n",
       "    .dataframe thead th {\n",
       "        text-align: right;\n",
       "    }\n",
       "</style>\n",
       "<table border=\"1\" class=\"dataframe\">\n",
       "  <thead>\n",
       "    <tr style=\"text-align: right;\">\n",
       "      <th></th>\n",
       "      <th>Rented Bike Count</th>\n",
       "      <th>Hour</th>\n",
       "      <th>Temperature(°C)</th>\n",
       "      <th>Humidity(%)</th>\n",
       "      <th>Wind speed (m/s)</th>\n",
       "      <th>Visibility (10m)</th>\n",
       "      <th>Dew point temperature(°C)</th>\n",
       "      <th>Solar Radiation (MJ/m2)</th>\n",
       "      <th>Rainfall(mm)</th>\n",
       "      <th>Snowfall (cm)</th>\n",
       "      <th>Holiday</th>\n",
       "      <th>year</th>\n",
       "      <th>month</th>\n",
       "      <th>day</th>\n",
       "      <th>week_day</th>\n",
       "      <th>Autumn</th>\n",
       "      <th>Spring</th>\n",
       "      <th>Summer</th>\n",
       "      <th>Winter</th>\n",
       "    </tr>\n",
       "  </thead>\n",
       "  <tbody>\n",
       "    <tr>\n",
       "      <th>0</th>\n",
       "      <td>254</td>\n",
       "      <td>0</td>\n",
       "      <td>-5.2</td>\n",
       "      <td>37</td>\n",
       "      <td>2.2</td>\n",
       "      <td>2000</td>\n",
       "      <td>-17.6</td>\n",
       "      <td>0.0</td>\n",
       "      <td>0.0</td>\n",
       "      <td>0.0</td>\n",
       "      <td>0</td>\n",
       "      <td>2017</td>\n",
       "      <td>12</td>\n",
       "      <td>1</td>\n",
       "      <td>4</td>\n",
       "      <td>0</td>\n",
       "      <td>0</td>\n",
       "      <td>0</td>\n",
       "      <td>1</td>\n",
       "    </tr>\n",
       "    <tr>\n",
       "      <th>1</th>\n",
       "      <td>204</td>\n",
       "      <td>1</td>\n",
       "      <td>-5.5</td>\n",
       "      <td>38</td>\n",
       "      <td>0.8</td>\n",
       "      <td>2000</td>\n",
       "      <td>-17.6</td>\n",
       "      <td>0.0</td>\n",
       "      <td>0.0</td>\n",
       "      <td>0.0</td>\n",
       "      <td>0</td>\n",
       "      <td>2017</td>\n",
       "      <td>12</td>\n",
       "      <td>1</td>\n",
       "      <td>4</td>\n",
       "      <td>0</td>\n",
       "      <td>0</td>\n",
       "      <td>0</td>\n",
       "      <td>1</td>\n",
       "    </tr>\n",
       "    <tr>\n",
       "      <th>2</th>\n",
       "      <td>173</td>\n",
       "      <td>2</td>\n",
       "      <td>-6.0</td>\n",
       "      <td>39</td>\n",
       "      <td>1.0</td>\n",
       "      <td>2000</td>\n",
       "      <td>-17.7</td>\n",
       "      <td>0.0</td>\n",
       "      <td>0.0</td>\n",
       "      <td>0.0</td>\n",
       "      <td>0</td>\n",
       "      <td>2017</td>\n",
       "      <td>12</td>\n",
       "      <td>1</td>\n",
       "      <td>4</td>\n",
       "      <td>0</td>\n",
       "      <td>0</td>\n",
       "      <td>0</td>\n",
       "      <td>1</td>\n",
       "    </tr>\n",
       "    <tr>\n",
       "      <th>3</th>\n",
       "      <td>107</td>\n",
       "      <td>3</td>\n",
       "      <td>-6.2</td>\n",
       "      <td>40</td>\n",
       "      <td>0.9</td>\n",
       "      <td>2000</td>\n",
       "      <td>-17.6</td>\n",
       "      <td>0.0</td>\n",
       "      <td>0.0</td>\n",
       "      <td>0.0</td>\n",
       "      <td>0</td>\n",
       "      <td>2017</td>\n",
       "      <td>12</td>\n",
       "      <td>1</td>\n",
       "      <td>4</td>\n",
       "      <td>0</td>\n",
       "      <td>0</td>\n",
       "      <td>0</td>\n",
       "      <td>1</td>\n",
       "    </tr>\n",
       "    <tr>\n",
       "      <th>4</th>\n",
       "      <td>78</td>\n",
       "      <td>4</td>\n",
       "      <td>-6.0</td>\n",
       "      <td>36</td>\n",
       "      <td>2.3</td>\n",
       "      <td>2000</td>\n",
       "      <td>-18.6</td>\n",
       "      <td>0.0</td>\n",
       "      <td>0.0</td>\n",
       "      <td>0.0</td>\n",
       "      <td>0</td>\n",
       "      <td>2017</td>\n",
       "      <td>12</td>\n",
       "      <td>1</td>\n",
       "      <td>4</td>\n",
       "      <td>0</td>\n",
       "      <td>0</td>\n",
       "      <td>0</td>\n",
       "      <td>1</td>\n",
       "    </tr>\n",
       "  </tbody>\n",
       "</table>\n",
       "</div>"
      ],
      "text/plain": [
       "   Rented Bike Count  Hour  Temperature(°C)  Humidity(%)  Wind speed (m/s)  \\\n",
       "0                254     0             -5.2           37               2.2   \n",
       "1                204     1             -5.5           38               0.8   \n",
       "2                173     2             -6.0           39               1.0   \n",
       "3                107     3             -6.2           40               0.9   \n",
       "4                 78     4             -6.0           36               2.3   \n",
       "\n",
       "   Visibility (10m)  Dew point temperature(°C)  Solar Radiation (MJ/m2)  \\\n",
       "0              2000                      -17.6                      0.0   \n",
       "1              2000                      -17.6                      0.0   \n",
       "2              2000                      -17.7                      0.0   \n",
       "3              2000                      -17.6                      0.0   \n",
       "4              2000                      -18.6                      0.0   \n",
       "\n",
       "   Rainfall(mm)  Snowfall (cm)  Holiday  year  month  day  week_day  Autumn  \\\n",
       "0           0.0            0.0        0  2017     12    1         4       0   \n",
       "1           0.0            0.0        0  2017     12    1         4       0   \n",
       "2           0.0            0.0        0  2017     12    1         4       0   \n",
       "3           0.0            0.0        0  2017     12    1         4       0   \n",
       "4           0.0            0.0        0  2017     12    1         4       0   \n",
       "\n",
       "   Spring  Summer  Winter  \n",
       "0       0       0       1  \n",
       "1       0       0       1  \n",
       "2       0       0       1  \n",
       "3       0       0       1  \n",
       "4       0       0       1  "
      ]
     },
     "execution_count": 49,
     "metadata": {},
     "output_type": "execute_result"
    }
   ],
   "source": [
    "df.head()"
   ]
  },
  {
   "cell_type": "code",
   "execution_count": 50,
   "metadata": {},
   "outputs": [
    {
     "data": {
      "text/html": [
       "<div>\n",
       "<style scoped>\n",
       "    .dataframe tbody tr th:only-of-type {\n",
       "        vertical-align: middle;\n",
       "    }\n",
       "\n",
       "    .dataframe tbody tr th {\n",
       "        vertical-align: top;\n",
       "    }\n",
       "\n",
       "    .dataframe thead th {\n",
       "        text-align: right;\n",
       "    }\n",
       "</style>\n",
       "<table border=\"1\" class=\"dataframe\">\n",
       "  <thead>\n",
       "    <tr style=\"text-align: right;\">\n",
       "      <th></th>\n",
       "      <th>Rented Bike Count</th>\n",
       "      <th>Hour</th>\n",
       "      <th>Temperature(°C)</th>\n",
       "      <th>Humidity(%)</th>\n",
       "      <th>Wind speed (m/s)</th>\n",
       "      <th>Visibility (10m)</th>\n",
       "      <th>Dew point temperature(°C)</th>\n",
       "      <th>Solar Radiation (MJ/m2)</th>\n",
       "      <th>Rainfall(mm)</th>\n",
       "      <th>Snowfall (cm)</th>\n",
       "      <th>...</th>\n",
       "      <th>Monday</th>\n",
       "      <th>Saturday</th>\n",
       "      <th>Sunday</th>\n",
       "      <th>Thursday</th>\n",
       "      <th>Tuesday</th>\n",
       "      <th>Wednesday</th>\n",
       "      <th>Autumn</th>\n",
       "      <th>Spring</th>\n",
       "      <th>Summer</th>\n",
       "      <th>Winter</th>\n",
       "    </tr>\n",
       "  </thead>\n",
       "  <tbody>\n",
       "    <tr>\n",
       "      <th>0</th>\n",
       "      <td>254</td>\n",
       "      <td>0</td>\n",
       "      <td>-5.2</td>\n",
       "      <td>37</td>\n",
       "      <td>2.2</td>\n",
       "      <td>2000</td>\n",
       "      <td>-17.6</td>\n",
       "      <td>0.0</td>\n",
       "      <td>0.0</td>\n",
       "      <td>0.0</td>\n",
       "      <td>...</td>\n",
       "      <td>0</td>\n",
       "      <td>0</td>\n",
       "      <td>0</td>\n",
       "      <td>0</td>\n",
       "      <td>0</td>\n",
       "      <td>0</td>\n",
       "      <td>0</td>\n",
       "      <td>0</td>\n",
       "      <td>0</td>\n",
       "      <td>1</td>\n",
       "    </tr>\n",
       "    <tr>\n",
       "      <th>1</th>\n",
       "      <td>204</td>\n",
       "      <td>1</td>\n",
       "      <td>-5.5</td>\n",
       "      <td>38</td>\n",
       "      <td>0.8</td>\n",
       "      <td>2000</td>\n",
       "      <td>-17.6</td>\n",
       "      <td>0.0</td>\n",
       "      <td>0.0</td>\n",
       "      <td>0.0</td>\n",
       "      <td>...</td>\n",
       "      <td>0</td>\n",
       "      <td>0</td>\n",
       "      <td>0</td>\n",
       "      <td>0</td>\n",
       "      <td>0</td>\n",
       "      <td>0</td>\n",
       "      <td>0</td>\n",
       "      <td>0</td>\n",
       "      <td>0</td>\n",
       "      <td>1</td>\n",
       "    </tr>\n",
       "    <tr>\n",
       "      <th>2</th>\n",
       "      <td>173</td>\n",
       "      <td>2</td>\n",
       "      <td>-6.0</td>\n",
       "      <td>39</td>\n",
       "      <td>1.0</td>\n",
       "      <td>2000</td>\n",
       "      <td>-17.7</td>\n",
       "      <td>0.0</td>\n",
       "      <td>0.0</td>\n",
       "      <td>0.0</td>\n",
       "      <td>...</td>\n",
       "      <td>0</td>\n",
       "      <td>0</td>\n",
       "      <td>0</td>\n",
       "      <td>0</td>\n",
       "      <td>0</td>\n",
       "      <td>0</td>\n",
       "      <td>0</td>\n",
       "      <td>0</td>\n",
       "      <td>0</td>\n",
       "      <td>1</td>\n",
       "    </tr>\n",
       "    <tr>\n",
       "      <th>3</th>\n",
       "      <td>107</td>\n",
       "      <td>3</td>\n",
       "      <td>-6.2</td>\n",
       "      <td>40</td>\n",
       "      <td>0.9</td>\n",
       "      <td>2000</td>\n",
       "      <td>-17.6</td>\n",
       "      <td>0.0</td>\n",
       "      <td>0.0</td>\n",
       "      <td>0.0</td>\n",
       "      <td>...</td>\n",
       "      <td>0</td>\n",
       "      <td>0</td>\n",
       "      <td>0</td>\n",
       "      <td>0</td>\n",
       "      <td>0</td>\n",
       "      <td>0</td>\n",
       "      <td>0</td>\n",
       "      <td>0</td>\n",
       "      <td>0</td>\n",
       "      <td>1</td>\n",
       "    </tr>\n",
       "    <tr>\n",
       "      <th>4</th>\n",
       "      <td>78</td>\n",
       "      <td>4</td>\n",
       "      <td>-6.0</td>\n",
       "      <td>36</td>\n",
       "      <td>2.3</td>\n",
       "      <td>2000</td>\n",
       "      <td>-18.6</td>\n",
       "      <td>0.0</td>\n",
       "      <td>0.0</td>\n",
       "      <td>0.0</td>\n",
       "      <td>...</td>\n",
       "      <td>0</td>\n",
       "      <td>0</td>\n",
       "      <td>0</td>\n",
       "      <td>0</td>\n",
       "      <td>0</td>\n",
       "      <td>0</td>\n",
       "      <td>0</td>\n",
       "      <td>0</td>\n",
       "      <td>0</td>\n",
       "      <td>1</td>\n",
       "    </tr>\n",
       "  </tbody>\n",
       "</table>\n",
       "<p>5 rows × 36 columns</p>\n",
       "</div>"
      ],
      "text/plain": [
       "   Rented Bike Count  Hour  Temperature(°C)  Humidity(%)  Wind speed (m/s)  \\\n",
       "0                254     0             -5.2           37               2.2   \n",
       "1                204     1             -5.5           38               0.8   \n",
       "2                173     2             -6.0           39               1.0   \n",
       "3                107     3             -6.2           40               0.9   \n",
       "4                 78     4             -6.0           36               2.3   \n",
       "\n",
       "   Visibility (10m)  Dew point temperature(°C)  Solar Radiation (MJ/m2)  \\\n",
       "0              2000                      -17.6                      0.0   \n",
       "1              2000                      -17.6                      0.0   \n",
       "2              2000                      -17.7                      0.0   \n",
       "3              2000                      -17.6                      0.0   \n",
       "4              2000                      -18.6                      0.0   \n",
       "\n",
       "   Rainfall(mm)  Snowfall (cm)   ...    Monday  Saturday  Sunday  Thursday  \\\n",
       "0           0.0            0.0   ...         0         0       0         0   \n",
       "1           0.0            0.0   ...         0         0       0         0   \n",
       "2           0.0            0.0   ...         0         0       0         0   \n",
       "3           0.0            0.0   ...         0         0       0         0   \n",
       "4           0.0            0.0   ...         0         0       0         0   \n",
       "\n",
       "   Tuesday  Wednesday  Autumn  Spring  Summer  Winter  \n",
       "0        0          0       0       0       0       1  \n",
       "1        0          0       0       0       0       1  \n",
       "2        0          0       0       0       0       1  \n",
       "3        0          0       0       0       0       1  \n",
       "4        0          0       0       0       0       1  \n",
       "\n",
       "[5 rows x 36 columns]"
      ]
     },
     "execution_count": 50,
     "metadata": {},
     "output_type": "execute_result"
    }
   ],
   "source": [
    "dfmonthwdaydummies.head()"
   ]
  },
  {
   "cell_type": "code",
   "execution_count": 51,
   "metadata": {},
   "outputs": [
    {
     "data": {
      "text/plain": [
       "Rented Bike Count              int64\n",
       "Hour                           int64\n",
       "Temperature(°C)              float64\n",
       "Humidity(%)                    int64\n",
       "Wind speed (m/s)             float64\n",
       "Visibility (10m)               int64\n",
       "Dew point temperature(°C)    float64\n",
       "Solar Radiation (MJ/m2)      float64\n",
       "Rainfall(mm)                 float64\n",
       "Snowfall (cm)                float64\n",
       "Holiday                        int32\n",
       "year                           int64\n",
       "month                          int64\n",
       "day                            int64\n",
       "week_day                       int64\n",
       "Autumn                         uint8\n",
       "Spring                         uint8\n",
       "Summer                         uint8\n",
       "Winter                         uint8\n",
       "dtype: object"
      ]
     },
     "execution_count": 51,
     "metadata": {},
     "output_type": "execute_result"
    }
   ],
   "source": [
    "df.dtypes"
   ]
  },
  {
   "cell_type": "code",
   "execution_count": 52,
   "metadata": {},
   "outputs": [
    {
     "data": {
      "text/plain": [
       "Rented Bike Count              int64\n",
       "Hour                           int64\n",
       "Temperature(°C)              float64\n",
       "Humidity(%)                    int64\n",
       "Wind speed (m/s)             float64\n",
       "Visibility (10m)               int64\n",
       "Dew point temperature(°C)    float64\n",
       "Solar Radiation (MJ/m2)      float64\n",
       "Rainfall(mm)                 float64\n",
       "Snowfall (cm)                float64\n",
       "Holiday                        int32\n",
       "year                           int64\n",
       "day                            int64\n",
       "April                          uint8\n",
       "August                         uint8\n",
       "December                       uint8\n",
       "February                       uint8\n",
       "January                        uint8\n",
       "July                           uint8\n",
       "June                           uint8\n",
       "March                          uint8\n",
       "May                            uint8\n",
       "November                       uint8\n",
       "October                        uint8\n",
       "September                      uint8\n",
       "Friday                         uint8\n",
       "Monday                         uint8\n",
       "Saturday                       uint8\n",
       "Sunday                         uint8\n",
       "Thursday                       uint8\n",
       "Tuesday                        uint8\n",
       "Wednesday                      uint8\n",
       "Autumn                         uint8\n",
       "Spring                         uint8\n",
       "Summer                         uint8\n",
       "Winter                         uint8\n",
       "dtype: object"
      ]
     },
     "execution_count": 52,
     "metadata": {},
     "output_type": "execute_result"
    }
   ],
   "source": [
    "dfmonthwdaydummies.dtypes"
   ]
  },
  {
   "cell_type": "markdown",
   "metadata": {},
   "source": [
    "Nos dataframes sont bien encodés, il ne reste que des features numériques. Passons à la normalisation de certaines colonnes."
   ]
  },
  {
   "cell_type": "markdown",
   "metadata": {},
   "source": [
    "### Normalization of some features\n",
    "\n",
    "Certaines colonnes possèdent de fortes disparités, il est donc préférable de normaliser certaines colonnes comme ceci:\n",
    "\n",
    "xnorm= (x - min(x))/(max(x)-min(x))\n"
   ]
  },
  {
   "cell_type": "code",
   "execution_count": 53,
   "metadata": {},
   "outputs": [
    {
     "name": "stdout",
     "output_type": "stream",
     "text": [
      "Temperature(°C) : max = 39.4, min = -17.8, delta = 57.2\n",
      "Humidity(%) : max = 98, min = 0, delta = 98\n",
      "Wind speed (m/s) : max = 7.4, min = 0.0, delta = 7.4\n",
      "Visibility (10m) : max = 2000, min = 27, delta = 1973\n",
      "Dew point temperature(°C) : max = 27.2, min = -30.6, delta = 57.8\n",
      "Solar Radiation (MJ/m2) : max = 3.52, min = 0.0, delta = 3.52\n",
      "Rainfall(mm) : max = 35.0, min = 0.0, delta = 35.0\n",
      "Snowfall (cm) : max = 8.8, min = 0.0, delta = 8.8\n"
     ]
    }
   ],
   "source": [
    "col_to_normalize=['Temperature(°C)','Humidity(%)','Wind speed (m/s)','Visibility (10m)','Dew point temperature(°C)','Solar Radiation (MJ/m2)','Rainfall(mm)','Snowfall (cm)']\n",
    "for col in col_to_normalize:\n",
    "    maxi = df[col].max()\n",
    "    mini=df[col].min()\n",
    "    print(col+' : max = '+str(maxi)+\", min = \"+str(mini)+\", delta = \"+str(maxi-mini))"
   ]
  },
  {
   "cell_type": "code",
   "execution_count": 54,
   "metadata": {},
   "outputs": [],
   "source": [
    "new_namecolumnns=['Temperature','Humidity','Windspeed','Visibility','DewPointTemperature','SolarRadiation','Rainfall','Snowfall']\n",
    "for i,name in enumerate(col_to_normalize):\n",
    "    dfmonthwdaydummies.rename(columns={name: new_namecolumnns[i]}, inplace=True)\n",
    "    df.rename(columns={name: new_namecolumnns[i]}, inplace=True)"
   ]
  },
  {
   "cell_type": "code",
   "execution_count": 55,
   "metadata": {},
   "outputs": [
    {
     "data": {
      "text/html": [
       "<div>\n",
       "<style scoped>\n",
       "    .dataframe tbody tr th:only-of-type {\n",
       "        vertical-align: middle;\n",
       "    }\n",
       "\n",
       "    .dataframe tbody tr th {\n",
       "        vertical-align: top;\n",
       "    }\n",
       "\n",
       "    .dataframe thead th {\n",
       "        text-align: right;\n",
       "    }\n",
       "</style>\n",
       "<table border=\"1\" class=\"dataframe\">\n",
       "  <thead>\n",
       "    <tr style=\"text-align: right;\">\n",
       "      <th></th>\n",
       "      <th>Rented Bike Count</th>\n",
       "      <th>Hour</th>\n",
       "      <th>Temperature</th>\n",
       "      <th>Humidity</th>\n",
       "      <th>Windspeed</th>\n",
       "      <th>Visibility</th>\n",
       "      <th>DewPointTemperature</th>\n",
       "      <th>SolarRadiation</th>\n",
       "      <th>Rainfall</th>\n",
       "      <th>Snowfall</th>\n",
       "      <th>Holiday</th>\n",
       "      <th>year</th>\n",
       "      <th>month</th>\n",
       "      <th>day</th>\n",
       "      <th>week_day</th>\n",
       "      <th>Autumn</th>\n",
       "      <th>Spring</th>\n",
       "      <th>Summer</th>\n",
       "      <th>Winter</th>\n",
       "    </tr>\n",
       "  </thead>\n",
       "  <tbody>\n",
       "    <tr>\n",
       "      <th>0</th>\n",
       "      <td>254</td>\n",
       "      <td>0</td>\n",
       "      <td>-5.2</td>\n",
       "      <td>37</td>\n",
       "      <td>2.2</td>\n",
       "      <td>2000</td>\n",
       "      <td>-17.6</td>\n",
       "      <td>0.0</td>\n",
       "      <td>0.0</td>\n",
       "      <td>0.0</td>\n",
       "      <td>0</td>\n",
       "      <td>2017</td>\n",
       "      <td>12</td>\n",
       "      <td>1</td>\n",
       "      <td>4</td>\n",
       "      <td>0</td>\n",
       "      <td>0</td>\n",
       "      <td>0</td>\n",
       "      <td>1</td>\n",
       "    </tr>\n",
       "    <tr>\n",
       "      <th>1</th>\n",
       "      <td>204</td>\n",
       "      <td>1</td>\n",
       "      <td>-5.5</td>\n",
       "      <td>38</td>\n",
       "      <td>0.8</td>\n",
       "      <td>2000</td>\n",
       "      <td>-17.6</td>\n",
       "      <td>0.0</td>\n",
       "      <td>0.0</td>\n",
       "      <td>0.0</td>\n",
       "      <td>0</td>\n",
       "      <td>2017</td>\n",
       "      <td>12</td>\n",
       "      <td>1</td>\n",
       "      <td>4</td>\n",
       "      <td>0</td>\n",
       "      <td>0</td>\n",
       "      <td>0</td>\n",
       "      <td>1</td>\n",
       "    </tr>\n",
       "    <tr>\n",
       "      <th>2</th>\n",
       "      <td>173</td>\n",
       "      <td>2</td>\n",
       "      <td>-6.0</td>\n",
       "      <td>39</td>\n",
       "      <td>1.0</td>\n",
       "      <td>2000</td>\n",
       "      <td>-17.7</td>\n",
       "      <td>0.0</td>\n",
       "      <td>0.0</td>\n",
       "      <td>0.0</td>\n",
       "      <td>0</td>\n",
       "      <td>2017</td>\n",
       "      <td>12</td>\n",
       "      <td>1</td>\n",
       "      <td>4</td>\n",
       "      <td>0</td>\n",
       "      <td>0</td>\n",
       "      <td>0</td>\n",
       "      <td>1</td>\n",
       "    </tr>\n",
       "    <tr>\n",
       "      <th>3</th>\n",
       "      <td>107</td>\n",
       "      <td>3</td>\n",
       "      <td>-6.2</td>\n",
       "      <td>40</td>\n",
       "      <td>0.9</td>\n",
       "      <td>2000</td>\n",
       "      <td>-17.6</td>\n",
       "      <td>0.0</td>\n",
       "      <td>0.0</td>\n",
       "      <td>0.0</td>\n",
       "      <td>0</td>\n",
       "      <td>2017</td>\n",
       "      <td>12</td>\n",
       "      <td>1</td>\n",
       "      <td>4</td>\n",
       "      <td>0</td>\n",
       "      <td>0</td>\n",
       "      <td>0</td>\n",
       "      <td>1</td>\n",
       "    </tr>\n",
       "    <tr>\n",
       "      <th>4</th>\n",
       "      <td>78</td>\n",
       "      <td>4</td>\n",
       "      <td>-6.0</td>\n",
       "      <td>36</td>\n",
       "      <td>2.3</td>\n",
       "      <td>2000</td>\n",
       "      <td>-18.6</td>\n",
       "      <td>0.0</td>\n",
       "      <td>0.0</td>\n",
       "      <td>0.0</td>\n",
       "      <td>0</td>\n",
       "      <td>2017</td>\n",
       "      <td>12</td>\n",
       "      <td>1</td>\n",
       "      <td>4</td>\n",
       "      <td>0</td>\n",
       "      <td>0</td>\n",
       "      <td>0</td>\n",
       "      <td>1</td>\n",
       "    </tr>\n",
       "  </tbody>\n",
       "</table>\n",
       "</div>"
      ],
      "text/plain": [
       "   Rented Bike Count  Hour  Temperature  Humidity  Windspeed  Visibility  \\\n",
       "0                254     0         -5.2        37        2.2        2000   \n",
       "1                204     1         -5.5        38        0.8        2000   \n",
       "2                173     2         -6.0        39        1.0        2000   \n",
       "3                107     3         -6.2        40        0.9        2000   \n",
       "4                 78     4         -6.0        36        2.3        2000   \n",
       "\n",
       "   DewPointTemperature  SolarRadiation  Rainfall  Snowfall  Holiday  year  \\\n",
       "0                -17.6             0.0       0.0       0.0        0  2017   \n",
       "1                -17.6             0.0       0.0       0.0        0  2017   \n",
       "2                -17.7             0.0       0.0       0.0        0  2017   \n",
       "3                -17.6             0.0       0.0       0.0        0  2017   \n",
       "4                -18.6             0.0       0.0       0.0        0  2017   \n",
       "\n",
       "   month  day  week_day  Autumn  Spring  Summer  Winter  \n",
       "0     12    1         4       0       0       0       1  \n",
       "1     12    1         4       0       0       0       1  \n",
       "2     12    1         4       0       0       0       1  \n",
       "3     12    1         4       0       0       0       1  \n",
       "4     12    1         4       0       0       0       1  "
      ]
     },
     "execution_count": 55,
     "metadata": {},
     "output_type": "execute_result"
    }
   ],
   "source": [
    "df.head()"
   ]
  },
  {
   "cell_type": "code",
   "execution_count": 56,
   "metadata": {},
   "outputs": [
    {
     "name": "stderr",
     "output_type": "stream",
     "text": [
      "C:\\ProgramData\\Anaconda3\\lib\\site-packages\\sklearn\\preprocessing\\data.py:323: DataConversionWarning: Data with input dtype int64, float64 were all converted to float64 by MinMaxScaler.\n",
      "  return self.partial_fit(X, y)\n",
      "C:\\ProgramData\\Anaconda3\\lib\\site-packages\\sklearn\\preprocessing\\data.py:323: DataConversionWarning: Data with input dtype int64, float64 were all converted to float64 by MinMaxScaler.\n",
      "  return self.partial_fit(X, y)\n",
      "C:\\ProgramData\\Anaconda3\\lib\\site-packages\\sklearn\\preprocessing\\data.py:323: DataConversionWarning: Data with input dtype int64, float64 were all converted to float64 by MinMaxScaler.\n",
      "  return self.partial_fit(X, y)\n"
     ]
    },
    {
     "data": {
      "text/plain": [
       "['normalizer.pkl']"
      ]
     },
     "execution_count": 56,
     "metadata": {},
     "output_type": "execute_result"
    }
   ],
   "source": [
    "normalizer = MinMaxScaler()\n",
    "normalizer.fit(df[new_namecolumnns])\n",
    "df[new_namecolumnns]=normalizer.fit_transform(df[new_namecolumnns])\n",
    "dfmonthwdaydummies[new_namecolumnns]=normalizer.fit_transform(dfmonthwdaydummies[new_namecolumnns])\n",
    "\n",
    "normalizer_file_name='normalizer.pkl'\n",
    "joblib.dump(normalizer,normalizer_file_name)\n"
   ]
  },
  {
   "cell_type": "code",
   "execution_count": 57,
   "metadata": {},
   "outputs": [
    {
     "data": {
      "text/plain": [
       "array([  39.4 ,   98.  ,    7.4 , 2000.  ,   27.2 ,    3.52,   35.  ,\n",
       "          8.8 ])"
      ]
     },
     "execution_count": 57,
     "metadata": {},
     "output_type": "execute_result"
    }
   ],
   "source": [
    "normalizer.data_max_"
   ]
  },
  {
   "cell_type": "code",
   "execution_count": 58,
   "metadata": {
    "scrolled": true
   },
   "outputs": [
    {
     "data": {
      "text/plain": [
       "Rented Bike Count      0\n",
       "Hour                   0\n",
       "Temperature            0\n",
       "Humidity               0\n",
       "Windspeed              0\n",
       "Visibility             0\n",
       "DewPointTemperature    0\n",
       "SolarRadiation         0\n",
       "Rainfall               0\n",
       "Snowfall               0\n",
       "Holiday                0\n",
       "year                   0\n",
       "month                  0\n",
       "day                    0\n",
       "week_day               0\n",
       "Autumn                 0\n",
       "Spring                 0\n",
       "Summer                 0\n",
       "Winter                 0\n",
       "dtype: int64"
      ]
     },
     "execution_count": 58,
     "metadata": {},
     "output_type": "execute_result"
    }
   ],
   "source": [
    "df.isna().sum()\n"
   ]
  },
  {
   "cell_type": "code",
   "execution_count": 59,
   "metadata": {},
   "outputs": [
    {
     "data": {
      "text/plain": [
       "Rented Bike Count      0\n",
       "Hour                   0\n",
       "Temperature            0\n",
       "Humidity               0\n",
       "Windspeed              0\n",
       "Visibility             0\n",
       "DewPointTemperature    0\n",
       "SolarRadiation         0\n",
       "Rainfall               0\n",
       "Snowfall               0\n",
       "Holiday                0\n",
       "year                   0\n",
       "day                    0\n",
       "April                  0\n",
       "August                 0\n",
       "December               0\n",
       "February               0\n",
       "January                0\n",
       "July                   0\n",
       "June                   0\n",
       "March                  0\n",
       "May                    0\n",
       "November               0\n",
       "October                0\n",
       "September              0\n",
       "Friday                 0\n",
       "Monday                 0\n",
       "Saturday               0\n",
       "Sunday                 0\n",
       "Thursday               0\n",
       "Tuesday                0\n",
       "Wednesday              0\n",
       "Autumn                 0\n",
       "Spring                 0\n",
       "Summer                 0\n",
       "Winter                 0\n",
       "dtype: int64"
      ]
     },
     "execution_count": 59,
     "metadata": {},
     "output_type": "execute_result"
    }
   ],
   "source": [
    "dfmonthwdaydummies.isna().sum()"
   ]
  },
  {
   "cell_type": "markdown",
   "metadata": {},
   "source": [
    "## Modélisation Prediction \n",
    "\n",
    "Aprés avoir visualiser les données et avoir fait les modifications nécessaires sur les différents features, nous pouvons passer à la prédiction et à l'utilisation de nos modèles.."
   ]
  },
  {
   "cell_type": "markdown",
   "metadata": {},
   "source": [
    "### Train & Test Split\n",
    "\n",
    "On va d'abord split nos 2 datasets de la façon suivante: 80% train et 20% de test. On choisit la proportion de façn aléatoire afin de pas biaiser notre train ou notre test."
   ]
  },
  {
   "cell_type": "code",
   "execution_count": 245,
   "metadata": {},
   "outputs": [],
   "source": [
    "X, Y = df.drop('Rented Bike Count', axis=1), df['Rented Bike Count']\n",
    "X2, Y2 = dfmonthwdaydummies.drop('Rented Bike Count', axis=1), dfmonthwdaydummies['Rented Bike Count']\n",
    "X_train, X_test, Y_train, Y_test = train_test_split(X, Y, test_size=0.2, random_state=97)\n",
    "X_train2, X_test2, Y_train2, Y_test2 = train_test_split(X2, Y2, test_size=0.2, random_state=97)\n"
   ]
  },
  {
   "cell_type": "markdown",
   "metadata": {},
   "source": [
    "On vérifie la taille de nos trains et tests : "
   ]
  },
  {
   "cell_type": "code",
   "execution_count": 246,
   "metadata": {},
   "outputs": [
    {
     "name": "stdout",
     "output_type": "stream",
     "text": [
      "X_train shape: (6772, 18)\n",
      "y_train shape: (6772,)\n",
      "X_test shape: (1693, 18)\n",
      "y_test shape: (1693,)\n",
      "X_train2 shape: (6772, 35)\n",
      "y_train2 shape: (6772,)\n",
      "X_test2 shape: (1693, 35)\n",
      "y_test2 shape: (1693,)\n"
     ]
    }
   ],
   "source": [
    "print(f'X_train shape: {X_train.shape}')\n",
    "print(f'y_train shape: {Y_train.shape}')\n",
    "print(f'X_test shape: {X_test.shape}')\n",
    "print(f'y_test shape: {Y_test.shape}')\n",
    "print(f'X_train2 shape: {X_train2.shape}')\n",
    "print(f'y_train2 shape: {Y_train2.shape}')\n",
    "print(f'X_test2 shape: {X_test2.shape}')\n",
    "print(f'y_test2 shape: {Y_test2.shape}')"
   ]
  },
  {
   "cell_type": "markdown",
   "metadata": {},
   "source": [
    "### Fonction d'évaluation\n",
    "\n",
    "Pour évaluer nos modèles, nous allons créer une fonction retournant les 3 métriques suivantes : MSE, RMSE et R².\n",
    "\n",
    "$$MSE=\\frac{\\sum_{i=1}^{n} (f(x_i)-y_i)²}{n}$$\n",
    "\n",
    "$$RMSE=\\sqrt{MSE}$$\n",
    "\n",
    "\n",
    "$$R²= 1- RSE$$ avec $$RSE= \\frac{\\sum_{i=1}^{n} (f(x_i)-y_i)²}{\\sum_{i=1}^{n} (y_i^-y_i)²}$$"
   ]
  },
  {
   "cell_type": "code",
   "execution_count": 55,
   "metadata": {},
   "outputs": [],
   "source": [
    "def f_evaluation(y,ypred):\n",
    "    return mean_squared_error(y, ypred), math.sqrt(mean_squared_error(y, ypred)), r2_score(y, ypred)"
   ]
  },
  {
   "cell_type": "markdown",
   "metadata": {},
   "source": [
    "En plus de cela, nous créons un dataframe où nous stockons les resultats de nos algorithmes."
   ]
  },
  {
   "cell_type": "code",
   "execution_count": 56,
   "metadata": {},
   "outputs": [],
   "source": [
    "resultat_algo = pd.DataFrame(columns = ['Nom', 'Dataset', 'MSE','RMSE','R²','Set Hypermaters'])"
   ]
  },
  {
   "cell_type": "code",
   "execution_count": 57,
   "metadata": {},
   "outputs": [],
   "source": [
    "def add_line_resultat(name,dataset,mesure,hyper):\n",
    "    i=resultat_algo.shape[0]\n",
    "    resultat_algo.loc[i]=[name,dataset,mesure[0],mesure[1],mesure[2],hyper]"
   ]
  },
  {
   "cell_type": "markdown",
   "metadata": {},
   "source": [
    "### Modèles de régression:\n",
    "\n",
    "Maintenant que nous avons notre fonction d'évaluation, nous pouvons lancer nos premiers modèles. Comme il s'agit d'un problème de régression, nous avons choisi ces 4 algorithmes : LinearRegression, RandomForestRegressor, GradientBoostingRegressor et XGBRegressor.\n",
    "\n",
    "Nous allons d'abord les lancer de manière naïve puis nous utiliserons un GridSearchCV pour trouver le meilleur paramétrage de nos algorithmes."
   ]
  },
  {
   "cell_type": "markdown",
   "metadata": {},
   "source": [
    "#### Linear Regression:"
   ]
  },
  {
   "cell_type": "code",
   "execution_count": 58,
   "metadata": {},
   "outputs": [
    {
     "data": {
      "text/plain": [
       "(185337.818964142, 430.50879080936545, 0.5591096571043632)"
      ]
     },
     "execution_count": 58,
     "metadata": {},
     "output_type": "execute_result"
    }
   ],
   "source": [
    "reg1 = LinearRegression().fit(X_train, Y_train)\n",
    "f_evaluation(Y_test,reg1.predict(X_test))"
   ]
  },
  {
   "cell_type": "code",
   "execution_count": 59,
   "metadata": {},
   "outputs": [
    {
     "data": {
      "text/plain": [
       "(168260.79503839338, 410.19604464011275, 0.5997332868435099)"
      ]
     },
     "execution_count": 59,
     "metadata": {},
     "output_type": "execute_result"
    }
   ],
   "source": [
    "reg2 = LinearRegression().fit(X_train2, Y_train2)\n",
    "f_evaluation(Y_test2,reg2.predict(X_test2))"
   ]
  },
  {
   "cell_type": "markdown",
   "metadata": {},
   "source": [
    "Pour la régression linéaire, c'est le dataset avec les mois et jours One Hot Encoder qui obtient le meilleur résultat avec R²~ 0.6.\n",
    "La régression linéaire ne contenant pas vraiment d'hyperamètres que nous pouvons régler nous même, nous n'effectuons pas de gridsearch pour cette algorithme. Nous stockons nos résulats dans notre dataframe de résultats."
   ]
  },
  {
   "cell_type": "code",
   "execution_count": 60,
   "metadata": {},
   "outputs": [],
   "source": [
    "add_line_resultat('LinearRegression','Month & Wday Label Encoder',f_evaluation(Y_test,reg1.predict(X_test)),'None')\n",
    "add_line_resultat('LinearRegression','Month & Wday One Hot Encoder',f_evaluation(Y_test2,reg2.predict(X_test2)),'None')"
   ]
  },
  {
   "cell_type": "code",
   "execution_count": 61,
   "metadata": {},
   "outputs": [
    {
     "data": {
      "text/html": [
       "<div>\n",
       "<style scoped>\n",
       "    .dataframe tbody tr th:only-of-type {\n",
       "        vertical-align: middle;\n",
       "    }\n",
       "\n",
       "    .dataframe tbody tr th {\n",
       "        vertical-align: top;\n",
       "    }\n",
       "\n",
       "    .dataframe thead th {\n",
       "        text-align: right;\n",
       "    }\n",
       "</style>\n",
       "<table border=\"1\" class=\"dataframe\">\n",
       "  <thead>\n",
       "    <tr style=\"text-align: right;\">\n",
       "      <th></th>\n",
       "      <th>Nom</th>\n",
       "      <th>Dataset</th>\n",
       "      <th>MSE</th>\n",
       "      <th>RMSE</th>\n",
       "      <th>R²</th>\n",
       "      <th>Set Hypermaters</th>\n",
       "    </tr>\n",
       "  </thead>\n",
       "  <tbody>\n",
       "    <tr>\n",
       "      <th>0</th>\n",
       "      <td>LinearRegression</td>\n",
       "      <td>Month &amp; Wday Label Encoder</td>\n",
       "      <td>185337.818964</td>\n",
       "      <td>430.508791</td>\n",
       "      <td>0.559110</td>\n",
       "      <td>None</td>\n",
       "    </tr>\n",
       "    <tr>\n",
       "      <th>1</th>\n",
       "      <td>LinearRegression</td>\n",
       "      <td>Month &amp; Wday One Hot Encoder</td>\n",
       "      <td>168260.795038</td>\n",
       "      <td>410.196045</td>\n",
       "      <td>0.599733</td>\n",
       "      <td>None</td>\n",
       "    </tr>\n",
       "  </tbody>\n",
       "</table>\n",
       "</div>"
      ],
      "text/plain": [
       "                Nom                       Dataset            MSE        RMSE  \\\n",
       "0  LinearRegression    Month & Wday Label Encoder  185337.818964  430.508791   \n",
       "1  LinearRegression  Month & Wday One Hot Encoder  168260.795038  410.196045   \n",
       "\n",
       "         R² Set Hypermaters  \n",
       "0  0.559110            None  \n",
       "1  0.599733            None  "
      ]
     },
     "execution_count": 61,
     "metadata": {},
     "output_type": "execute_result"
    }
   ],
   "source": [
    "resultat_algo"
   ]
  },
  {
   "cell_type": "markdown",
   "metadata": {},
   "source": [
    "#### Random Forest Regressor"
   ]
  },
  {
   "cell_type": "code",
   "execution_count": 62,
   "metadata": {},
   "outputs": [
    {
     "name": "stderr",
     "output_type": "stream",
     "text": [
      "C:\\ProgramData\\Anaconda3\\lib\\site-packages\\sklearn\\ensemble\\forest.py:246: FutureWarning: The default value of n_estimators will change from 10 in version 0.20 to 100 in 0.22.\n",
      "  \"10 in version 0.20 to 100 in 0.22.\", FutureWarning)\n"
     ]
    },
    {
     "data": {
      "text/plain": [
       "RandomForestRegressor(bootstrap=True, criterion='mse', max_depth=None,\n",
       "           max_features='auto', max_leaf_nodes=None,\n",
       "           min_impurity_decrease=0.0, min_impurity_split=None,\n",
       "           min_samples_leaf=1, min_samples_split=2,\n",
       "           min_weight_fraction_leaf=0.0, n_estimators=10, n_jobs=None,\n",
       "           oob_score=False, random_state=9, verbose=0, warm_start=False)"
      ]
     },
     "execution_count": 62,
     "metadata": {},
     "output_type": "execute_result"
    }
   ],
   "source": [
    "rfr1 = RandomForestRegressor(random_state=9)\n",
    "rfr1.fit(X_train, Y_train)"
   ]
  },
  {
   "cell_type": "code",
   "execution_count": 63,
   "metadata": {},
   "outputs": [
    {
     "data": {
      "text/plain": [
       "(27152.873768458358, 164.78129071122837, 0.9354074635533847)"
      ]
     },
     "execution_count": 63,
     "metadata": {},
     "output_type": "execute_result"
    }
   ],
   "source": [
    "f_evaluation(Y_test,rfr1.predict(X_test))"
   ]
  },
  {
   "cell_type": "code",
   "execution_count": 64,
   "metadata": {},
   "outputs": [
    {
     "name": "stderr",
     "output_type": "stream",
     "text": [
      "C:\\ProgramData\\Anaconda3\\lib\\site-packages\\sklearn\\ensemble\\forest.py:246: FutureWarning: The default value of n_estimators will change from 10 in version 0.20 to 100 in 0.22.\n",
      "  \"10 in version 0.20 to 100 in 0.22.\", FutureWarning)\n"
     ]
    },
    {
     "data": {
      "text/plain": [
       "RandomForestRegressor(bootstrap=True, criterion='mse', max_depth=None,\n",
       "           max_features='auto', max_leaf_nodes=None,\n",
       "           min_impurity_decrease=0.0, min_impurity_split=None,\n",
       "           min_samples_leaf=1, min_samples_split=2,\n",
       "           min_weight_fraction_leaf=0.0, n_estimators=10, n_jobs=None,\n",
       "           oob_score=False, random_state=9, verbose=0, warm_start=False)"
      ]
     },
     "execution_count": 64,
     "metadata": {},
     "output_type": "execute_result"
    }
   ],
   "source": [
    "rfr2 = RandomForestRegressor(random_state=9)\n",
    "rfr2.fit(X_train2, Y_train2)"
   ]
  },
  {
   "cell_type": "code",
   "execution_count": 65,
   "metadata": {},
   "outputs": [
    {
     "data": {
      "text/plain": [
       "(27187.789539279383, 164.88720247271885, 0.9353244042713893)"
      ]
     },
     "execution_count": 65,
     "metadata": {},
     "output_type": "execute_result"
    }
   ],
   "source": [
    "f_evaluation(Y_test2,rfr2.predict(X_test2))"
   ]
  },
  {
   "cell_type": "markdown",
   "metadata": {},
   "source": [
    "Essayons maintenant d'obtenir les meilleurs paramètres pour notre algorithme de RandomForestRegressor : "
   ]
  },
  {
   "cell_type": "code",
   "execution_count": 66,
   "metadata": {},
   "outputs": [],
   "source": [
    "param_grid_RFR = {\n",
    "    \"n_estimators\": [10,100,200],\n",
    "    'max_depth': [None, 1,2,3,4,5]   \n",
    "}\n",
    "\n",
    "gridRandomForest = GridSearchCV(RandomForestRegressor(random_state=9), param_grid_RFR, cv=5)"
   ]
  },
  {
   "cell_type": "code",
   "execution_count": 67,
   "metadata": {},
   "outputs": [
    {
     "data": {
      "text/plain": [
       "GridSearchCV(cv=5, error_score='raise-deprecating',\n",
       "       estimator=RandomForestRegressor(bootstrap=True, criterion='mse', max_depth=None,\n",
       "           max_features='auto', max_leaf_nodes=None,\n",
       "           min_impurity_decrease=0.0, min_impurity_split=None,\n",
       "           min_samples_leaf=1, min_samples_split=2,\n",
       "           min_weight_fraction_leaf=0.0, n_estimators='warn', n_jobs=None,\n",
       "           oob_score=False, random_state=9, verbose=0, warm_start=False),\n",
       "       fit_params=None, iid='warn', n_jobs=None,\n",
       "       param_grid={'n_estimators': [10, 100, 200], 'max_depth': [None, 1, 2, 3, 4, 5]},\n",
       "       pre_dispatch='2*n_jobs', refit=True, return_train_score='warn',\n",
       "       scoring=None, verbose=0)"
      ]
     },
     "execution_count": 67,
     "metadata": {},
     "output_type": "execute_result"
    }
   ],
   "source": [
    "gridRandomForest.fit(X_train, Y_train)"
   ]
  },
  {
   "cell_type": "code",
   "execution_count": 68,
   "metadata": {},
   "outputs": [
    {
     "data": {
      "text/plain": [
       "{'max_depth': None, 'n_estimators': 200}"
      ]
     },
     "execution_count": 68,
     "metadata": {},
     "output_type": "execute_result"
    }
   ],
   "source": [
    "gridRandomForest.best_params_"
   ]
  },
  {
   "cell_type": "code",
   "execution_count": 69,
   "metadata": {},
   "outputs": [
    {
     "data": {
      "text/plain": [
       "0.925081897849391"
      ]
     },
     "execution_count": 69,
     "metadata": {},
     "output_type": "execute_result"
    }
   ],
   "source": [
    "gridRandomForest.best_score_"
   ]
  },
  {
   "cell_type": "code",
   "execution_count": 70,
   "metadata": {},
   "outputs": [
    {
     "data": {
      "text/plain": [
       "RandomForestRegressor(bootstrap=True, criterion='mse', max_depth=None,\n",
       "           max_features='auto', max_leaf_nodes=None,\n",
       "           min_impurity_decrease=0.0, min_impurity_split=None,\n",
       "           min_samples_leaf=1, min_samples_split=2,\n",
       "           min_weight_fraction_leaf=0.0, n_estimators=200, n_jobs=None,\n",
       "           oob_score=False, random_state=9, verbose=0, warm_start=False)"
      ]
     },
     "execution_count": 70,
     "metadata": {},
     "output_type": "execute_result"
    }
   ],
   "source": [
    "rfr1_tune = RandomForestRegressor(**gridRandomForest.best_params_, random_state=9)\n",
    "rfr1_tune.fit(X_train, Y_train)"
   ]
  },
  {
   "cell_type": "code",
   "execution_count": 71,
   "metadata": {},
   "outputs": [
    {
     "data": {
      "text/plain": [
       "(24530.028152052568, 156.62065046491335, 0.9416468123794501)"
      ]
     },
     "execution_count": 71,
     "metadata": {},
     "output_type": "execute_result"
    }
   ],
   "source": [
    "f_evaluation(Y_test,rfr1_tune.predict(X_test))"
   ]
  },
  {
   "cell_type": "markdown",
   "metadata": {},
   "source": [
    "On peut voir que l'on gagne beaucoup en précision aprés ce gridsearch. Plus le nombre d'arbres augmentent, plus la précision augmente. Toutefois, le temps de calcul commence à être conséquent à partir de 200 arbres. Ajoutons ce modèle à notre dataframe de résultat et faisons de même pour la dataset 2."
   ]
  },
  {
   "cell_type": "code",
   "execution_count": 72,
   "metadata": {},
   "outputs": [],
   "source": [
    "add_line_resultat('RandomForestRegressor','Month & Wday Label Encoder',f_evaluation(Y_test,rfr1_tune.predict(X_test)),gridRandomForest.best_params_)"
   ]
  },
  {
   "cell_type": "code",
   "execution_count": 73,
   "metadata": {},
   "outputs": [],
   "source": [
    "gridRandomForest2 = GridSearchCV(RandomForestRegressor(random_state=9), param_grid_RFR, cv=5)"
   ]
  },
  {
   "cell_type": "code",
   "execution_count": 74,
   "metadata": {},
   "outputs": [
    {
     "data": {
      "text/plain": [
       "GridSearchCV(cv=5, error_score='raise-deprecating',\n",
       "       estimator=RandomForestRegressor(bootstrap=True, criterion='mse', max_depth=None,\n",
       "           max_features='auto', max_leaf_nodes=None,\n",
       "           min_impurity_decrease=0.0, min_impurity_split=None,\n",
       "           min_samples_leaf=1, min_samples_split=2,\n",
       "           min_weight_fraction_leaf=0.0, n_estimators='warn', n_jobs=None,\n",
       "           oob_score=False, random_state=9, verbose=0, warm_start=False),\n",
       "       fit_params=None, iid='warn', n_jobs=None,\n",
       "       param_grid={'n_estimators': [10, 100, 200], 'max_depth': [None, 1, 2, 3, 4, 5]},\n",
       "       pre_dispatch='2*n_jobs', refit=True, return_train_score='warn',\n",
       "       scoring=None, verbose=0)"
      ]
     },
     "execution_count": 74,
     "metadata": {},
     "output_type": "execute_result"
    }
   ],
   "source": [
    "gridRandomForest2.fit(X_train2, Y_train2)"
   ]
  },
  {
   "cell_type": "code",
   "execution_count": 75,
   "metadata": {},
   "outputs": [
    {
     "data": {
      "text/plain": [
       "RandomForestRegressor(bootstrap=True, criterion='mse', max_depth=None,\n",
       "           max_features='auto', max_leaf_nodes=None,\n",
       "           min_impurity_decrease=0.0, min_impurity_split=None,\n",
       "           min_samples_leaf=1, min_samples_split=2,\n",
       "           min_weight_fraction_leaf=0.0, n_estimators=200, n_jobs=None,\n",
       "           oob_score=False, random_state=9, verbose=0, warm_start=False)"
      ]
     },
     "execution_count": 75,
     "metadata": {},
     "output_type": "execute_result"
    }
   ],
   "source": [
    "rfr2_tune = RandomForestRegressor(**gridRandomForest2.best_params_, random_state=9)\n",
    "rfr2_tune.fit(X_train2, Y_train2)"
   ]
  },
  {
   "cell_type": "code",
   "execution_count": 76,
   "metadata": {},
   "outputs": [
    {
     "data": {
      "text/plain": [
       "(25076.564822401062, 158.35581714102284, 0.9403466851774482)"
      ]
     },
     "execution_count": 76,
     "metadata": {},
     "output_type": "execute_result"
    }
   ],
   "source": [
    "f_evaluation(Y_test2,rfr2_tune.predict(X_test2))"
   ]
  },
  {
   "cell_type": "code",
   "execution_count": 77,
   "metadata": {},
   "outputs": [],
   "source": [
    "add_line_resultat('RandomForestRegressor','Month & Wday One Hot Encoder',f_evaluation(Y_test2,rfr2_tune.predict(X_test2)),gridRandomForest2.best_params_)"
   ]
  },
  {
   "cell_type": "markdown",
   "metadata": {},
   "source": [
    "Voici notre dataframe de résulat à présent : "
   ]
  },
  {
   "cell_type": "code",
   "execution_count": 78,
   "metadata": {},
   "outputs": [
    {
     "data": {
      "text/html": [
       "<div>\n",
       "<style scoped>\n",
       "    .dataframe tbody tr th:only-of-type {\n",
       "        vertical-align: middle;\n",
       "    }\n",
       "\n",
       "    .dataframe tbody tr th {\n",
       "        vertical-align: top;\n",
       "    }\n",
       "\n",
       "    .dataframe thead th {\n",
       "        text-align: right;\n",
       "    }\n",
       "</style>\n",
       "<table border=\"1\" class=\"dataframe\">\n",
       "  <thead>\n",
       "    <tr style=\"text-align: right;\">\n",
       "      <th></th>\n",
       "      <th>Nom</th>\n",
       "      <th>Dataset</th>\n",
       "      <th>MSE</th>\n",
       "      <th>RMSE</th>\n",
       "      <th>R²</th>\n",
       "      <th>Set Hypermaters</th>\n",
       "    </tr>\n",
       "  </thead>\n",
       "  <tbody>\n",
       "    <tr>\n",
       "      <th>0</th>\n",
       "      <td>LinearRegression</td>\n",
       "      <td>Month &amp; Wday Label Encoder</td>\n",
       "      <td>185337.818964</td>\n",
       "      <td>430.508791</td>\n",
       "      <td>0.559110</td>\n",
       "      <td>None</td>\n",
       "    </tr>\n",
       "    <tr>\n",
       "      <th>1</th>\n",
       "      <td>LinearRegression</td>\n",
       "      <td>Month &amp; Wday One Hot Encoder</td>\n",
       "      <td>168260.795038</td>\n",
       "      <td>410.196045</td>\n",
       "      <td>0.599733</td>\n",
       "      <td>None</td>\n",
       "    </tr>\n",
       "    <tr>\n",
       "      <th>2</th>\n",
       "      <td>RandomForestRegressor</td>\n",
       "      <td>Month &amp; Wday Label Encoder</td>\n",
       "      <td>24530.028152</td>\n",
       "      <td>156.620650</td>\n",
       "      <td>0.941647</td>\n",
       "      <td>{'max_depth': None, 'n_estimators': 200}</td>\n",
       "    </tr>\n",
       "    <tr>\n",
       "      <th>3</th>\n",
       "      <td>RandomForestRegressor</td>\n",
       "      <td>Month &amp; Wday One Hot Encoder</td>\n",
       "      <td>25076.564822</td>\n",
       "      <td>158.355817</td>\n",
       "      <td>0.940347</td>\n",
       "      <td>{'max_depth': None, 'n_estimators': 200}</td>\n",
       "    </tr>\n",
       "  </tbody>\n",
       "</table>\n",
       "</div>"
      ],
      "text/plain": [
       "                     Nom                       Dataset            MSE  \\\n",
       "0       LinearRegression    Month & Wday Label Encoder  185337.818964   \n",
       "1       LinearRegression  Month & Wday One Hot Encoder  168260.795038   \n",
       "2  RandomForestRegressor    Month & Wday Label Encoder   24530.028152   \n",
       "3  RandomForestRegressor  Month & Wday One Hot Encoder   25076.564822   \n",
       "\n",
       "         RMSE        R²                           Set Hypermaters  \n",
       "0  430.508791  0.559110                                      None  \n",
       "1  410.196045  0.599733                                      None  \n",
       "2  156.620650  0.941647  {'max_depth': None, 'n_estimators': 200}  \n",
       "3  158.355817  0.940347  {'max_depth': None, 'n_estimators': 200}  "
      ]
     },
     "execution_count": 78,
     "metadata": {},
     "output_type": "execute_result"
    }
   ],
   "source": [
    "resultat_algo"
   ]
  },
  {
   "cell_type": "markdown",
   "metadata": {},
   "source": [
    "#### Gradient Boosting Regressor"
   ]
  },
  {
   "cell_type": "code",
   "execution_count": 79,
   "metadata": {},
   "outputs": [
    {
     "data": {
      "text/plain": [
       "GradientBoostingRegressor(alpha=0.9, criterion='friedman_mse', init=None,\n",
       "             learning_rate=0.1, loss='ls', max_depth=3, max_features=None,\n",
       "             max_leaf_nodes=None, min_impurity_decrease=0.0,\n",
       "             min_impurity_split=None, min_samples_leaf=1,\n",
       "             min_samples_split=2, min_weight_fraction_leaf=0.0,\n",
       "             n_estimators=100, n_iter_no_change=None, presort='auto',\n",
       "             random_state=9, subsample=1.0, tol=0.0001,\n",
       "             validation_fraction=0.1, verbose=0, warm_start=False)"
      ]
     },
     "execution_count": 79,
     "metadata": {},
     "output_type": "execute_result"
    }
   ],
   "source": [
    "gbm1 = GradientBoostingRegressor(random_state=9)\n",
    "gbm1.fit(X_train, Y_train)"
   ]
  },
  {
   "cell_type": "code",
   "execution_count": 80,
   "metadata": {},
   "outputs": [
    {
     "data": {
      "text/plain": [
       "(49603.8345057035, 222.71918306626284, 0.88200005953243)"
      ]
     },
     "execution_count": 80,
     "metadata": {},
     "output_type": "execute_result"
    }
   ],
   "source": [
    "f_evaluation(Y_test,gbm1.predict(X_test))"
   ]
  },
  {
   "cell_type": "code",
   "execution_count": 81,
   "metadata": {},
   "outputs": [
    {
     "data": {
      "text/plain": [
       "GradientBoostingRegressor(alpha=0.9, criterion='friedman_mse', init=None,\n",
       "             learning_rate=0.1, loss='ls', max_depth=3, max_features=None,\n",
       "             max_leaf_nodes=None, min_impurity_decrease=0.0,\n",
       "             min_impurity_split=None, min_samples_leaf=1,\n",
       "             min_samples_split=2, min_weight_fraction_leaf=0.0,\n",
       "             n_estimators=100, n_iter_no_change=None, presort='auto',\n",
       "             random_state=9, subsample=1.0, tol=0.0001,\n",
       "             validation_fraction=0.1, verbose=0, warm_start=False)"
      ]
     },
     "execution_count": 81,
     "metadata": {},
     "output_type": "execute_result"
    }
   ],
   "source": [
    "gbm2 = GradientBoostingRegressor(random_state=9)\n",
    "gbm2.fit(X_train2, Y_train2)"
   ]
  },
  {
   "cell_type": "code",
   "execution_count": 82,
   "metadata": {},
   "outputs": [
    {
     "data": {
      "text/plain": [
       "(49068.1414543005, 221.51329859469047, 0.8832743914223804)"
      ]
     },
     "execution_count": 82,
     "metadata": {},
     "output_type": "execute_result"
    }
   ],
   "source": [
    "f_evaluation(Y_test2,gbm2.predict(X_test2))"
   ]
  },
  {
   "cell_type": "code",
   "execution_count": 83,
   "metadata": {},
   "outputs": [],
   "source": [
    "param_grid_GBM = {\n",
    "    \"n_estimators\": [10,100,200],\n",
    "    'max_depth': [None, 1,2,3,4,5],  \n",
    "    'learning_rate' : [0.001,0.01,0.1,1]\n",
    "}\n",
    "\n",
    "gridGBM = GridSearchCV(GradientBoostingRegressor(random_state=9), param_grid_GBM, cv=5)"
   ]
  },
  {
   "cell_type": "code",
   "execution_count": 84,
   "metadata": {},
   "outputs": [
    {
     "data": {
      "text/plain": [
       "GridSearchCV(cv=5, error_score='raise-deprecating',\n",
       "       estimator=GradientBoostingRegressor(alpha=0.9, criterion='friedman_mse', init=None,\n",
       "             learning_rate=0.1, loss='ls', max_depth=3, max_features=None,\n",
       "             max_leaf_nodes=None, min_impurity_decrease=0.0,\n",
       "             min_impurity_split=None, min_samples_leaf=1,\n",
       "             min_sampl...ate=9, subsample=1.0, tol=0.0001,\n",
       "             validation_fraction=0.1, verbose=0, warm_start=False),\n",
       "       fit_params=None, iid='warn', n_jobs=None,\n",
       "       param_grid={'n_estimators': [10, 100, 200], 'max_depth': [None, 1, 2, 3, 4, 5], 'learning_rate': [0.001, 0.01, 0.1, 1]},\n",
       "       pre_dispatch='2*n_jobs', refit=True, return_train_score='warn',\n",
       "       scoring=None, verbose=0)"
      ]
     },
     "execution_count": 84,
     "metadata": {},
     "output_type": "execute_result"
    }
   ],
   "source": [
    "gridGBM.fit(X_train, Y_train)"
   ]
  },
  {
   "cell_type": "code",
   "execution_count": 85,
   "metadata": {},
   "outputs": [
    {
     "data": {
      "text/plain": [
       "{'learning_rate': 0.1, 'max_depth': 5, 'n_estimators': 200}"
      ]
     },
     "execution_count": 85,
     "metadata": {},
     "output_type": "execute_result"
    }
   ],
   "source": [
    "gridGBM.best_params_"
   ]
  },
  {
   "cell_type": "code",
   "execution_count": 86,
   "metadata": {},
   "outputs": [
    {
     "data": {
      "text/plain": [
       "(22466.747914706346, 149.8891187335036, 0.9465550406968956)"
      ]
     },
     "execution_count": 86,
     "metadata": {},
     "output_type": "execute_result"
    }
   ],
   "source": [
    "f_evaluation(Y_test,gridGBM.predict(X_test))"
   ]
  },
  {
   "cell_type": "code",
   "execution_count": 87,
   "metadata": {},
   "outputs": [
    {
     "data": {
      "text/plain": [
       "GradientBoostingRegressor(alpha=0.9, criterion='friedman_mse', init=None,\n",
       "             learning_rate=0.1, loss='ls', max_depth=5, max_features=None,\n",
       "             max_leaf_nodes=None, min_impurity_decrease=0.0,\n",
       "             min_impurity_split=None, min_samples_leaf=1,\n",
       "             min_samples_split=2, min_weight_fraction_leaf=0.0,\n",
       "             n_estimators=200, n_iter_no_change=None, presort='auto',\n",
       "             random_state=9, subsample=1.0, tol=0.0001,\n",
       "             validation_fraction=0.1, verbose=0, warm_start=False)"
      ]
     },
     "execution_count": 87,
     "metadata": {},
     "output_type": "execute_result"
    }
   ],
   "source": [
    "gbm1_tune = GradientBoostingRegressor(**gridGBM.best_params_, random_state=9)\n",
    "gbm1_tune.fit(X_train, Y_train)"
   ]
  },
  {
   "cell_type": "code",
   "execution_count": 88,
   "metadata": {},
   "outputs": [
    {
     "data": {
      "text/plain": [
       "(22466.747914706346, 149.8891187335036, 0.9465550406968956)"
      ]
     },
     "execution_count": 88,
     "metadata": {},
     "output_type": "execute_result"
    }
   ],
   "source": [
    "f_evaluation(Y_test,gbm1_tune.predict(X_test))"
   ]
  },
  {
   "cell_type": "code",
   "execution_count": 89,
   "metadata": {},
   "outputs": [],
   "source": [
    "gridGBM2 = GridSearchCV(GradientBoostingRegressor(random_state=9), param_grid_GBM, cv=5)"
   ]
  },
  {
   "cell_type": "code",
   "execution_count": 90,
   "metadata": {},
   "outputs": [
    {
     "data": {
      "text/plain": [
       "GridSearchCV(cv=5, error_score='raise-deprecating',\n",
       "       estimator=GradientBoostingRegressor(alpha=0.9, criterion='friedman_mse', init=None,\n",
       "             learning_rate=0.1, loss='ls', max_depth=3, max_features=None,\n",
       "             max_leaf_nodes=None, min_impurity_decrease=0.0,\n",
       "             min_impurity_split=None, min_samples_leaf=1,\n",
       "             min_sampl...ate=9, subsample=1.0, tol=0.0001,\n",
       "             validation_fraction=0.1, verbose=0, warm_start=False),\n",
       "       fit_params=None, iid='warn', n_jobs=None,\n",
       "       param_grid={'n_estimators': [10, 100, 200], 'max_depth': [None, 1, 2, 3, 4, 5], 'learning_rate': [0.001, 0.01, 0.1, 1]},\n",
       "       pre_dispatch='2*n_jobs', refit=True, return_train_score='warn',\n",
       "       scoring=None, verbose=0)"
      ]
     },
     "execution_count": 90,
     "metadata": {},
     "output_type": "execute_result"
    }
   ],
   "source": [
    "gridGBM2.fit(X_train2, Y_train2)"
   ]
  },
  {
   "cell_type": "code",
   "execution_count": 91,
   "metadata": {},
   "outputs": [
    {
     "data": {
      "text/plain": [
       "{'learning_rate': 0.1, 'max_depth': 5, 'n_estimators': 200}"
      ]
     },
     "execution_count": 91,
     "metadata": {},
     "output_type": "execute_result"
    }
   ],
   "source": [
    "gridGBM2.best_params_"
   ]
  },
  {
   "cell_type": "code",
   "execution_count": 92,
   "metadata": {},
   "outputs": [
    {
     "data": {
      "text/plain": [
       "(24139.639031550894, 155.36936323339583, 0.9425754884271272)"
      ]
     },
     "execution_count": 92,
     "metadata": {},
     "output_type": "execute_result"
    }
   ],
   "source": [
    "f_evaluation(Y_test2,gridGBM2.predict(X_test2))"
   ]
  },
  {
   "cell_type": "code",
   "execution_count": 93,
   "metadata": {},
   "outputs": [],
   "source": [
    "add_line_resultat('GradientBoostingRegressor','Month & Wday Label Encoder',f_evaluation(Y_test,gridGBM.predict(X_test)),gridGBM.best_params_)\n",
    "add_line_resultat('GradientBoostingRegressor','Month & Wday One Hot Encoder',f_evaluation(Y_test2,gridGBM2.predict(X_test2)),gridGBM2.best_params_)"
   ]
  },
  {
   "cell_type": "code",
   "execution_count": 94,
   "metadata": {},
   "outputs": [
    {
     "data": {
      "text/html": [
       "<div>\n",
       "<style scoped>\n",
       "    .dataframe tbody tr th:only-of-type {\n",
       "        vertical-align: middle;\n",
       "    }\n",
       "\n",
       "    .dataframe tbody tr th {\n",
       "        vertical-align: top;\n",
       "    }\n",
       "\n",
       "    .dataframe thead th {\n",
       "        text-align: right;\n",
       "    }\n",
       "</style>\n",
       "<table border=\"1\" class=\"dataframe\">\n",
       "  <thead>\n",
       "    <tr style=\"text-align: right;\">\n",
       "      <th></th>\n",
       "      <th>Nom</th>\n",
       "      <th>Dataset</th>\n",
       "      <th>MSE</th>\n",
       "      <th>RMSE</th>\n",
       "      <th>R²</th>\n",
       "      <th>Set Hypermaters</th>\n",
       "    </tr>\n",
       "  </thead>\n",
       "  <tbody>\n",
       "    <tr>\n",
       "      <th>0</th>\n",
       "      <td>LinearRegression</td>\n",
       "      <td>Month &amp; Wday Label Encoder</td>\n",
       "      <td>185337.818964</td>\n",
       "      <td>430.508791</td>\n",
       "      <td>0.559110</td>\n",
       "      <td>None</td>\n",
       "    </tr>\n",
       "    <tr>\n",
       "      <th>1</th>\n",
       "      <td>LinearRegression</td>\n",
       "      <td>Month &amp; Wday One Hot Encoder</td>\n",
       "      <td>168260.795038</td>\n",
       "      <td>410.196045</td>\n",
       "      <td>0.599733</td>\n",
       "      <td>None</td>\n",
       "    </tr>\n",
       "    <tr>\n",
       "      <th>2</th>\n",
       "      <td>RandomForestRegressor</td>\n",
       "      <td>Month &amp; Wday Label Encoder</td>\n",
       "      <td>24530.028152</td>\n",
       "      <td>156.620650</td>\n",
       "      <td>0.941647</td>\n",
       "      <td>{'max_depth': None, 'n_estimators': 200}</td>\n",
       "    </tr>\n",
       "    <tr>\n",
       "      <th>3</th>\n",
       "      <td>RandomForestRegressor</td>\n",
       "      <td>Month &amp; Wday One Hot Encoder</td>\n",
       "      <td>25076.564822</td>\n",
       "      <td>158.355817</td>\n",
       "      <td>0.940347</td>\n",
       "      <td>{'max_depth': None, 'n_estimators': 200}</td>\n",
       "    </tr>\n",
       "    <tr>\n",
       "      <th>4</th>\n",
       "      <td>GradientBoostingRegressor</td>\n",
       "      <td>Month &amp; Wday Label Encoder</td>\n",
       "      <td>22466.747915</td>\n",
       "      <td>149.889119</td>\n",
       "      <td>0.946555</td>\n",
       "      <td>{'learning_rate': 0.1, 'max_depth': 5, 'n_esti...</td>\n",
       "    </tr>\n",
       "    <tr>\n",
       "      <th>5</th>\n",
       "      <td>GradientBoostingRegressor</td>\n",
       "      <td>Month &amp; Wday One Hot Encoder</td>\n",
       "      <td>24139.639032</td>\n",
       "      <td>155.369363</td>\n",
       "      <td>0.942575</td>\n",
       "      <td>{'learning_rate': 0.1, 'max_depth': 5, 'n_esti...</td>\n",
       "    </tr>\n",
       "  </tbody>\n",
       "</table>\n",
       "</div>"
      ],
      "text/plain": [
       "                         Nom                       Dataset            MSE  \\\n",
       "0           LinearRegression    Month & Wday Label Encoder  185337.818964   \n",
       "1           LinearRegression  Month & Wday One Hot Encoder  168260.795038   \n",
       "2      RandomForestRegressor    Month & Wday Label Encoder   24530.028152   \n",
       "3      RandomForestRegressor  Month & Wday One Hot Encoder   25076.564822   \n",
       "4  GradientBoostingRegressor    Month & Wday Label Encoder   22466.747915   \n",
       "5  GradientBoostingRegressor  Month & Wday One Hot Encoder   24139.639032   \n",
       "\n",
       "         RMSE        R²                                    Set Hypermaters  \n",
       "0  430.508791  0.559110                                               None  \n",
       "1  410.196045  0.599733                                               None  \n",
       "2  156.620650  0.941647           {'max_depth': None, 'n_estimators': 200}  \n",
       "3  158.355817  0.940347           {'max_depth': None, 'n_estimators': 200}  \n",
       "4  149.889119  0.946555  {'learning_rate': 0.1, 'max_depth': 5, 'n_esti...  \n",
       "5  155.369363  0.942575  {'learning_rate': 0.1, 'max_depth': 5, 'n_esti...  "
      ]
     },
     "execution_count": 94,
     "metadata": {},
     "output_type": "execute_result"
    }
   ],
   "source": [
    "resultat_algo"
   ]
  },
  {
   "cell_type": "markdown",
   "metadata": {},
   "source": [
    "#### XGBoost Regressor"
   ]
  },
  {
   "cell_type": "code",
   "execution_count": 95,
   "metadata": {},
   "outputs": [],
   "source": [
    "xgb1 = XGBRegressor(random_state=9).fit(X_train, Y_train)"
   ]
  },
  {
   "cell_type": "code",
   "execution_count": 96,
   "metadata": {},
   "outputs": [
    {
     "data": {
      "text/plain": [
       "XGBRegressor(base_score=0.5, booster='gbtree', colsample_bylevel=1,\n",
       "       colsample_bynode=1, colsample_bytree=1, gamma=0, gpu_id=-1,\n",
       "       importance_type='gain', interaction_constraints='',\n",
       "       learning_rate=0.300000012, max_delta_step=0, max_depth=6,\n",
       "       min_child_weight=1, missing=nan, monotone_constraints='()',\n",
       "       n_estimators=100, n_jobs=8, num_parallel_tree=1,\n",
       "       objective='reg:squarederror', random_state=9, reg_alpha=0,\n",
       "       reg_lambda=1, scale_pos_weight=1, subsample=1, tree_method='exact',\n",
       "       validate_parameters=1, verbosity=None)"
      ]
     },
     "execution_count": 96,
     "metadata": {},
     "output_type": "execute_result"
    }
   ],
   "source": [
    "xgb1"
   ]
  },
  {
   "cell_type": "code",
   "execution_count": 97,
   "metadata": {},
   "outputs": [
    {
     "data": {
      "text/plain": [
       "(21556.81739210419, 146.82240085254085, 0.9487196263295714)"
      ]
     },
     "execution_count": 97,
     "metadata": {},
     "output_type": "execute_result"
    }
   ],
   "source": [
    "f_evaluation(Y_test,xgb1.predict(X_test))"
   ]
  },
  {
   "cell_type": "code",
   "execution_count": 98,
   "metadata": {},
   "outputs": [],
   "source": [
    "xgb2 = XGBRegressor(random_state=9).fit(X_train2, Y_train2)"
   ]
  },
  {
   "cell_type": "code",
   "execution_count": 99,
   "metadata": {},
   "outputs": [
    {
     "data": {
      "text/plain": [
       "(21999.997115057027, 148.32396001677216, 0.9476653695075741)"
      ]
     },
     "execution_count": 99,
     "metadata": {},
     "output_type": "execute_result"
    }
   ],
   "source": [
    "f_evaluation(Y_test2,xgb2.predict(X_test2))"
   ]
  },
  {
   "cell_type": "code",
   "execution_count": 100,
   "metadata": {},
   "outputs": [],
   "source": [
    "param_grid_XGB = {\n",
    "    \"n_estimators\": [10,100,200],\n",
    "    'max_depth': [None, 1,2,3,4,5,6],  \n",
    "    'learning_rate' : [0.001,0.01,0.1,1]\n",
    "}\n",
    "\n",
    "gridXGB = GridSearchCV(XGBRegressor(random_state=9), param_grid_XGB, cv=5)"
   ]
  },
  {
   "cell_type": "code",
   "execution_count": 101,
   "metadata": {},
   "outputs": [
    {
     "data": {
      "text/plain": [
       "GridSearchCV(cv=5, error_score='raise-deprecating',\n",
       "       estimator=XGBRegressor(base_score=None, booster=None, colsample_bylevel=None,\n",
       "       colsample_bynode=None, colsample_bytree=None, gamma=None,\n",
       "       gpu_id=None, importance_type='gain', interaction_constraints=None,\n",
       "       learning_rate=None, max_delta_step=None, max_depth=None,\n",
       "       min_child_we..._pos_weight=None, subsample=None,\n",
       "       tree_method=None, validate_parameters=None, verbosity=None),\n",
       "       fit_params=None, iid='warn', n_jobs=None,\n",
       "       param_grid={'n_estimators': [10, 100, 200], 'max_depth': [None, 1, 2, 3, 4, 5, 6], 'learning_rate': [0.001, 0.01, 0.1, 1]},\n",
       "       pre_dispatch='2*n_jobs', refit=True, return_train_score='warn',\n",
       "       scoring=None, verbose=0)"
      ]
     },
     "execution_count": 101,
     "metadata": {},
     "output_type": "execute_result"
    }
   ],
   "source": [
    "gridXGB.fit(X_train, Y_train)"
   ]
  },
  {
   "cell_type": "code",
   "execution_count": 102,
   "metadata": {},
   "outputs": [
    {
     "data": {
      "text/plain": [
       "{'learning_rate': 0.1, 'max_depth': None, 'n_estimators': 200}"
      ]
     },
     "execution_count": 102,
     "metadata": {},
     "output_type": "execute_result"
    }
   ],
   "source": [
    "gridXGB.best_params_"
   ]
  },
  {
   "cell_type": "code",
   "execution_count": 103,
   "metadata": {},
   "outputs": [
    {
     "data": {
      "text/plain": [
       "(20047.73393525047, 141.59002060615174, 0.9523095052138109)"
      ]
     },
     "execution_count": 103,
     "metadata": {},
     "output_type": "execute_result"
    }
   ],
   "source": [
    "f_evaluation(Y_test,gridXGB.predict(X_test))"
   ]
  },
  {
   "cell_type": "code",
   "execution_count": 104,
   "metadata": {},
   "outputs": [
    {
     "data": {
      "text/plain": [
       "XGBRegressor(base_score=0.5, booster='gbtree', colsample_bylevel=1,\n",
       "       colsample_bynode=1, colsample_bytree=1, gamma=0, gpu_id=-1,\n",
       "       importance_type='gain', interaction_constraints='',\n",
       "       learning_rate=0.1, max_delta_step=0, max_depth=6,\n",
       "       min_child_weight=1, missing=nan, monotone_constraints='()',\n",
       "       n_estimators=200, n_jobs=8, num_parallel_tree=1,\n",
       "       objective='reg:squarederror', random_state=9, reg_alpha=0,\n",
       "       reg_lambda=1, scale_pos_weight=1, subsample=1, tree_method='exact',\n",
       "       validate_parameters=1, verbosity=None)"
      ]
     },
     "execution_count": 104,
     "metadata": {},
     "output_type": "execute_result"
    }
   ],
   "source": [
    "xgb1_tune = XGBRegressor(**gridXGB.best_params_, random_state=9)\n",
    "xgb1_tune.fit(X_train, Y_train)"
   ]
  },
  {
   "cell_type": "code",
   "execution_count": 105,
   "metadata": {},
   "outputs": [
    {
     "data": {
      "text/plain": [
       "(20047.73393525047, 141.59002060615174, 0.9523095052138109)"
      ]
     },
     "execution_count": 105,
     "metadata": {},
     "output_type": "execute_result"
    }
   ],
   "source": [
    "f_evaluation(Y_test,xgb1_tune.predict(X_test))"
   ]
  },
  {
   "cell_type": "code",
   "execution_count": 106,
   "metadata": {},
   "outputs": [],
   "source": [
    "gridXGB2 = GridSearchCV(XGBRegressor(random_state=9), param_grid_XGB, cv=5)"
   ]
  },
  {
   "cell_type": "code",
   "execution_count": 107,
   "metadata": {},
   "outputs": [
    {
     "data": {
      "text/plain": [
       "GridSearchCV(cv=5, error_score='raise-deprecating',\n",
       "       estimator=XGBRegressor(base_score=None, booster=None, colsample_bylevel=None,\n",
       "       colsample_bynode=None, colsample_bytree=None, gamma=None,\n",
       "       gpu_id=None, importance_type='gain', interaction_constraints=None,\n",
       "       learning_rate=None, max_delta_step=None, max_depth=None,\n",
       "       min_child_we..._pos_weight=None, subsample=None,\n",
       "       tree_method=None, validate_parameters=None, verbosity=None),\n",
       "       fit_params=None, iid='warn', n_jobs=None,\n",
       "       param_grid={'n_estimators': [10, 100, 200], 'max_depth': [None, 1, 2, 3, 4, 5, 6], 'learning_rate': [0.001, 0.01, 0.1, 1]},\n",
       "       pre_dispatch='2*n_jobs', refit=True, return_train_score='warn',\n",
       "       scoring=None, verbose=0)"
      ]
     },
     "execution_count": 107,
     "metadata": {},
     "output_type": "execute_result"
    }
   ],
   "source": [
    "gridXGB2.fit(X_train2, Y_train2)"
   ]
  },
  {
   "cell_type": "code",
   "execution_count": 108,
   "metadata": {},
   "outputs": [
    {
     "data": {
      "text/plain": [
       "{'learning_rate': 0.1, 'max_depth': None, 'n_estimators': 200}"
      ]
     },
     "execution_count": 108,
     "metadata": {},
     "output_type": "execute_result"
    }
   ],
   "source": [
    "gridXGB2.best_params_"
   ]
  },
  {
   "cell_type": "code",
   "execution_count": 109,
   "metadata": {},
   "outputs": [
    {
     "data": {
      "text/plain": [
       "(20257.230407066436, 142.32789750103962, 0.9518111451283702)"
      ]
     },
     "execution_count": 109,
     "metadata": {},
     "output_type": "execute_result"
    }
   ],
   "source": [
    "f_evaluation(Y_test,gridXGB2.predict(X_test2))"
   ]
  },
  {
   "cell_type": "code",
   "execution_count": 110,
   "metadata": {},
   "outputs": [
    {
     "data": {
      "text/plain": [
       "XGBRegressor(base_score=0.5, booster='gbtree', colsample_bylevel=1,\n",
       "       colsample_bynode=1, colsample_bytree=1, gamma=0, gpu_id=-1,\n",
       "       importance_type='gain', interaction_constraints='',\n",
       "       learning_rate=0.1, max_delta_step=0, max_depth=6,\n",
       "       min_child_weight=1, missing=nan, monotone_constraints='()',\n",
       "       n_estimators=200, n_jobs=8, num_parallel_tree=1,\n",
       "       objective='reg:squarederror', random_state=9, reg_alpha=0,\n",
       "       reg_lambda=1, scale_pos_weight=1, subsample=1, tree_method='exact',\n",
       "       validate_parameters=1, verbosity=None)"
      ]
     },
     "execution_count": 110,
     "metadata": {},
     "output_type": "execute_result"
    }
   ],
   "source": [
    "xgb2_tune = XGBRegressor(**gridXGB2.best_params_, random_state=9)\n",
    "xgb2_tune.fit(X_train2, Y_train2)"
   ]
  },
  {
   "cell_type": "code",
   "execution_count": 111,
   "metadata": {},
   "outputs": [
    {
     "data": {
      "text/plain": [
       "(20257.230407066436, 142.32789750103962, 0.9518111451283702)"
      ]
     },
     "execution_count": 111,
     "metadata": {},
     "output_type": "execute_result"
    }
   ],
   "source": [
    "f_evaluation(Y_test,xgb2_tune.predict(X_test2))"
   ]
  },
  {
   "cell_type": "code",
   "execution_count": 112,
   "metadata": {},
   "outputs": [],
   "source": [
    "add_line_resultat('XGBRegressor','Month & Wday Label Encoder',f_evaluation(Y_test,gridXGB.predict(X_test)),gridXGB.best_params_)\n",
    "add_line_resultat('XGBRegressor','Month & Wday One Hot Encoder',f_evaluation(Y_test,gridXGB2.predict(X_test2)),gridXGB2.best_params_)"
   ]
  },
  {
   "cell_type": "code",
   "execution_count": 113,
   "metadata": {},
   "outputs": [
    {
     "data": {
      "text/html": [
       "<div>\n",
       "<style scoped>\n",
       "    .dataframe tbody tr th:only-of-type {\n",
       "        vertical-align: middle;\n",
       "    }\n",
       "\n",
       "    .dataframe tbody tr th {\n",
       "        vertical-align: top;\n",
       "    }\n",
       "\n",
       "    .dataframe thead th {\n",
       "        text-align: right;\n",
       "    }\n",
       "</style>\n",
       "<table border=\"1\" class=\"dataframe\">\n",
       "  <thead>\n",
       "    <tr style=\"text-align: right;\">\n",
       "      <th></th>\n",
       "      <th>Nom</th>\n",
       "      <th>Dataset</th>\n",
       "      <th>MSE</th>\n",
       "      <th>RMSE</th>\n",
       "      <th>R²</th>\n",
       "      <th>Set Hypermaters</th>\n",
       "    </tr>\n",
       "  </thead>\n",
       "  <tbody>\n",
       "    <tr>\n",
       "      <th>0</th>\n",
       "      <td>LinearRegression</td>\n",
       "      <td>Month &amp; Wday Label Encoder</td>\n",
       "      <td>185337.818964</td>\n",
       "      <td>430.508791</td>\n",
       "      <td>0.559110</td>\n",
       "      <td>None</td>\n",
       "    </tr>\n",
       "    <tr>\n",
       "      <th>1</th>\n",
       "      <td>LinearRegression</td>\n",
       "      <td>Month &amp; Wday One Hot Encoder</td>\n",
       "      <td>168260.795038</td>\n",
       "      <td>410.196045</td>\n",
       "      <td>0.599733</td>\n",
       "      <td>None</td>\n",
       "    </tr>\n",
       "    <tr>\n",
       "      <th>2</th>\n",
       "      <td>RandomForestRegressor</td>\n",
       "      <td>Month &amp; Wday Label Encoder</td>\n",
       "      <td>24530.028152</td>\n",
       "      <td>156.620650</td>\n",
       "      <td>0.941647</td>\n",
       "      <td>{'max_depth': None, 'n_estimators': 200}</td>\n",
       "    </tr>\n",
       "    <tr>\n",
       "      <th>3</th>\n",
       "      <td>RandomForestRegressor</td>\n",
       "      <td>Month &amp; Wday One Hot Encoder</td>\n",
       "      <td>25076.564822</td>\n",
       "      <td>158.355817</td>\n",
       "      <td>0.940347</td>\n",
       "      <td>{'max_depth': None, 'n_estimators': 200}</td>\n",
       "    </tr>\n",
       "    <tr>\n",
       "      <th>4</th>\n",
       "      <td>GradientBoostingRegressor</td>\n",
       "      <td>Month &amp; Wday Label Encoder</td>\n",
       "      <td>22466.747915</td>\n",
       "      <td>149.889119</td>\n",
       "      <td>0.946555</td>\n",
       "      <td>{'learning_rate': 0.1, 'max_depth': 5, 'n_esti...</td>\n",
       "    </tr>\n",
       "    <tr>\n",
       "      <th>5</th>\n",
       "      <td>GradientBoostingRegressor</td>\n",
       "      <td>Month &amp; Wday One Hot Encoder</td>\n",
       "      <td>24139.639032</td>\n",
       "      <td>155.369363</td>\n",
       "      <td>0.942575</td>\n",
       "      <td>{'learning_rate': 0.1, 'max_depth': 5, 'n_esti...</td>\n",
       "    </tr>\n",
       "    <tr>\n",
       "      <th>6</th>\n",
       "      <td>XGBRegressor</td>\n",
       "      <td>Month &amp; Wday Label Encoder</td>\n",
       "      <td>20047.733935</td>\n",
       "      <td>141.590021</td>\n",
       "      <td>0.952310</td>\n",
       "      <td>{'learning_rate': 0.1, 'max_depth': None, 'n_e...</td>\n",
       "    </tr>\n",
       "    <tr>\n",
       "      <th>7</th>\n",
       "      <td>XGBRegressor</td>\n",
       "      <td>Month &amp; Wday One Hot Encoder</td>\n",
       "      <td>20257.230407</td>\n",
       "      <td>142.327898</td>\n",
       "      <td>0.951811</td>\n",
       "      <td>{'learning_rate': 0.1, 'max_depth': None, 'n_e...</td>\n",
       "    </tr>\n",
       "  </tbody>\n",
       "</table>\n",
       "</div>"
      ],
      "text/plain": [
       "                         Nom                       Dataset            MSE  \\\n",
       "0           LinearRegression    Month & Wday Label Encoder  185337.818964   \n",
       "1           LinearRegression  Month & Wday One Hot Encoder  168260.795038   \n",
       "2      RandomForestRegressor    Month & Wday Label Encoder   24530.028152   \n",
       "3      RandomForestRegressor  Month & Wday One Hot Encoder   25076.564822   \n",
       "4  GradientBoostingRegressor    Month & Wday Label Encoder   22466.747915   \n",
       "5  GradientBoostingRegressor  Month & Wday One Hot Encoder   24139.639032   \n",
       "6               XGBRegressor    Month & Wday Label Encoder   20047.733935   \n",
       "7               XGBRegressor  Month & Wday One Hot Encoder   20257.230407   \n",
       "\n",
       "         RMSE        R²                                    Set Hypermaters  \n",
       "0  430.508791  0.559110                                               None  \n",
       "1  410.196045  0.599733                                               None  \n",
       "2  156.620650  0.941647           {'max_depth': None, 'n_estimators': 200}  \n",
       "3  158.355817  0.940347           {'max_depth': None, 'n_estimators': 200}  \n",
       "4  149.889119  0.946555  {'learning_rate': 0.1, 'max_depth': 5, 'n_esti...  \n",
       "5  155.369363  0.942575  {'learning_rate': 0.1, 'max_depth': 5, 'n_esti...  \n",
       "6  141.590021  0.952310  {'learning_rate': 0.1, 'max_depth': None, 'n_e...  \n",
       "7  142.327898  0.951811  {'learning_rate': 0.1, 'max_depth': None, 'n_e...  "
      ]
     },
     "execution_count": 113,
     "metadata": {},
     "output_type": "execute_result"
    }
   ],
   "source": [
    "resultat_algo"
   ]
  },
  {
   "cell_type": "markdown",
   "metadata": {},
   "source": [
    "Maintenant que nous avons les différents résultats de nos algoritmes, nous pouvons les comparer : "
   ]
  },
  {
   "cell_type": "markdown",
   "metadata": {},
   "source": [
    "### Features Importance\n",
    "\n",
    "Pour commencer, nous pouvons voir les features d'importance pour chaque algorithme et les comparer: "
   ]
  },
  {
   "cell_type": "markdown",
   "metadata": {},
   "source": [
    "#### Random Forest Regressor : "
   ]
  },
  {
   "cell_type": "code",
   "execution_count": 114,
   "metadata": {},
   "outputs": [
    {
     "data": {
      "text/plain": [
       "<matplotlib.axes._subplots.AxesSubplot at 0x1dfd3dc2b38>"
      ]
     },
     "execution_count": 114,
     "metadata": {},
     "output_type": "execute_result"
    },
    {
     "data": {
      "image/png": "[encoded data removed]",
      "text/plain": [
       "<Figure size 576x432 with 1 Axes>"
      ]
     },
     "metadata": {
      "needs_background": "light"
     },
     "output_type": "display_data"
    }
   ],
   "source": [
    "feature_RF = pd.DataFrame({'Features': df.drop(\"Rented Bike Count\", axis=1).columns, 'Importances': rfr1_tune.feature_importances_})\n",
    "\n",
    "feature_RF.sort_values('Importances', inplace=True)\n",
    "feature_RF.tail(10).plot(kind='barh', y='Importances', x='Features', figsize=(8, 6), title=\"Random Forest Features Importances\")"
   ]
  },
  {
   "cell_type": "markdown",
   "metadata": {},
   "source": [
    "#### Gradient Boosting Regressor : "
   ]
  },
  {
   "cell_type": "code",
   "execution_count": 115,
   "metadata": {},
   "outputs": [
    {
     "data": {
      "text/plain": [
       "<matplotlib.axes._subplots.AxesSubplot at 0x1dfd5f4a400>"
      ]
     },
     "execution_count": 115,
     "metadata": {},
     "output_type": "execute_result"
    },
    {
     "data": {
      "image/png": "[encoded data removed]",
      "text/plain": [
       "<Figure size 576x432 with 1 Axes>"
      ]
     },
     "metadata": {
      "needs_background": "light"
     },
     "output_type": "display_data"
    }
   ],
   "source": [
    "feature_GBM = pd.DataFrame({'Features': df.drop(\"Rented Bike Count\", axis=1).columns, 'Importances': gbm1_tune.feature_importances_})\n",
    "\n",
    "feature_GBM.sort_values('Importances', inplace=True)\n",
    "feature_GBM.tail(10).plot(kind='barh', y='Importances', x='Features', figsize=(8, 6), title=\"Gradient Boosting Features Importances\")"
   ]
  },
  {
   "cell_type": "markdown",
   "metadata": {},
   "source": [
    "#### XGBoost Regressor : "
   ]
  },
  {
   "cell_type": "code",
   "execution_count": 116,
   "metadata": {},
   "outputs": [
    {
     "data": {
      "text/plain": [
       "<matplotlib.axes._subplots.AxesSubplot at 0x1dfd3ccde10>"
      ]
     },
     "execution_count": 116,
     "metadata": {},
     "output_type": "execute_result"
    },
    {
     "data": {
      "image/png": "[encoded data removed]",
      "text/plain": [
       "<Figure size 576x432 with 1 Axes>"
      ]
     },
     "metadata": {
      "needs_background": "light"
     },
     "output_type": "display_data"
    }
   ],
   "source": [
    "feature_xgb = pd.DataFrame({'Features': df.drop(\"Rented Bike Count\", axis=1).columns, 'Importances': xgb1_tune.feature_importances_})\n",
    "\n",
    "feature_xgb.sort_values('Importances', inplace=True)\n",
    "feature_xgb.tail(10).plot(kind='barh', y='Importances', x='Features', figsize=(8, 6), title=\"XGBoost Features Importances\")"
   ]
  },
  {
   "cell_type": "markdown",
   "metadata": {},
   "source": [
    "Sur les 3 algorithmes, nous pouvons voir que la température et l'heure sont des features très importants. La plui est aussi un feature determinant."
   ]
  },
  {
   "cell_type": "markdown",
   "metadata": {},
   "source": [
    "### Score Comparaison :\n",
    "\n",
    "Comparons à présent la precision entre nos 4 algorithmes : "
   ]
  },
  {
   "cell_type": "code",
   "execution_count": 117,
   "metadata": {},
   "outputs": [
    {
     "data": {
      "text/plain": [
       "<matplotlib.axes._subplots.AxesSubplot at 0x1dfd6042198>"
      ]
     },
     "execution_count": 117,
     "metadata": {},
     "output_type": "execute_result"
    },
    {
     "data": {
      "image/png": "[encoded data removed]",
      "text/plain": [
       "<Figure size 1440x1440 with 2 Axes>"
      ]
     },
     "metadata": {
      "needs_background": "light"
     },
     "output_type": "display_data"
    }
   ],
   "source": [
    "resRMSE = resultat_algo.pivot(\"Nom\", \"Dataset\", \"RMSE\").sort_values(by=\"Month & Wday Label Encoder\")\n",
    "resR2 = resultat_algo.pivot(\"Nom\", \"Dataset\", \"R²\").sort_values(by=\"Month & Wday Label Encoder\")\n",
    "\n",
    "fig = plt.figure(figsize=(20, 20))\n",
    "ax = fig.add_subplot(321) \n",
    "ax2 = fig.add_subplot(322) \n",
    "resRMSE.plot(kind='bar', alpha=0.5,title='Comparaison des modèles avec RMSE',ax=ax)\n",
    "resR2.plot(kind='bar', alpha=0.5,title='Comparaison des modèles avec R²',ax=ax2)"
   ]
  },
  {
   "cell_type": "markdown",
   "metadata": {},
   "source": [
    "Concernant la précision de nos algorithmes, le XGBoostRegressor semble être le plus adapté à notre problème  même si le GradientBoostingRegressor et le RandomForestRegressor ont des résultats quasiment équivalent. La régression linéaire est en dernière position bien évidement car il ne s'agit pas d'un problème linéaire au vue des visualisations qu'on a pu voir. Ensuite, pour la comapraison entre dataset, on peut voir que c'est plutôt similaire. La mesure R² montre que le LabelEncoder donne un meilleur résultat en général alors que avec le RMSE, c'est le One Hot Encoder qui donne une meilleure précisision."
   ]
  },
  {
   "cell_type": "markdown",
   "metadata": {},
   "source": [
    "### Model Exportation for Django App\n",
    "\n",
    "Pour déployer notre modèle, nous allons d'abord enregistrer notre modèle sous la forme d'un fichier pickle. Nous allons faire de même pour notre normalizer et notre encodeur afin que l'on puisse les réutiliser sur de nouvelles entrées. Nous mettrons ensuite en place une API Django afin d'exposer notre modèle et pouvoir prédire le nombre de vélo loués pour d'autres entrées ."
   ]
  },
  {
   "cell_type": "code",
   "execution_count": 565,
   "metadata": {},
   "outputs": [
    {
     "data": {
      "text/plain": [
       "['GBM_model.pkl']"
      ]
     },
     "execution_count": 565,
     "metadata": {},
     "output_type": "execute_result"
    }
   ],
   "source": [
    "model_file_name='GBM_model.pkl'\n",
    "joblib.dump(gbm1_tune,model_file_name)  #enregistrement du modèle "
   ]
  },
  {
   "cell_type": "code",
   "execution_count": 119,
   "metadata": {},
   "outputs": [],
   "source": [
    "model_test_xgb=joblib.load('GBM_model.pkl') #test avec le modèle enregistré"
   ]
  },
  {
   "cell_type": "code",
   "execution_count": 120,
   "metadata": {},
   "outputs": [
    {
     "data": {
      "text/plain": [
       "(20047.73393525047, 141.59002060615174, 0.9523095052138109)"
      ]
     },
     "execution_count": 120,
     "metadata": {},
     "output_type": "execute_result"
    }
   ],
   "source": [
    "f_evaluation(Y_test,model_test_xgb.predict(X_test)) #test "
   ]
  },
  {
   "cell_type": "code",
   "execution_count": 121,
   "metadata": {},
   "outputs": [
    {
     "data": {
      "text/plain": [
       "(20047.73393525047, 141.59002060615174, 0.9523095052138109)"
      ]
     },
     "execution_count": 121,
     "metadata": {},
     "output_type": "execute_result"
    }
   ],
   "source": [
    "f_evaluation(Y_test,xgb1_tune.predict(X_test)) "
   ]
  },
  {
   "cell_type": "code",
   "execution_count": null,
   "metadata": {},
   "outputs": [],
   "source": [
    "df.loc[0].to_json()"
   ]
  },
  {
   "cell_type": "code",
   "execution_count": 130,
   "metadata": {},
   "outputs": [
    {
     "data": {
      "text/html": [
       "<div>\n",
       "<style scoped>\n",
       "    .dataframe tbody tr th:only-of-type {\n",
       "        vertical-align: middle;\n",
       "    }\n",
       "\n",
       "    .dataframe tbody tr th {\n",
       "        vertical-align: top;\n",
       "    }\n",
       "\n",
       "    .dataframe thead th {\n",
       "        text-align: right;\n",
       "    }\n",
       "</style>\n",
       "<table border=\"1\" class=\"dataframe\">\n",
       "  <thead>\n",
       "    <tr style=\"text-align: right;\">\n",
       "      <th></th>\n",
       "      <th>Rented Bike Count</th>\n",
       "      <th>Hour</th>\n",
       "      <th>Temperature</th>\n",
       "      <th>Humidity</th>\n",
       "      <th>Windspeed</th>\n",
       "      <th>Visibility</th>\n",
       "      <th>DewPointTemperature</th>\n",
       "      <th>SolarRadiation</th>\n",
       "      <th>Rainfall</th>\n",
       "      <th>Snowfall</th>\n",
       "      <th>Holiday</th>\n",
       "      <th>year</th>\n",
       "      <th>month</th>\n",
       "      <th>day</th>\n",
       "      <th>week_day</th>\n",
       "      <th>Autumn</th>\n",
       "      <th>Spring</th>\n",
       "      <th>Summer</th>\n",
       "      <th>Winter</th>\n",
       "    </tr>\n",
       "  </thead>\n",
       "  <tbody>\n",
       "    <tr>\n",
       "      <th>0</th>\n",
       "      <td>254</td>\n",
       "      <td>0</td>\n",
       "      <td>0.220280</td>\n",
       "      <td>0.377551</td>\n",
       "      <td>0.297297</td>\n",
       "      <td>1.0</td>\n",
       "      <td>0.224913</td>\n",
       "      <td>0.0</td>\n",
       "      <td>0.0</td>\n",
       "      <td>0.0</td>\n",
       "      <td>0</td>\n",
       "      <td>2017</td>\n",
       "      <td>12</td>\n",
       "      <td>1</td>\n",
       "      <td>4</td>\n",
       "      <td>0</td>\n",
       "      <td>0</td>\n",
       "      <td>0</td>\n",
       "      <td>1</td>\n",
       "    </tr>\n",
       "    <tr>\n",
       "      <th>1</th>\n",
       "      <td>204</td>\n",
       "      <td>1</td>\n",
       "      <td>0.215035</td>\n",
       "      <td>0.387755</td>\n",
       "      <td>0.108108</td>\n",
       "      <td>1.0</td>\n",
       "      <td>0.224913</td>\n",
       "      <td>0.0</td>\n",
       "      <td>0.0</td>\n",
       "      <td>0.0</td>\n",
       "      <td>0</td>\n",
       "      <td>2017</td>\n",
       "      <td>12</td>\n",
       "      <td>1</td>\n",
       "      <td>4</td>\n",
       "      <td>0</td>\n",
       "      <td>0</td>\n",
       "      <td>0</td>\n",
       "      <td>1</td>\n",
       "    </tr>\n",
       "    <tr>\n",
       "      <th>2</th>\n",
       "      <td>173</td>\n",
       "      <td>2</td>\n",
       "      <td>0.206294</td>\n",
       "      <td>0.397959</td>\n",
       "      <td>0.135135</td>\n",
       "      <td>1.0</td>\n",
       "      <td>0.223183</td>\n",
       "      <td>0.0</td>\n",
       "      <td>0.0</td>\n",
       "      <td>0.0</td>\n",
       "      <td>0</td>\n",
       "      <td>2017</td>\n",
       "      <td>12</td>\n",
       "      <td>1</td>\n",
       "      <td>4</td>\n",
       "      <td>0</td>\n",
       "      <td>0</td>\n",
       "      <td>0</td>\n",
       "      <td>1</td>\n",
       "    </tr>\n",
       "    <tr>\n",
       "      <th>3</th>\n",
       "      <td>107</td>\n",
       "      <td>3</td>\n",
       "      <td>0.202797</td>\n",
       "      <td>0.408163</td>\n",
       "      <td>0.121622</td>\n",
       "      <td>1.0</td>\n",
       "      <td>0.224913</td>\n",
       "      <td>0.0</td>\n",
       "      <td>0.0</td>\n",
       "      <td>0.0</td>\n",
       "      <td>0</td>\n",
       "      <td>2017</td>\n",
       "      <td>12</td>\n",
       "      <td>1</td>\n",
       "      <td>4</td>\n",
       "      <td>0</td>\n",
       "      <td>0</td>\n",
       "      <td>0</td>\n",
       "      <td>1</td>\n",
       "    </tr>\n",
       "    <tr>\n",
       "      <th>4</th>\n",
       "      <td>78</td>\n",
       "      <td>4</td>\n",
       "      <td>0.206294</td>\n",
       "      <td>0.367347</td>\n",
       "      <td>0.310811</td>\n",
       "      <td>1.0</td>\n",
       "      <td>0.207612</td>\n",
       "      <td>0.0</td>\n",
       "      <td>0.0</td>\n",
       "      <td>0.0</td>\n",
       "      <td>0</td>\n",
       "      <td>2017</td>\n",
       "      <td>12</td>\n",
       "      <td>1</td>\n",
       "      <td>4</td>\n",
       "      <td>0</td>\n",
       "      <td>0</td>\n",
       "      <td>0</td>\n",
       "      <td>1</td>\n",
       "    </tr>\n",
       "  </tbody>\n",
       "</table>\n",
       "</div>"
      ],
      "text/plain": [
       "   Rented Bike Count  Hour  Temperature  Humidity  Windspeed  Visibility  \\\n",
       "0                254     0     0.220280  0.377551   0.297297         1.0   \n",
       "1                204     1     0.215035  0.387755   0.108108         1.0   \n",
       "2                173     2     0.206294  0.397959   0.135135         1.0   \n",
       "3                107     3     0.202797  0.408163   0.121622         1.0   \n",
       "4                 78     4     0.206294  0.367347   0.310811         1.0   \n",
       "\n",
       "   DewPointTemperature  SolarRadiation  Rainfall  Snowfall  Holiday  year  \\\n",
       "0             0.224913             0.0       0.0       0.0        0  2017   \n",
       "1             0.224913             0.0       0.0       0.0        0  2017   \n",
       "2             0.223183             0.0       0.0       0.0        0  2017   \n",
       "3             0.224913             0.0       0.0       0.0        0  2017   \n",
       "4             0.207612             0.0       0.0       0.0        0  2017   \n",
       "\n",
       "   month  day  week_day  Autumn  Spring  Summer  Winter  \n",
       "0     12    1         4       0       0       0       1  \n",
       "1     12    1         4       0       0       0       1  \n",
       "2     12    1         4       0       0       0       1  \n",
       "3     12    1         4       0       0       0       1  \n",
       "4     12    1         4       0       0       0       1  "
      ]
     },
     "execution_count": 130,
     "metadata": {},
     "output_type": "execute_result"
    }
   ],
   "source": [
    "df.head()"
   ]
  },
  {
   "cell_type": "code",
   "execution_count": 125,
   "metadata": {},
   "outputs": [],
   "source": [
    "new_namecolumnns=['Temperature','Humidity','Windspeed','Visibility','DewPointTemperature','SolarRadiation','Rainfall','Snowfall']\n",
    "for i,name in enumerate(col_to_normalize):\n",
    "    olddf.rename(columns={name: new_namecolumnns[i]}, inplace=True)"
   ]
  },
  {
   "cell_type": "code",
   "execution_count": 131,
   "metadata": {},
   "outputs": [
    {
     "data": {
      "text/plain": [
       "'{\"Date\":\"01\\\\/12\\\\/2017\",\"Rented Bike Count\":254,\"Hour\":0,\"Temperature\":-5.2,\"Humidity\":37,\"Windspeed\":2.2,\"Visibility\":2000,\"DewPointTemperature\":-17.6,\"SolarRadiation\":0.0,\"Rainfall\":0.0,\"Snowfall\":0.0,\"Seasons\":\"Winter\",\"Holiday\":\"No Holiday\",\"Functioning Day\":\"Yes\"}'"
      ]
     },
     "execution_count": 131,
     "metadata": {},
     "output_type": "execute_result"
    }
   ],
   "source": [
    "#olddf.drop('Functioning Day', axis=1)\n",
    "#df=df[df['Functioning Day'] == 'Yes'].drop('Functioning Day', axis=1)\n",
    "olddf.loc[0].to_json()"
   ]
  },
  {
   "cell_type": "code",
   "execution_count": 133,
   "metadata": {},
   "outputs": [],
   "source": [
    "olddf=olddf.drop('Functioning Day', axis=1)"
   ]
  },
  {
   "cell_type": "code",
   "execution_count": 135,
   "metadata": {},
   "outputs": [
    {
     "data": {
      "text/html": [
       "<div>\n",
       "<style scoped>\n",
       "    .dataframe tbody tr th:only-of-type {\n",
       "        vertical-align: middle;\n",
       "    }\n",
       "\n",
       "    .dataframe tbody tr th {\n",
       "        vertical-align: top;\n",
       "    }\n",
       "\n",
       "    .dataframe thead th {\n",
       "        text-align: right;\n",
       "    }\n",
       "</style>\n",
       "<table border=\"1\" class=\"dataframe\">\n",
       "  <thead>\n",
       "    <tr style=\"text-align: right;\">\n",
       "      <th></th>\n",
       "      <th>Date</th>\n",
       "      <th>Rented Bike Count</th>\n",
       "      <th>Hour</th>\n",
       "      <th>Temperature</th>\n",
       "      <th>Humidity</th>\n",
       "      <th>Windspeed</th>\n",
       "      <th>Visibility</th>\n",
       "      <th>DewPointTemperature</th>\n",
       "      <th>SolarRadiation</th>\n",
       "      <th>Rainfall</th>\n",
       "      <th>Snowfall</th>\n",
       "      <th>Seasons</th>\n",
       "      <th>Holiday</th>\n",
       "    </tr>\n",
       "  </thead>\n",
       "  <tbody>\n",
       "    <tr>\n",
       "      <th>0</th>\n",
       "      <td>01/12/2017</td>\n",
       "      <td>254</td>\n",
       "      <td>0</td>\n",
       "      <td>-5.2</td>\n",
       "      <td>37</td>\n",
       "      <td>2.2</td>\n",
       "      <td>2000</td>\n",
       "      <td>-17.6</td>\n",
       "      <td>0.0</td>\n",
       "      <td>0.0</td>\n",
       "      <td>0.0</td>\n",
       "      <td>Winter</td>\n",
       "      <td>No Holiday</td>\n",
       "    </tr>\n",
       "    <tr>\n",
       "      <th>1</th>\n",
       "      <td>01/12/2017</td>\n",
       "      <td>204</td>\n",
       "      <td>1</td>\n",
       "      <td>-5.5</td>\n",
       "      <td>38</td>\n",
       "      <td>0.8</td>\n",
       "      <td>2000</td>\n",
       "      <td>-17.6</td>\n",
       "      <td>0.0</td>\n",
       "      <td>0.0</td>\n",
       "      <td>0.0</td>\n",
       "      <td>Winter</td>\n",
       "      <td>No Holiday</td>\n",
       "    </tr>\n",
       "    <tr>\n",
       "      <th>2</th>\n",
       "      <td>01/12/2017</td>\n",
       "      <td>173</td>\n",
       "      <td>2</td>\n",
       "      <td>-6.0</td>\n",
       "      <td>39</td>\n",
       "      <td>1.0</td>\n",
       "      <td>2000</td>\n",
       "      <td>-17.7</td>\n",
       "      <td>0.0</td>\n",
       "      <td>0.0</td>\n",
       "      <td>0.0</td>\n",
       "      <td>Winter</td>\n",
       "      <td>No Holiday</td>\n",
       "    </tr>\n",
       "    <tr>\n",
       "      <th>3</th>\n",
       "      <td>01/12/2017</td>\n",
       "      <td>107</td>\n",
       "      <td>3</td>\n",
       "      <td>-6.2</td>\n",
       "      <td>40</td>\n",
       "      <td>0.9</td>\n",
       "      <td>2000</td>\n",
       "      <td>-17.6</td>\n",
       "      <td>0.0</td>\n",
       "      <td>0.0</td>\n",
       "      <td>0.0</td>\n",
       "      <td>Winter</td>\n",
       "      <td>No Holiday</td>\n",
       "    </tr>\n",
       "    <tr>\n",
       "      <th>4</th>\n",
       "      <td>01/12/2017</td>\n",
       "      <td>78</td>\n",
       "      <td>4</td>\n",
       "      <td>-6.0</td>\n",
       "      <td>36</td>\n",
       "      <td>2.3</td>\n",
       "      <td>2000</td>\n",
       "      <td>-18.6</td>\n",
       "      <td>0.0</td>\n",
       "      <td>0.0</td>\n",
       "      <td>0.0</td>\n",
       "      <td>Winter</td>\n",
       "      <td>No Holiday</td>\n",
       "    </tr>\n",
       "  </tbody>\n",
       "</table>\n",
       "</div>"
      ],
      "text/plain": [
       "         Date  Rented Bike Count  Hour  Temperature  Humidity  Windspeed  \\\n",
       "0  01/12/2017                254     0         -5.2        37        2.2   \n",
       "1  01/12/2017                204     1         -5.5        38        0.8   \n",
       "2  01/12/2017                173     2         -6.0        39        1.0   \n",
       "3  01/12/2017                107     3         -6.2        40        0.9   \n",
       "4  01/12/2017                 78     4         -6.0        36        2.3   \n",
       "\n",
       "   Visibility  DewPointTemperature  SolarRadiation  Rainfall  Snowfall  \\\n",
       "0        2000                -17.6             0.0       0.0       0.0   \n",
       "1        2000                -17.6             0.0       0.0       0.0   \n",
       "2        2000                -17.7             0.0       0.0       0.0   \n",
       "3        2000                -17.6             0.0       0.0       0.0   \n",
       "4        2000                -18.6             0.0       0.0       0.0   \n",
       "\n",
       "  Seasons     Holiday  \n",
       "0  Winter  No Holiday  \n",
       "1  Winter  No Holiday  \n",
       "2  Winter  No Holiday  \n",
       "3  Winter  No Holiday  \n",
       "4  Winter  No Holiday  "
      ]
     },
     "execution_count": 135,
     "metadata": {},
     "output_type": "execute_result"
    }
   ],
   "source": [
    "olddf.head()"
   ]
  },
  {
   "cell_type": "code",
   "execution_count": 568,
   "metadata": {},
   "outputs": [
    {
     "data": {
      "text/plain": [
       "'{\"Date\":\"01\\\\/12\\\\/2017\",\"Rented Bike Count\":254,\"Hour\":0,\"Temperature(\\\\u00b0C)\":-5.2,\"Humidity(%)\":37,\"Wind speed (m\\\\/s)\":2.2,\"Visibility (10m)\":2000,\"Dew point temperature(\\\\u00b0C)\":-17.6,\"Solar Radiation (MJ\\\\/m2)\":0.0,\"Rainfall(mm)\":0.0,\"Snowfall (cm)\":0.0,\"Seasons\":\"Winter\",\"Holiday\":\"No Holiday\",\"Functioning Day\":\"Yes\"}'"
      ]
     },
     "execution_count": 568,
     "metadata": {},
     "output_type": "execute_result"
    }
   ],
   "source": [
    "olddf.loc[0].to_json()"
   ]
  }
 ],
 "metadata": {
  "kernelspec": {
   "display_name": "Python 3",
   "language": "python",
   "name": "python3"
  },
  "language_info": {
   "codemirror_mode": {
    "name": "ipython",
    "version": 3
   },
   "file_extension": ".py",
   "mimetype": "text/x-python",
   "name": "python",
   "nbconvert_exporter": "python",
   "pygments_lexer": "ipython3",
   "version": "3.7.1"
  }
 },
 "nbformat": 4,
 "nbformat_minor": 2
}
